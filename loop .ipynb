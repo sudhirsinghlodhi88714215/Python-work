{
 "cells": [
  {
   "cell_type": "code",
   "execution_count": 1,
   "id": "b8197ddb-ab35-4f63-a199-a49e09bebf9c",
   "metadata": {},
   "outputs": [],
   "source": [
    "l=[1,2,3,4,5,6]"
   ]
  },
  {
   "cell_type": "code",
   "execution_count": 3,
   "id": "fdae60e1-d29f-4da9-9cf5-493f5963c613",
   "metadata": {},
   "outputs": [
    {
     "name": "stdout",
     "output_type": "stream",
     "text": [
      "1 <class 'int'>\n",
      "2 <class 'int'>\n",
      "3 <class 'int'>\n",
      "4 <class 'int'>\n",
      "5 <class 'int'>\n",
      "6 <class 'int'>\n"
     ]
    }
   ],
   "source": [
    "for i in l:\n",
    "    print(i,type(i))"
   ]
  },
  {
   "cell_type": "code",
   "execution_count": 4,
   "id": "20018614-7254-4916-bb2d-970459a71c57",
   "metadata": {},
   "outputs": [],
   "source": [
    "l1=[\"sudhir\",'bhai','rohit','sra']"
   ]
  },
  {
   "cell_type": "code",
   "execution_count": 5,
   "id": "b42c7739-b24f-4fd7-ad2a-38bc53139423",
   "metadata": {},
   "outputs": [
    {
     "name": "stdout",
     "output_type": "stream",
     "text": [
      "sudhir\n",
      "bhai\n",
      "rohit\n",
      "sra\n"
     ]
    }
   ],
   "source": [
    "for i in l1:\n",
    "    print(i)"
   ]
  },
  {
   "cell_type": "code",
   "execution_count": 6,
   "id": "88f19520-e9e8-4366-8feb-66f526205a4b",
   "metadata": {},
   "outputs": [
    {
     "data": {
      "text/plain": [
       "['sudhir', 'bhai', 'rohit', 'sra']"
      ]
     },
     "execution_count": 6,
     "metadata": {},
     "output_type": "execute_result"
    }
   ],
   "source": [
    "l1"
   ]
  },
  {
   "cell_type": "code",
   "execution_count": 8,
   "id": "4581df24-73f6-4b44-a98f-58fb7e7203ba",
   "metadata": {},
   "outputs": [
    {
     "name": "stdout",
     "output_type": "stream",
     "text": [
      "sudhir\n",
      "bhai\n",
      "rohit\n",
      "sra\n",
      "if for loop is able to complate itself then will execute\n"
     ]
    }
   ],
   "source": [
    "for i in l1:\n",
    "    print(i)\n",
    "else:\n",
    "      print(\"if for loop is able to complate itself then will execute\")"
   ]
  },
  {
   "cell_type": "code",
   "execution_count": 9,
   "id": "a2dd1e75-5999-4a1d-9f3b-901c74b73c54",
   "metadata": {},
   "outputs": [
    {
     "data": {
      "text/plain": [
       "['sudhir', 'bhai', 'rohit', 'sra']"
      ]
     },
     "execution_count": 9,
     "metadata": {},
     "output_type": "execute_result"
    }
   ],
   "source": [
    "l1"
   ]
  },
  {
   "cell_type": "code",
   "execution_count": 17,
   "id": "93f69a3c-6b62-4395-b6f0-496f33da3fb2",
   "metadata": {},
   "outputs": [],
   "source": [
    "for i in l1:\n",
    "    if  i == 'bhai':\n",
    "        break\n",
    "        print(i)"
   ]
  },
  {
   "cell_type": "code",
   "execution_count": 15,
   "id": "2cbee3f2-5138-44b6-b369-1fce3dc92d80",
   "metadata": {},
   "outputs": [
    {
     "data": {
      "text/plain": [
       "False"
      ]
     },
     "execution_count": 15,
     "metadata": {},
     "output_type": "execute_result"
    }
   ],
   "source": [
    "235>452"
   ]
  },
  {
   "cell_type": "code",
   "execution_count": 16,
   "id": "a220c5e1-40f1-4ad9-b777-307a2101d7c8",
   "metadata": {},
   "outputs": [
    {
     "data": {
      "text/plain": [
       "['sudhir', 'bhai', 'rohit', 'sra']"
      ]
     },
     "execution_count": 16,
     "metadata": {},
     "output_type": "execute_result"
    }
   ],
   "source": [
    "l1"
   ]
  },
  {
   "cell_type": "code",
   "execution_count": 1,
   "id": "1c27bb0c-f962-426e-b99e-f7c811e1c3cf",
   "metadata": {},
   "outputs": [
    {
     "ename": "NameError",
     "evalue": "name 'l1' is not defined",
     "output_type": "error",
     "traceback": [
      "\u001b[0;31m---------------------------------------------------------------------------\u001b[0m",
      "\u001b[0;31mNameError\u001b[0m                                 Traceback (most recent call last)",
      "Cell \u001b[0;32mIn[1], line 1\u001b[0m\n\u001b[0;32m----> 1\u001b[0m \u001b[38;5;28;01mfor\u001b[39;00m i \u001b[38;5;129;01min\u001b[39;00m \u001b[43ml1\u001b[49m:\n\u001b[1;32m      2\u001b[0m     \u001b[38;5;28;01mif\u001b[39;00m i \u001b[38;5;241m==\u001b[39m \u001b[38;5;124m'\u001b[39m\u001b[38;5;124mbhai\u001b[39m\u001b[38;5;124m'\u001b[39m:\n\u001b[1;32m      3\u001b[0m         \u001b[38;5;28;01mbreak\u001b[39;00m\n",
      "\u001b[0;31mNameError\u001b[0m: name 'l1' is not defined"
     ]
    }
   ],
   "source": [
    "for i in l1:\n",
    "    if i == 'bhai':\n",
    "        break\n",
    "        print(i)"
   ]
  },
  {
   "cell_type": "code",
   "execution_count": 2,
   "id": "f747ed2a-a942-429c-859d-fdd5d82ba345",
   "metadata": {},
   "outputs": [
    {
     "ename": "NameError",
     "evalue": "name 'l1' is not defined",
     "output_type": "error",
     "traceback": [
      "\u001b[0;31m---------------------------------------------------------------------------\u001b[0m",
      "\u001b[0;31mNameError\u001b[0m                                 Traceback (most recent call last)",
      "Cell \u001b[0;32mIn[2], line 1\u001b[0m\n\u001b[0;32m----> 1\u001b[0m \u001b[43ml1\u001b[49m\n",
      "\u001b[0;31mNameError\u001b[0m: name 'l1' is not defined"
     ]
    }
   ],
   "source": [
    "l1"
   ]
  },
  {
   "cell_type": "code",
   "execution_count": 3,
   "id": "77d722d2-9da3-4bfc-9f3c-4b15e126c029",
   "metadata": {},
   "outputs": [],
   "source": [
    "l1=[\"sudhir\",'bhai','rohit','sra']"
   ]
  },
  {
   "cell_type": "code",
   "execution_count": 4,
   "id": "c2080d00-18db-4665-ad1b-a956b3ba90e4",
   "metadata": {},
   "outputs": [
    {
     "data": {
      "text/plain": [
       "['sudhir', 'bhai', 'rohit', 'sra']"
      ]
     },
     "execution_count": 4,
     "metadata": {},
     "output_type": "execute_result"
    }
   ],
   "source": [
    "l1"
   ]
  },
  {
   "cell_type": "code",
   "execution_count": 25,
   "id": "f47af9cb-3b79-44c9-897f-06e290179de3",
   "metadata": {},
   "outputs": [
    {
     "name": "stdout",
     "output_type": "stream",
     "text": [
      "sudhir\n",
      "bhai\n"
     ]
    }
   ],
   "source": [
    "for i in l1:\n",
    "    if i == 'rohit':\n",
    "        break\n",
    "    print(i)\n",
    "        "
   ]
  },
  {
   "cell_type": "code",
   "execution_count": 27,
   "id": "b235b2db-2bcf-4e34-b0f0-9fa579266ee0",
   "metadata": {},
   "outputs": [
    {
     "name": "stdout",
     "output_type": "stream",
     "text": [
      "sudhir\n"
     ]
    }
   ],
   "source": [
    "for i in l1:\n",
    "    if i== \"bhai\":\n",
    "        break \n",
    "    print(i)    \n",
    "else:\n",
    "      print(\"execute this if for looop is able to complete \")"
   ]
  },
  {
   "cell_type": "code",
   "execution_count": 28,
   "id": "32c3e3ad-4ae3-4e7a-93c3-2e7e277273af",
   "metadata": {},
   "outputs": [
    {
     "data": {
      "text/plain": [
       "['sudhir', 'bhai', 'rohit', 'sra']"
      ]
     },
     "execution_count": 28,
     "metadata": {},
     "output_type": "execute_result"
    }
   ],
   "source": [
    "l1"
   ]
  },
  {
   "cell_type": "code",
   "execution_count": 29,
   "id": "72e8c2eb-285d-483e-984a-610f3572a870",
   "metadata": {},
   "outputs": [
    {
     "name": "stdout",
     "output_type": "stream",
     "text": [
      "sudhir\n",
      "rohit\n",
      "sra\n"
     ]
    }
   ],
   "source": [
    "for i in l1:\n",
    "    if i== 'bhai':\n",
    "        continue\n",
    "    print(i)    "
   ]
  },
  {
   "cell_type": "code",
   "execution_count": 33,
   "id": "f40f1906-e256-4d7a-9b0c-d86c0c660cbc",
   "metadata": {},
   "outputs": [
    {
     "data": {
      "text/plain": [
       "range(0, 100)"
      ]
     },
     "execution_count": 33,
     "metadata": {},
     "output_type": "execute_result"
    }
   ],
   "source": [
    "range(100)"
   ]
  },
  {
   "cell_type": "code",
   "execution_count": 37,
   "id": "d7e7f832-d80d-4203-a831-e5f8960dce37",
   "metadata": {},
   "outputs": [
    {
     "data": {
      "text/plain": [
       "[0, 5, 10, 15, 20, 25, 30, 35, 40, 45, 50, 55, 60, 65, 70, 75, 80, 85, 90, 95]"
      ]
     },
     "execution_count": 37,
     "metadata": {},
     "output_type": "execute_result"
    }
   ],
   "source": [
    "list(range(0,100,5))"
   ]
  },
  {
   "cell_type": "code",
   "execution_count": 38,
   "id": "4401ac18-5e48-43bd-979c-fdd6d306e83c",
   "metadata": {},
   "outputs": [
    {
     "data": {
      "text/plain": [
       "[-10, -9, -8, -7, -6, -5, -4, -3, -2, -1]"
      ]
     },
     "execution_count": 38,
     "metadata": {},
     "output_type": "execute_result"
    }
   ],
   "source": [
    "list(range(-10,0))"
   ]
  },
  {
   "cell_type": "code",
   "execution_count": 42,
   "id": "63923a65-0f92-4351-b2ff-c396f607ba21",
   "metadata": {},
   "outputs": [
    {
     "data": {
      "text/plain": [
       "[0, 1, 2, 3]"
      ]
     },
     "execution_count": 42,
     "metadata": {},
     "output_type": "execute_result"
    }
   ],
   "source": [
    " list(range(len(l1)))"
   ]
  },
  {
   "cell_type": "code",
   "execution_count": 43,
   "id": "de23cb63-6f6f-46a8-a5a8-4129145827a4",
   "metadata": {},
   "outputs": [
    {
     "name": "stdout",
     "output_type": "stream",
     "text": [
      "sudhir\n",
      "bhai\n",
      "rohit\n",
      "sra\n"
     ]
    }
   ],
   "source": [
    "for i in range(len(l1)):\n",
    "    print(l1[i])\n"
   ]
  },
  {
   "cell_type": "code",
   "execution_count": 54,
   "id": "60f3de15-a465-421e-bd2f-30900062f765",
   "metadata": {},
   "outputs": [
    {
     "data": {
      "text/plain": [
       "[4, 3, 2, 1]"
      ]
     },
     "execution_count": 54,
     "metadata": {},
     "output_type": "execute_result"
    }
   ],
   "source": [
    " list(range(len(l1) ,0,-1))"
   ]
  },
  {
   "cell_type": "code",
   "execution_count": 51,
   "id": "16a3ee50-3051-4528-b4fa-1f310b1c820d",
   "metadata": {},
   "outputs": [
    {
     "data": {
      "text/plain": [
       "[3, 2, 1, 0]"
      ]
     },
     "execution_count": 51,
     "metadata": {},
     "output_type": "execute_result"
    }
   ],
   "source": [
    " list(range(len(l1)-1,-1,-1))"
   ]
  },
  {
   "cell_type": "code",
   "execution_count": 56,
   "id": "bcaec184-60db-4008-8013-594f0ee05e49",
   "metadata": {},
   "outputs": [
    {
     "name": "stdout",
     "output_type": "stream",
     "text": [
      "sra\n",
      "rohit\n",
      "bhai\n",
      "sudhir\n"
     ]
    }
   ],
   "source": [
    "for i in range(len(l1)-1,-1,-1):\n",
    "    print(l1[i])"
   ]
  },
  {
   "cell_type": "code",
   "execution_count": 57,
   "id": "51687462-7724-41ec-a8d2-b91fab380396",
   "metadata": {},
   "outputs": [],
   "source": [
    "l2=[11,22,33,44,55,66,77,88,99,11,22,77]"
   ]
  },
  {
   "cell_type": "code",
   "execution_count": 59,
   "id": "c9b26737-0ebf-461b-b9e8-6c93d8a28b22",
   "metadata": {},
   "outputs": [
    {
     "data": {
      "text/plain": [
       "[0, 2, 4, 6, 8, 10]"
      ]
     },
     "execution_count": 59,
     "metadata": {},
     "output_type": "execute_result"
    }
   ],
   "source": [
    "list(range(0,len(l2),2))"
   ]
  },
  {
   "cell_type": "code",
   "execution_count": 61,
   "id": "8f6470c4-23e0-4e4e-be93-83d346f96d26",
   "metadata": {},
   "outputs": [
    {
     "name": "stdout",
     "output_type": "stream",
     "text": [
      "11\n",
      "33\n",
      "55\n",
      "77\n",
      "99\n",
      "22\n"
     ]
    }
   ],
   "source": [
    "for i in  range(0,len(l2),2):\n",
    "    print(l2[i])"
   ]
  },
  {
   "cell_type": "code",
   "execution_count": 62,
   "id": "d15a4a45-f998-4fea-95ac-0efc8b14ec8e",
   "metadata": {},
   "outputs": [],
   "source": [
    "l3=[1,2,3,4,5,6,7,8,9]"
   ]
  },
  {
   "cell_type": "code",
   "execution_count": 63,
   "id": "47dd39d2-e834-471a-b70f-95c0ee8400fa",
   "metadata": {},
   "outputs": [
    {
     "data": {
      "text/plain": [
       "45"
      ]
     },
     "execution_count": 63,
     "metadata": {},
     "output_type": "execute_result"
    }
   ],
   "source": [
    "sum(l3)"
   ]
  },
  {
   "cell_type": "code",
   "execution_count": 64,
   "id": "bb4fb84f-f0ef-436e-ab4e-9affa9cf0e25",
   "metadata": {},
   "outputs": [
    {
     "data": {
      "text/plain": [
       "45"
      ]
     },
     "execution_count": 64,
     "metadata": {},
     "output_type": "execute_result"
    }
   ],
   "source": [
    "result=0\n",
    "for i in l3:\n",
    "    result=result+i\n",
    "result    \n",
    "    "
   ]
  },
  {
   "cell_type": "code",
   "execution_count": 68,
   "id": "a8e6ba1f-7c9d-4e30-804d-9baf8c008c4b",
   "metadata": {},
   "outputs": [],
   "source": [
    " t= (1,2,3,4,5,6)"
   ]
  },
  {
   "cell_type": "code",
   "execution_count": 69,
   "id": "1168e1cf-7467-4d75-911c-416efb9ee6ca",
   "metadata": {},
   "outputs": [
    {
     "name": "stdout",
     "output_type": "stream",
     "text": [
      "1\n",
      "2\n",
      "3\n",
      "4\n",
      "5\n",
      "6\n"
     ]
    }
   ],
   "source": [
    "for i in t :\n",
    "    print(i)"
   ]
  },
  {
   "cell_type": "code",
   "execution_count": 71,
   "id": "e4b2409b-579d-4924-86ed-990461d76ad0",
   "metadata": {},
   "outputs": [
    {
     "data": {
      "text/plain": [
       "21"
      ]
     },
     "execution_count": 71,
     "metadata": {},
     "output_type": "execute_result"
    }
   ],
   "source": [
    "bhai =0\n",
    "for i in t:\n",
    "         bhai=bhai+i\n",
    "bhai"
   ]
  },
  {
   "cell_type": "code",
   "execution_count": 72,
   "id": "7c8940cd-e7c8-4777-91a0-69d14cb0029e",
   "metadata": {},
   "outputs": [],
   "source": [
    "s={1,2,3,4,5,6,7,8,9}"
   ]
  },
  {
   "cell_type": "code",
   "execution_count": 73,
   "id": "d937755b-d58e-4943-8b99-bf5318519186",
   "metadata": {},
   "outputs": [
    {
     "data": {
      "text/plain": [
       "{1, 2, 3, 4, 5, 6, 7, 8, 9}"
      ]
     },
     "execution_count": 73,
     "metadata": {},
     "output_type": "execute_result"
    }
   ],
   "source": [
    "s"
   ]
  },
  {
   "cell_type": "code",
   "execution_count": 74,
   "id": "cb53fd7f-0977-473d-8ac4-b2dbfbbc1bc5",
   "metadata": {},
   "outputs": [
    {
     "name": "stdout",
     "output_type": "stream",
     "text": [
      "1\n",
      "2\n",
      "3\n",
      "4\n",
      "5\n",
      "6\n",
      "7\n",
      "8\n",
      "9\n"
     ]
    }
   ],
   "source": [
    "for i in s:\n",
    "    print(i)"
   ]
  },
  {
   "cell_type": "code",
   "execution_count": 75,
   "id": "1f0bcc44-6c76-4d14-aa26-1a6fb0d9cb90",
   "metadata": {},
   "outputs": [],
   "source": [
    "s1='pwskill'\n"
   ]
  },
  {
   "cell_type": "code",
   "execution_count": 77,
   "id": "c2a039a2-1df2-44fd-898e-b5f04bc29e64",
   "metadata": {},
   "outputs": [
    {
     "name": "stdout",
     "output_type": "stream",
     "text": [
      "p\n",
      "w\n",
      "s\n",
      "k\n",
      "i\n",
      "l\n",
      "l\n"
     ]
    }
   ],
   "source": [
    "for i in s1:\n",
    "    print(i )"
   ]
  },
  {
   "cell_type": "code",
   "execution_count": 78,
   "id": "40eaaebf-5456-4e14-b18a-c951208658da",
   "metadata": {},
   "outputs": [],
   "source": [
    "d={'key':'sudhir','class':'data',}"
   ]
  },
  {
   "cell_type": "code",
   "execution_count": 79,
   "id": "3756c3fa-ea26-4d51-b986-78898b68f72f",
   "metadata": {},
   "outputs": [
    {
     "data": {
      "text/plain": [
       "{'key': 'sudhir', 'class': 'data'}"
      ]
     },
     "execution_count": 79,
     "metadata": {},
     "output_type": "execute_result"
    }
   ],
   "source": [
    "d"
   ]
  },
  {
   "cell_type": "code",
   "execution_count": 81,
   "id": "5297d438-5cb3-4e1f-bee2-95709f8780b6",
   "metadata": {},
   "outputs": [
    {
     "data": {
      "text/plain": [
       "'sudhir'"
      ]
     },
     "execution_count": 81,
     "metadata": {},
     "output_type": "execute_result"
    }
   ],
   "source": [
    "d['key']"
   ]
  },
  {
   "cell_type": "code",
   "execution_count": 84,
   "id": "ca8b50e2-8a49-408f-adda-7ef140acec7f",
   "metadata": {},
   "outputs": [
    {
     "name": "stdout",
     "output_type": "stream",
     "text": [
      "sudhir\n",
      "data\n"
     ]
    }
   ],
   "source": [
    "for i in d.keys():\n",
    "    print(d[i])"
   ]
  },
  {
   "cell_type": "code",
   "execution_count": 85,
   "id": "41e0b264-c124-4d97-a716-67a88fdff458",
   "metadata": {},
   "outputs": [
    {
     "data": {
      "text/plain": [
       "dict_values(['sudhir', 'data'])"
      ]
     },
     "execution_count": 85,
     "metadata": {},
     "output_type": "execute_result"
    }
   ],
   "source": [
    "d.values()"
   ]
  },
  {
   "cell_type": "code",
   "execution_count": 86,
   "id": "5f531773-e3ba-4f6d-853f-993d4c7188e5",
   "metadata": {},
   "outputs": [
    {
     "name": "stdout",
     "output_type": "stream",
     "text": [
      "('key', 'sudhir')\n",
      "('class', 'data')\n"
     ]
    }
   ],
   "source": [
    "for i in d.items():\n",
    "    \n",
    "\n",
    "    print(i)"
   ]
  },
  {
   "cell_type": "code",
   "execution_count": 2,
   "id": "caeaa39d-93e4-48ed-8d7e-279f82000860",
   "metadata": {},
   "outputs": [
    {
     "name": "stdout",
     "output_type": "stream",
     "text": [
      "1\n",
      "2\n",
      "3\n",
      "4\n",
      "5\n",
      "6\n",
      "7\n",
      "8\n",
      "9\n",
      "10\n"
     ]
    }
   ],
   "source": [
    "a=1\n",
    "while a<=10:\n",
    "    print(a)\n",
    "    a=a+1"
   ]
  },
  {
   "cell_type": "code",
   "execution_count": 3,
   "id": "74cb694c-6b26-4468-803b-d98ea5eb75be",
   "metadata": {},
   "outputs": [
    {
     "name": "stdin",
     "output_type": "stream",
     "text": [
      "enter the number 5\n"
     ]
    },
    {
     "data": {
      "text/plain": [
       "15"
      ]
     },
     "execution_count": 3,
     "metadata": {},
     "output_type": "execute_result"
    }
   ],
   "source": [
    "n = int(input('enter the number'))\n",
    "starting_point = 0\n",
    "counter = 1\n",
    "\n",
    "while  counter <= n:\n",
    "        starting_point = starting_point + counter\n",
    "        counter = counter + 1\n",
    "starting_point  "
   ]
  },
  {
   "cell_type": "code",
   "execution_count": null,
   "id": "87bad492-c8e3-4efb-b006-e3d9cb3b03ee",
   "metadata": {},
   "outputs": [],
   "source": [
    "124>214"
   ]
  },
  {
   "cell_type": "code",
   "execution_count": null,
   "id": "b7fd9aac-7047-4f8d-b775-79ccadb579fd",
   "metadata": {},
   "outputs": [],
   "source": [
    "254>=254"
   ]
  },
  {
   "cell_type": "code",
   "execution_count": 3,
   "id": "9bb6483b-3f08-4f85-bcec-9b400bc98815",
   "metadata": {},
   "outputs": [
    {
     "name": "stdin",
     "output_type": "stream",
     "text": [
      "enter the number 5\n"
     ]
    },
    {
     "data": {
      "text/plain": [
       "120"
      ]
     },
     "execution_count": 3,
     "metadata": {},
     "output_type": "execute_result"
    }
   ],
   "source": [
    "number = int(input(\"enter the number\"))\n",
    "factorial = 1\n",
    "while number > 0 :\n",
    "        factorial = factorial*number\n",
    "        number = number - 1\n",
    "factorial\n"
   ]
  },
  {
   "cell_type": "code",
   "execution_count": 27,
   "id": "9b89fa01-fef1-47be-a9ff-08d887b5985a",
   "metadata": {},
   "outputs": [
    {
     "name": "stdin",
     "output_type": "stream",
     "text": [
      "enter the number 5\n"
     ]
    },
    {
     "name": "stdout",
     "output_type": "stream",
     "text": [
      "0\n",
      "1\n",
      "1\n",
      "2\n",
      "3\n"
     ]
    }
   ],
   "source": [
    "number = int(input('enter the number'))\n",
    "a , b = 0 , 1\n",
    "counter = 0\n",
    "while counter < number :\n",
    "           print(a)\n",
    "           c = a + b\n",
    "           a = b\n",
    "           b =  c\n",
    "           counter = counter + 1\n",
    "           "
   ]
  },
  {
   "cell_type": "code",
   "execution_count": 28,
   "id": "913c4065-051a-4e5c-afc6-aa0fb7b01ede",
   "metadata": {},
   "outputs": [
    {
     "name": "stdin",
     "output_type": "stream",
     "text": [
      "enter the number 10\n"
     ]
    },
    {
     "name": "stdout",
     "output_type": "stream",
     "text": [
      "0\n",
      "1\n",
      "1\n",
      "2\n",
      "3\n",
      "5\n",
      "8\n",
      "13\n",
      "21\n",
      "34\n"
     ]
    }
   ],
   "source": [
    "number = int(input('enter the number'))\n",
    "a,b =0,1\n",
    "counter = 0\n",
    "while counter < number:\n",
    "        print(a)\n",
    "        c =a+b\n",
    "        a =b\n",
    "        b =c\n",
    "        counter =counter+1"
   ]
  },
  {
   "cell_type": "code",
   "execution_count": 31,
   "id": "cb09ad77-1f38-4900-8252-37213caa4f18",
   "metadata": {},
   "outputs": [
    {
     "name": "stdout",
     "output_type": "stream",
     "text": [
      "0\n",
      "1\n",
      "1\n",
      "2\n",
      "3\n",
      "5\n",
      "8\n",
      "13\n",
      "21\n",
      "34\n"
     ]
    }
   ],
   "source": [
    "a ,b =0 ,1\n",
    " \n",
    "for i in range(10):\n",
    "      print(a)\n",
    "      c =a+b\n",
    "      a =b\n",
    "      b =c\n",
    "        "
   ]
  },
  {
   "cell_type": "code",
   "execution_count": 32,
   "id": "799b17d7-5927-4918-ac07-518f5319184d",
   "metadata": {},
   "outputs": [],
   "source": [
    "s = 'sudhir'"
   ]
  },
  {
   "cell_type": "code",
   "execution_count": 33,
   "id": "ba65d59d-564f-4d39-b6ba-8468b6329e86",
   "metadata": {},
   "outputs": [
    {
     "data": {
      "text/plain": [
       "'rihdus'"
      ]
     },
     "execution_count": 33,
     "metadata": {},
     "output_type": "execute_result"
    }
   ],
   "source": [
    "s[::-1]"
   ]
  },
  {
   "cell_type": "code",
   "execution_count": 34,
   "id": "4401199c-dff2-416c-803b-32c1ae45112c",
   "metadata": {},
   "outputs": [
    {
     "data": {
      "text/plain": [
       "6"
      ]
     },
     "execution_count": 34,
     "metadata": {},
     "output_type": "execute_result"
    }
   ],
   "source": [
    "len('sudhir')"
   ]
  },
  {
   "cell_type": "code",
   "execution_count": 7,
   "id": "1f4a6b4a-6db9-4234-8085-26b0ad1ed49a",
   "metadata": {},
   "outputs": [
    {
     "name": "stdin",
     "output_type": "stream",
     "text": [
      "enter the number 5\n"
     ]
    },
    {
     "name": "stdout",
     "output_type": "stream",
     "text": [
      "5\n",
      "10\n",
      "15\n",
      "20\n",
      "25\n",
      "30\n",
      "35\n",
      "40\n",
      "45\n",
      "50\n",
      "55\n",
      "60\n",
      "65\n",
      "70\n",
      "75\n",
      "80\n",
      "85\n",
      "90\n",
      "95\n",
      "100\n"
     ]
    }
   ],
   "source": [
    "n=int(input('enter the number'))\n",
    "i = 1\n",
    "\n",
    "while i<=20:\n",
    "    result = n *i\n",
    "    print( result)\n",
    "    i = i + 1\n"
   ]
  },
  {
   "cell_type": "code",
   "execution_count": 2,
   "id": "7c8b8e43-b555-471a-a7f1-595c68ef7a28",
   "metadata": {},
   "outputs": [
    {
     "name": "stdout",
     "output_type": "stream",
     "text": [
      "1\n",
      "2\n",
      "3\n"
     ]
    }
   ],
   "source": [
    "n = 6\n",
    "i = 1\n",
    "while i < n :\n",
    "    print(i)\n",
    "    if i == 3 :\n",
    "            break\n",
    "    i = i + 1\n",
    "else :\n",
    "    print('this is my lering')"
   ]
  },
  {
   "cell_type": "code",
   "execution_count": 10,
   "id": "a7738ad8-2f75-4a85-b208-9ef0d42f0be9",
   "metadata": {},
   "outputs": [],
   "source": [
    "l=[1,2,3,4,5,6,7,8,9]\n",
    "l1= []\n",
    "for i in l:\n",
    "    (l1.append(i**2))"
   ]
  },
  {
   "cell_type": "code",
   "execution_count": 6,
   "id": "e1906d85-222d-41c8-9480-e5c391360beb",
   "metadata": {},
   "outputs": [
    {
     "data": {
      "text/plain": [
       "[1, 4, 9, 16, 25, 36, 49, 64, 81]"
      ]
     },
     "execution_count": 6,
     "metadata": {},
     "output_type": "execute_result"
    }
   ],
   "source": [
    "l1"
   ]
  },
  {
   "cell_type": "code",
   "execution_count": 7,
   "id": "514f53ff-236f-4692-b910-a57c0d104391",
   "metadata": {},
   "outputs": [],
   "source": [
    "l2 = ['sudhir','bhai', 'rohit','ma']"
   ]
  },
  {
   "cell_type": "code",
   "execution_count": 8,
   "id": "46fea6be-0ba8-4273-b346-671c79f1d8fb",
   "metadata": {},
   "outputs": [
    {
     "data": {
      "text/plain": [
       "['SUDHIR', 'BHAI', 'ROHIT', 'MA']"
      ]
     },
     "execution_count": 8,
     "metadata": {},
     "output_type": "execute_result"
    }
   ],
   "source": [
    "[i.upper() for i in l2]"
   ]
  },
  {
   "cell_type": "code",
   "execution_count": 25,
   "id": "5464fdcc-628b-4c56-9271-aa41476a7aea",
   "metadata": {},
   "outputs": [],
   "source": [
    "d ={'key1':1,'key2':2,'key3':3,'key4':4}"
   ]
  },
  {
   "cell_type": "code",
   "execution_count": 26,
   "id": "0caae7be-145e-4ec7-8a43-2602efe65236",
   "metadata": {},
   "outputs": [
    {
     "data": {
      "text/plain": [
       "{'key1': 1, 'key2': 4, 'key3': 9, 'key4': 16}"
      ]
     },
     "execution_count": 26,
     "metadata": {},
     "output_type": "execute_result"
    }
   ],
   "source": [
    "{k :v**2 for k , v in d.items()}"
   ]
  },
  {
   "cell_type": "code",
   "execution_count": 27,
   "id": "f314f2a8-4bfd-4f82-a20e-6eb73ffb5729",
   "metadata": {},
   "outputs": [
    {
     "data": {
      "text/plain": [
       "dict_items([('key1', 1), ('key2', 2), ('key3', 3), ('key4', 4)])"
      ]
     },
     "execution_count": 27,
     "metadata": {},
     "output_type": "execute_result"
    }
   ],
   "source": [
    "d.items()"
   ]
  },
  {
   "cell_type": "code",
   "execution_count": 37,
   "id": "60f3a69a-9106-4c06-9fb9-cda114144fae",
   "metadata": {},
   "outputs": [
    {
     "data": {
      "text/plain": [
       "{'key2': 2, 'key3': 3, 'key4': 4}"
      ]
     },
     "execution_count": 37,
     "metadata": {},
     "output_type": "execute_result"
    }
   ],
   "source": [
    "{k : v for k , v in d.items() if v > 1}"
   ]
  },
  {
   "cell_type": "code",
   "execution_count": null,
   "id": "1309b740-7271-4251-8429-10c22e8d0995",
   "metadata": {},
   "outputs": [],
   "source": []
  }
 ],
 "metadata": {
  "kernelspec": {
   "display_name": "Python 3 (ipykernel)",
   "language": "python",
   "name": "python3"
  },
  "language_info": {
   "codemirror_mode": {
    "name": "ipython",
    "version": 3
   },
   "file_extension": ".py",
   "mimetype": "text/x-python",
   "name": "python",
   "nbconvert_exporter": "python",
   "pygments_lexer": "ipython3",
   "version": "3.10.8"
  }
 },
 "nbformat": 4,
 "nbformat_minor": 5
}
