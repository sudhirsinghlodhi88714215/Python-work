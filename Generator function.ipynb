{
 "cells": [
  {
   "cell_type": "code",
   "execution_count": 1,
   "id": "6bde706f-5b5d-402b-8540-3cdac2102a2c",
   "metadata": {},
   "outputs": [
    {
     "data": {
      "text/plain": [
       "range(0, 10)"
      ]
     },
     "execution_count": 1,
     "metadata": {},
     "output_type": "execute_result"
    }
   ],
   "source": [
    "range(10)"
   ]
  },
  {
   "cell_type": "code",
   "execution_count": 1,
   "id": "6340097e-f068-43ac-b372-bad80b8b7c28",
   "metadata": {},
   "outputs": [
    {
     "name": "stdout",
     "output_type": "stream",
     "text": [
      "0\n",
      "1\n",
      "2\n",
      "3\n",
      "4\n",
      "5\n",
      "6\n",
      "7\n",
      "8\n",
      "9\n"
     ]
    }
   ],
   "source": [
    "for i in range(10):\n",
    "      print(i)"
   ]
  },
  {
   "cell_type": "code",
   "execution_count": 7,
   "id": "7e9af613-22a4-4118-ade3-87f760bca7f6",
   "metadata": {},
   "outputs": [],
   "source": [
    "def test_fib(n):\n",
    "    a,b = 0,1\n",
    "    for i in range(n):\n",
    "        yield a\n",
    "        a,b = b , a+b"
   ]
  },
  {
   "cell_type": "code",
   "execution_count": 11,
   "id": "08013159-9f62-4b41-af49-8571d0b8ea06",
   "metadata": {},
   "outputs": [
    {
     "name": "stdout",
     "output_type": "stream",
     "text": [
      "0\n",
      "1\n",
      "1\n",
      "2\n",
      "3\n",
      "5\n",
      "8\n",
      "13\n",
      "21\n",
      "34\n"
     ]
    }
   ],
   "source": [
    "for i in test_fib(10):\n",
    "    print(i)"
   ]
  },
  {
   "cell_type": "code",
   "execution_count": 23,
   "id": "759f5fc4-d816-4c47-9803-bb0a0a72fba0",
   "metadata": {},
   "outputs": [],
   "source": [
    "def test2(n):\n",
    "    a,b = 0,1\n",
    "    for i in range(n):\n",
    "            yield a\n",
    "            a,b =b,a+b"
   ]
  },
  {
   "cell_type": "code",
   "execution_count": 26,
   "id": "2def4875-8bd2-4b69-97d3-a556dbe12dbd",
   "metadata": {},
   "outputs": [
    {
     "name": "stdout",
     "output_type": "stream",
     "text": [
      "0\n",
      "1\n",
      "1\n",
      "2\n",
      "3\n",
      "5\n",
      "8\n",
      "13\n",
      "21\n",
      "34\n"
     ]
    }
   ],
   "source": [
    "for i in test2(10):\n",
    "    print(i)"
   ]
  },
  {
   "cell_type": "code",
   "execution_count": 34,
   "id": "7fe3e38b-70fb-4b63-90d9-f3eab8483148",
   "metadata": {},
   "outputs": [],
   "source": [
    "def test3():\n",
    "    a,b =0,1\n",
    "    while True :\n",
    "        yield a\n",
    "        a,b = b, a+b"
   ]
  },
  {
   "cell_type": "code",
   "execution_count": 35,
   "id": "2850afdd-27fc-49cb-9b14-b8d911101fb8",
   "metadata": {},
   "outputs": [],
   "source": [
    "bhai = test3()"
   ]
  },
  {
   "cell_type": "code",
   "execution_count": 36,
   "id": "875d9312-de7a-4248-8ce7-214e71c382c7",
   "metadata": {},
   "outputs": [
    {
     "name": "stdout",
     "output_type": "stream",
     "text": [
      "0\n",
      "1\n",
      "1\n",
      "2\n",
      "3\n",
      "5\n",
      "8\n",
      "13\n",
      "21\n",
      "34\n"
     ]
    }
   ],
   "source": [
    "for i in range(10):\n",
    "    print(next(bhai))"
   ]
  },
  {
   "cell_type": "code",
   "execution_count": 37,
   "id": "fa4c50d6-af84-48fd-a36e-633df225ed4c",
   "metadata": {},
   "outputs": [],
   "source": [
    "s = 'sudhir'\n"
   ]
  },
  {
   "cell_type": "code",
   "execution_count": 38,
   "id": "884f123c-0817-4100-86df-3dd4bdd3c7ea",
   "metadata": {},
   "outputs": [
    {
     "name": "stdout",
     "output_type": "stream",
     "text": [
      "s\n",
      "u\n",
      "d\n",
      "h\n",
      "i\n",
      "r\n"
     ]
    }
   ],
   "source": [
    "for i in s:\n",
    "    print(i)"
   ]
  },
  {
   "cell_type": "code",
   "execution_count": 45,
   "id": "c8b457dc-708c-4ba0-b53f-bbe43c7cbdcc",
   "metadata": {},
   "outputs": [],
   "source": [
    "def test4(n):\n",
    "        count = 1\n",
    "        while count < n:\n",
    "            yield  count\n",
    "            count = count+1"
   ]
  },
  {
   "cell_type": "code",
   "execution_count": 47,
   "id": "c4c0eab3-070c-4773-af56-91fd7a1fae4e",
   "metadata": {},
   "outputs": [],
   "source": [
    "bhai =test4(5)"
   ]
  },
  {
   "cell_type": "code",
   "execution_count": 50,
   "id": "114c485e-2224-4afc-b4c5-6caf84477c49",
   "metadata": {},
   "outputs": [
    {
     "name": "stdout",
     "output_type": "stream",
     "text": [
      "1\n",
      "2\n",
      "3\n",
      "4\n"
     ]
    }
   ],
   "source": [
    "for i in bhai:\n",
    "    print(i)"
   ]
  },
  {
   "cell_type": "code",
   "execution_count": 70,
   "id": "c57ac112-9cc0-4034-9f8f-b19a683f12ac",
   "metadata": {},
   "outputs": [
    {
     "data": {
      "text/plain": [
       "generator"
      ]
     },
     "execution_count": 70,
     "metadata": {},
     "output_type": "execute_result"
    }
   ],
   "source": [
    "type(bhai)"
   ]
  },
  {
   "cell_type": "code",
   "execution_count": null,
   "id": "4b100b5d-599b-4896-8f73-c4419ae7dcfa",
   "metadata": {},
   "outputs": [],
   "source": []
  }
 ],
 "metadata": {
  "kernelspec": {
   "display_name": "Python 3 (ipykernel)",
   "language": "python",
   "name": "python3"
  },
  "language_info": {
   "codemirror_mode": {
    "name": "ipython",
    "version": 3
   },
   "file_extension": ".py",
   "mimetype": "text/x-python",
   "name": "python",
   "nbconvert_exporter": "python",
   "pygments_lexer": "ipython3",
   "version": "3.10.8"
  }
 },
 "nbformat": 4,
 "nbformat_minor": 5
}
