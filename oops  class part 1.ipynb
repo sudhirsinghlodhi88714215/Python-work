{
 "cells": [
  {
   "cell_type": "code",
   "execution_count": 2,
   "id": "5ee2a542-6c8e-4113-b672-afaacba2c22f",
   "metadata": {},
   "outputs": [],
   "source": [
    "a =1"
   ]
  },
  {
   "cell_type": "code",
   "execution_count": 4,
   "id": "2b85ed53-a062-440b-8a52-29c8bacb0b6d",
   "metadata": {},
   "outputs": [
    {
     "name": "stdout",
     "output_type": "stream",
     "text": [
      "1\n"
     ]
    }
   ],
   "source": [
    "print(a)"
   ]
  },
  {
   "cell_type": "code",
   "execution_count": 3,
   "id": "a2627c50-1ed3-4c9d-a31c-f5de44c4e130",
   "metadata": {},
   "outputs": [],
   "source": [
    "A =1\n"
   ]
  },
  {
   "cell_type": "code",
   "execution_count": 4,
   "id": "af5aebe6-16bc-4f5a-ba7f-cd2ade22d66a",
   "metadata": {},
   "outputs": [
    {
     "name": "stdout",
     "output_type": "stream",
     "text": [
      "<class 'int'>\n"
     ]
    }
   ],
   "source": [
    "print(type(A))"
   ]
  },
  {
   "cell_type": "code",
   "execution_count": 6,
   "id": "d95b420e-4303-4215-9211-2126916e6194",
   "metadata": {},
   "outputs": [],
   "source": [
    "class test:\n",
    "    pass\n"
   ]
  },
  {
   "cell_type": "code",
   "execution_count": 7,
   "id": "df638ec1-6b9a-4daa-8d75-178aa718a5d7",
   "metadata": {},
   "outputs": [],
   "source": [
    "a = test()"
   ]
  },
  {
   "cell_type": "code",
   "execution_count": 9,
   "id": "b82e7d7e-7282-4543-8e52-a500ad72105e",
   "metadata": {},
   "outputs": [
    {
     "data": {
      "text/plain": [
       "__main__.test"
      ]
     },
     "execution_count": 9,
     "metadata": {},
     "output_type": "execute_result"
    }
   ],
   "source": [
    "type(a)"
   ]
  },
  {
   "cell_type": "code",
   "execution_count": 1,
   "id": "e6828b8a-eef9-4fd0-a907-6c31a98ae3a5",
   "metadata": {},
   "outputs": [],
   "source": [
    "class wpskill :\n",
    "    def test(self):\n",
    "        print('sudhir singh lodhi')"
   ]
  },
  {
   "cell_type": "code",
   "execution_count": 2,
   "id": "5cf6c656-2772-4d17-9410-4c5ed2655b99",
   "metadata": {},
   "outputs": [],
   "source": [
    "bhai = wpskill()"
   ]
  },
  {
   "cell_type": "code",
   "execution_count": 4,
   "id": "12d58547-99b5-4715-8bb0-91837618c2b2",
   "metadata": {},
   "outputs": [
    {
     "name": "stdout",
     "output_type": "stream",
     "text": [
      "<class '__main__.wpskill'>\n"
     ]
    }
   ],
   "source": [
    "print(type(bhai))"
   ]
  },
  {
   "cell_type": "code",
   "execution_count": 49,
   "id": "9dcdebaa-3728-492c-bb1f-e45d449cd5e3",
   "metadata": {},
   "outputs": [],
   "source": [
    "class pwskills:\n",
    "    \n",
    "    def welcome_meg(self):\n",
    "         print('welcom to pwskill')"
   ]
  },
  {
   "cell_type": "code",
   "execution_count": 50,
   "id": "c9530ef9-400e-4339-ba7d-ca5c0de70de9",
   "metadata": {},
   "outputs": [],
   "source": [
    "rohan = pwskills()"
   ]
  },
  {
   "cell_type": "code",
   "execution_count": 51,
   "id": "ec748367-2d2a-451d-b70b-e443232ef8b1",
   "metadata": {},
   "outputs": [
    {
     "name": "stdout",
     "output_type": "stream",
     "text": [
      "<class '__main__.pwskills'>\n"
     ]
    }
   ],
   "source": [
    "print( type(rohan))"
   ]
  },
  {
   "cell_type": "code",
   "execution_count": 53,
   "id": "85c7ccbb-ed37-4fd4-9298-ecdcd4befff0",
   "metadata": {},
   "outputs": [
    {
     "ename": "AttributeError",
     "evalue": "'pwskills' object has no attribute 'welcome_mes'",
     "output_type": "error",
     "traceback": [
      "\u001b[0;31m---------------------------------------------------------------------------\u001b[0m",
      "\u001b[0;31mAttributeError\u001b[0m                            Traceback (most recent call last)",
      "Cell \u001b[0;32mIn[53], line 1\u001b[0m\n\u001b[0;32m----> 1\u001b[0m \u001b[43mrohan\u001b[49m\u001b[38;5;241;43m.\u001b[39;49m\u001b[43mwelcome_mes\u001b[49m(\u001b[38;5;28mself\u001b[39m)\n",
      "\u001b[0;31mAttributeError\u001b[0m: 'pwskills' object has no attribute 'welcome_mes'"
     ]
    }
   ],
   "source": [
    "rohan.welcome_mes(self)"
   ]
  },
  {
   "cell_type": "code",
   "execution_count": 9,
   "id": "cf496729-38e7-443a-8584-cb2333cc4941",
   "metadata": {},
   "outputs": [],
   "source": [
    "class pwskills1:\n",
    "    def __init__(self, phon_number, email_id, student_id):\n",
    "        self.phon_number = phon_number\n",
    "        self.email_id = email_id\n",
    "        self.student_id = student_id\n",
    "        \n",
    "        def return_student_deetials(self):\n",
    "             return self.student_id,self.phon_number,self.email_id"
   ]
  },
  {
   "cell_type": "code",
   "execution_count": 10,
   "id": "a2c87f16-8d01-459e-b2bc-5b5813fe85ce",
   "metadata": {},
   "outputs": [],
   "source": [
    "rohan = pwskills1(12456,'sudhir',10)"
   ]
  },
  {
   "cell_type": "code",
   "execution_count": 11,
   "id": "53e6a4af-95c5-4cae-9b83-c79640634cda",
   "metadata": {},
   "outputs": [
    {
     "data": {
      "text/plain": [
       "12456"
      ]
     },
     "execution_count": 11,
     "metadata": {},
     "output_type": "execute_result"
    }
   ],
   "source": [
    "rohan.phon_number"
   ]
  },
  {
   "cell_type": "code",
   "execution_count": null,
   "id": "18e51bad-514b-4882-9f9c-fc761e6c68c1",
   "metadata": {},
   "outputs": [],
   "source": []
  }
 ],
 "metadata": {
  "kernelspec": {
   "display_name": "Python 3 (ipykernel)",
   "language": "python",
   "name": "python3"
  },
  "language_info": {
   "codemirror_mode": {
    "name": "ipython",
    "version": 3
   },
   "file_extension": ".py",
   "mimetype": "text/x-python",
   "name": "python",
   "nbconvert_exporter": "python",
   "pygments_lexer": "ipython3",
   "version": "3.10.8"
  }
 },
 "nbformat": 4,
 "nbformat_minor": 5
}
