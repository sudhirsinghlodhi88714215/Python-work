{
 "cells": [
  {
   "cell_type": "code",
   "execution_count": 1,
   "id": "bcf6560d-ee05-4135-8ba5-800518bb6844",
   "metadata": {},
   "outputs": [],
   "source": [
    "class pwskills:\n",
    "    \n",
    "    def student_details(self,name,gmail,number):\n",
    "        print(name, gmail,number)"
   ]
  },
  {
   "cell_type": "code",
   "execution_count": 2,
   "id": "80b4b9c7-a250-4207-9d3f-418ea2c08fbf",
   "metadata": {},
   "outputs": [],
   "source": [
    "pw =pwskills()"
   ]
  },
  {
   "cell_type": "code",
   "execution_count": 3,
   "id": "36880caa-6587-44c3-aaae-8b6bb053581b",
   "metadata": {},
   "outputs": [
    {
     "name": "stdout",
     "output_type": "stream",
     "text": [
      "sudhir sudhirsinghlodhi 7722956\n"
     ]
    }
   ],
   "source": [
    "pw.student_details('sudhir','sudhirsinghlodhi','7722956')"
   ]
  },
  {
   "cell_type": "code",
   "execution_count": 21,
   "id": "e10662ea-82b1-4058-81f9-a130ea8314ad",
   "metadata": {},
   "outputs": [],
   "source": [
    "class pwskills:\n",
    "    \n",
    "    def student_details(self, name, gmail, number):\n",
    "        print(name,gmail,number)\n",
    "        \n",
    "        @staticmethod\n",
    "        def mentor_class(list_mentor):\n",
    "            print(list_mentor)\n",
    "            \n",
    "            "
   ]
  },
  {
   "cell_type": "code",
   "execution_count": 22,
   "id": "cc15505a-698b-4759-9af3-54e904298e41",
   "metadata": {},
   "outputs": [],
   "source": [
    "pws = pwskills()"
   ]
  },
  {
   "cell_type": "code",
   "execution_count": 23,
   "id": "6224a195-8b05-423d-a002-5975d5c9fd84",
   "metadata": {},
   "outputs": [
    {
     "name": "stdout",
     "output_type": "stream",
     "text": [
      "sudhir sudhir@ 254555556\n"
     ]
    }
   ],
   "source": [
    "pws.student_details('sudhir','sudhir@',254555556)"
   ]
  },
  {
   "cell_type": "code",
   "execution_count": 31,
   "id": "af436622-fd86-465c-9caa-ebed629a6578",
   "metadata": {},
   "outputs": [],
   "source": [
    "qq=pwskills()"
   ]
  },
  {
   "cell_type": "code",
   "execution_count": 35,
   "id": "de6f623f-aacf-4fbe-8394-2d23d2cfe4d6",
   "metadata": {},
   "outputs": [
    {
     "ename": "TypeError",
     "evalue": "pwskills.student_details() missing 2 required positional arguments: 'gmail' and 'number'",
     "output_type": "error",
     "traceback": [
      "\u001b[0;31m---------------------------------------------------------------------------\u001b[0m",
      "\u001b[0;31mTypeError\u001b[0m                                 Traceback (most recent call last)",
      "Cell \u001b[0;32mIn[35], line 1\u001b[0m\n\u001b[0;32m----> 1\u001b[0m \u001b[43mqq\u001b[49m\u001b[38;5;241;43m.\u001b[39;49m\u001b[43mstudent_details\u001b[49m\u001b[43m(\u001b[49m\u001b[43m[\u001b[49m\u001b[38;5;124;43m'\u001b[39;49m\u001b[38;5;124;43msudhir\u001b[39;49m\u001b[38;5;124;43m'\u001b[39;49m\u001b[43m,\u001b[49m\u001b[38;5;124;43m'\u001b[39;49m\u001b[38;5;124;43mbhai\u001b[39;49m\u001b[38;5;124;43m'\u001b[39;49m\u001b[43m,\u001b[49m\u001b[38;5;241;43m145266566\u001b[39;49m\u001b[43m]\u001b[49m\u001b[43m)\u001b[49m\n",
      "\u001b[0;31mTypeError\u001b[0m: pwskills.student_details() missing 2 required positional arguments: 'gmail' and 'number'"
     ]
    }
   ],
   "source": [
    "qq.student_details(['sudhir','bhai',145266566])"
   ]
  },
  {
   "cell_type": "code",
   "execution_count": 25,
   "id": "62e40217-3ecd-4961-a62c-68323f490539",
   "metadata": {},
   "outputs": [],
   "source": [
    "bb =pwskills()"
   ]
  },
  {
   "cell_type": "code",
   "execution_count": 26,
   "id": "696dd551-eea9-43b8-ab28-da323b2c4245",
   "metadata": {},
   "outputs": [],
   "source": [
    "aa = pwskills()"
   ]
  },
  {
   "cell_type": "code",
   "execution_count": 30,
   "id": "3da90f08-9efd-4833-bf93-4cd26aab1d3a",
   "metadata": {},
   "outputs": [
    {
     "ename": "TypeError",
     "evalue": "pwskills.student_details() missing 3 required positional arguments: 'name', 'gmail', and 'number'",
     "output_type": "error",
     "traceback": [
      "\u001b[0;31m---------------------------------------------------------------------------\u001b[0m",
      "\u001b[0;31mTypeError\u001b[0m                                 Traceback (most recent call last)",
      "Cell \u001b[0;32mIn[30], line 1\u001b[0m\n\u001b[0;32m----> 1\u001b[0m \u001b[43maa\u001b[49m\u001b[38;5;241;43m.\u001b[39;49m\u001b[43mstudent_details\u001b[49m\u001b[43m(\u001b[49m\u001b[43m)\u001b[49m\n",
      "\u001b[0;31mTypeError\u001b[0m: pwskills.student_details() missing 3 required positional arguments: 'name', 'gmail', and 'number'"
     ]
    }
   ],
   "source": [
    "aa.class.()"
   ]
  },
  {
   "cell_type": "code",
   "execution_count": 28,
   "id": "0aeb8b41-047a-4a4e-beb7-cba5f741718d",
   "metadata": {},
   "outputs": [],
   "source": [
    "ss=pwskills()"
   ]
  },
  {
   "cell_type": "code",
   "execution_count": null,
   "id": "07d0a35b-cf5d-458f-b465-c15ca4618c8f",
   "metadata": {},
   "outputs": [],
   "source": [
    "ss."
   ]
  }
 ],
 "metadata": {
  "kernelspec": {
   "display_name": "Python 3 (ipykernel)",
   "language": "python",
   "name": "python3"
  },
  "language_info": {
   "codemirror_mode": {
    "name": "ipython",
    "version": 3
   },
   "file_extension": ".py",
   "mimetype": "text/x-python",
   "name": "python",
   "nbconvert_exporter": "python",
   "pygments_lexer": "ipython3",
   "version": "3.10.8"
  }
 },
 "nbformat": 4,
 "nbformat_minor": 5
}
