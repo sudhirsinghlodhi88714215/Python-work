{
 "cells": [
  {
   "cell_type": "code",
   "execution_count": 1,
   "id": "ff9efc0c-16d1-4d17-b223-3635925992fc",
   "metadata": {},
   "outputs": [
    {
     "name": "stdout",
     "output_type": "stream",
     "text": [
      "this is my book\n"
     ]
    }
   ],
   "source": [
    "print('this is my book')"
   ]
  },
  {
   "cell_type": "code",
   "execution_count": 2,
   "id": "a2b4c2ff-f9b1-4b78-b14e-333d1e945dc5",
   "metadata": {},
   "outputs": [],
   "source": [
    "l=[1,2,3,4,5,6,]"
   ]
  },
  {
   "cell_type": "code",
   "execution_count": 3,
   "id": "94f27db9-6832-4f80-b645-096d5492fd95",
   "metadata": {},
   "outputs": [
    {
     "data": {
      "text/plain": [
       "6"
      ]
     },
     "execution_count": 3,
     "metadata": {},
     "output_type": "execute_result"
    }
   ],
   "source": [
    "len(l)"
   ]
  },
  {
   "cell_type": "code",
   "execution_count": 4,
   "id": "c8b09c9c-7b91-44a9-9020-93838fc91a9b",
   "metadata": {},
   "outputs": [
    {
     "data": {
      "text/plain": [
       "list"
      ]
     },
     "execution_count": 4,
     "metadata": {},
     "output_type": "execute_result"
    }
   ],
   "source": [
    "type(l)"
   ]
  },
  {
   "cell_type": "code",
   "execution_count": 5,
   "id": "1c49623f-0450-4e61-99d5-76b6bed4f1fb",
   "metadata": {},
   "outputs": [],
   "source": [
    "def text():\n",
    "    print('this is my book')\n",
    "       "
   ]
  },
  {
   "cell_type": "code",
   "execution_count": 6,
   "id": "c577c0a4-aaf9-47ed-b5f9-7b04fac5a927",
   "metadata": {},
   "outputs": [
    {
     "name": "stdout",
     "output_type": "stream",
     "text": [
      "this is my book\n"
     ]
    }
   ],
   "source": [
    "text()"
   ]
  },
  {
   "cell_type": "code",
   "execution_count": 7,
   "id": "27f3e276-bfb3-443d-a7de-915ea0faf83d",
   "metadata": {},
   "outputs": [],
   "source": [
    "def text2():\n",
    "    return 'this is my book'\n",
    "    "
   ]
  },
  {
   "cell_type": "code",
   "execution_count": 11,
   "id": "e62b5062-ed9f-438b-957c-fe686a398977",
   "metadata": {},
   "outputs": [
    {
     "data": {
      "text/plain": [
       "'this is my book sudhir'"
      ]
     },
     "execution_count": 11,
     "metadata": {},
     "output_type": "execute_result"
    }
   ],
   "source": [
    "text2()+' sudhir'"
   ]
  },
  {
   "cell_type": "code",
   "execution_count": 12,
   "id": "2d515c06-f87d-4d62-9467-4af90295d956",
   "metadata": {},
   "outputs": [],
   "source": [
    "def text3():\n",
    "    return 'sudhir',12,34,64,[1,2,7,9,7]"
   ]
  },
  {
   "cell_type": "code",
   "execution_count": 13,
   "id": "58dff447-51a3-494e-aad2-c4e80fdd43d4",
   "metadata": {},
   "outputs": [
    {
     "data": {
      "text/plain": [
       "('sudhir', 12, 34, 64, [1, 2, 7, 9, 7])"
      ]
     },
     "execution_count": 13,
     "metadata": {},
     "output_type": "execute_result"
    }
   ],
   "source": [
    "text3()"
   ]
  },
  {
   "cell_type": "code",
   "execution_count": 1,
   "id": "66cf905f-8776-4c1f-9049-52da0834d55d",
   "metadata": {},
   "outputs": [
    {
     "ename": "NameError",
     "evalue": "name 'text3' is not defined",
     "output_type": "error",
     "traceback": [
      "\u001b[0;31m---------------------------------------------------------------------------\u001b[0m",
      "\u001b[0;31mNameError\u001b[0m                                 Traceback (most recent call last)",
      "Cell \u001b[0;32mIn[1], line 1\u001b[0m\n\u001b[0;32m----> 1\u001b[0m a,b,c,d \u001b[38;5;241m=\u001b[39m \u001b[43mtext3\u001b[49m()\n",
      "\u001b[0;31mNameError\u001b[0m: name 'text3' is not defined"
     ]
    }
   ],
   "source": [
    "a,b,c,d = text3()"
   ]
  },
  {
   "cell_type": "code",
   "execution_count": 3,
   "id": "b87ab7cd-4683-4c33-ad10-12f374c660c6",
   "metadata": {},
   "outputs": [
    {
     "ename": "NameError",
     "evalue": "name 'text3' is not defined",
     "output_type": "error",
     "traceback": [
      "\u001b[0;31m---------------------------------------------------------------------------\u001b[0m",
      "\u001b[0;31mNameError\u001b[0m                                 Traceback (most recent call last)",
      "Cell \u001b[0;32mIn[3], line 1\u001b[0m\n\u001b[0;32m----> 1\u001b[0m \u001b[43mtext3\u001b[49m()\n",
      "\u001b[0;31mNameError\u001b[0m: name 'text3' is not defined"
     ]
    }
   ],
   "source": [
    "text3()"
   ]
  },
  {
   "cell_type": "code",
   "execution_count": 13,
   "id": "09cd5a47-e26e-4705-8171-60c979f83256",
   "metadata": {},
   "outputs": [],
   "source": [
    "def text3():\n",
    "    return 'sudhir' ,12,34,64, [1,2,7,9]"
   ]
  },
  {
   "cell_type": "code",
   "execution_count": 14,
   "id": "ebd66d38-4cbf-45b1-bfe3-4027d000e1c9",
   "metadata": {},
   "outputs": [
    {
     "data": {
      "text/plain": [
       "('sudhir', 12, 34, 64, [1, 2, 7, 9])"
      ]
     },
     "execution_count": 14,
     "metadata": {},
     "output_type": "execute_result"
    }
   ],
   "source": [
    "text3()"
   ]
  },
  {
   "cell_type": "code",
   "execution_count": 16,
   "id": "0230bef3-aae4-4022-a0f1-c326a2332205",
   "metadata": {},
   "outputs": [
    {
     "ename": "ValueError",
     "evalue": "too many values to unpack (expected 4)",
     "output_type": "error",
     "traceback": [
      "\u001b[0;31m---------------------------------------------------------------------------\u001b[0m",
      "\u001b[0;31mValueError\u001b[0m                                Traceback (most recent call last)",
      "Cell \u001b[0;32mIn[16], line 1\u001b[0m\n\u001b[0;32m----> 1\u001b[0m a,b,c,d \u001b[38;5;241m=\u001b[39m text3()\n",
      "\u001b[0;31mValueError\u001b[0m: too many values to unpack (expected 4)"
     ]
    }
   ],
   "source": [
    " a,b,c,d = text3()"
   ]
  },
  {
   "cell_type": "code",
   "execution_count": 21,
   "id": "e499e0b5-f7e4-4695-8268-6566eab166c4",
   "metadata": {},
   "outputs": [],
   "source": [
    "def test4():\n",
    "    a =  5+ 6/ 2\n",
    "    return a"
   ]
  },
  {
   "cell_type": "code",
   "execution_count": 23,
   "id": "0dd27385-1578-4a58-9971-fabc97a9c6e8",
   "metadata": {},
   "outputs": [
    {
     "data": {
      "text/plain": [
       "8.0"
      ]
     },
     "execution_count": 23,
     "metadata": {},
     "output_type": "execute_result"
    }
   ],
   "source": [
    "test4()"
   ]
  },
  {
   "cell_type": "code",
   "execution_count": 26,
   "id": "80c2f02e-4f82-4328-9a00-246fd422175b",
   "metadata": {},
   "outputs": [],
   "source": [
    "def test5(a,b,c):\n",
    "    d = a+b/c\n",
    "    return d"
   ]
  },
  {
   "cell_type": "code",
   "execution_count": 30,
   "id": "249c1e5e-468e-4d77-b2c3-60da437c899b",
   "metadata": {},
   "outputs": [
    {
     "data": {
      "text/plain": [
       "9.0"
      ]
     },
     "execution_count": 30,
     "metadata": {},
     "output_type": "execute_result"
    }
   ],
   "source": [
    "test5(5,8,2)"
   ]
  },
  {
   "cell_type": "code",
   "execution_count": 48,
   "id": "0e2c5cbc-f8ce-4e15-8a7a-cf337fd5ed6d",
   "metadata": {},
   "outputs": [],
   "source": [
    "def test7(a,b):\n",
    "    return a +b\n"
   ]
  },
  {
   "cell_type": "code",
   "execution_count": 49,
   "id": "998053bb-c2ed-4e63-af35-b96f34248b18",
   "metadata": {},
   "outputs": [
    {
     "data": {
      "text/plain": [
       "14"
      ]
     },
     "execution_count": 49,
     "metadata": {},
     "output_type": "execute_result"
    }
   ],
   "source": [
    "test7(9,5)"
   ]
  },
  {
   "cell_type": "code",
   "execution_count": 50,
   "id": "ac26a3c4-751c-417d-99c5-abb69c7607b1",
   "metadata": {},
   "outputs": [
    {
     "data": {
      "text/plain": [
       "'sudhirlosingh'"
      ]
     },
     "execution_count": 50,
     "metadata": {},
     "output_type": "execute_result"
    }
   ],
   "source": [
    "test7('sudhirlo' , 'singh')"
   ]
  },
  {
   "cell_type": "code",
   "execution_count": 44,
   "id": "d43f3b3d-72c1-4713-8235-da531a9b6f77",
   "metadata": {},
   "outputs": [
    {
     "data": {
      "text/plain": [
       "[1, 2, 3, 4, 5, 6, 7, 8, 9]"
      ]
     },
     "execution_count": 44,
     "metadata": {},
     "output_type": "execute_result"
    }
   ],
   "source": [
    "test6([1,2,3,4,5],[6,7,8,9])"
   ]
  },
  {
   "cell_type": "code",
   "execution_count": 51,
   "id": "66be600f-f74d-4b82-9f5a-05b08ae6f98d",
   "metadata": {},
   "outputs": [],
   "source": [
    "l = [1,2,3,4,5,6,'sudhir','lodhi',[7,6,5,4,1]]"
   ]
  },
  {
   "cell_type": "code",
   "execution_count": 52,
   "id": "171eb1da-edbb-4e73-b330-c504d386aad2",
   "metadata": {},
   "outputs": [],
   "source": [
    "l1 =[]\n",
    "for i in l:\n",
    "    if type(i)==int or type(i)==float:\n",
    "        l1.append(i)"
   ]
  },
  {
   "cell_type": "code",
   "execution_count": 90,
   "id": "ae88331e-d6b4-4e51-83a5-4a898a52bd87",
   "metadata": {},
   "outputs": [
    {
     "data": {
      "text/plain": [
       "[1, 2, 3, 4, 5, 6, 'sudhir', 'lodhi', [7, 6, 5, 4, 1]]"
      ]
     },
     "execution_count": 90,
     "metadata": {},
     "output_type": "execute_result"
    }
   ],
   "source": [
    "l"
   ]
  },
  {
   "cell_type": "code",
   "execution_count": 99,
   "id": "11cc4ca0-9619-4219-b024-7e69bab25dce",
   "metadata": {},
   "outputs": [
    {
     "ename": "NameError",
     "evalue": "name 'a' is not defined",
     "output_type": "error",
     "traceback": [
      "\u001b[0;31m---------------------------------------------------------------------------\u001b[0m",
      "\u001b[0;31mNameError\u001b[0m                                 Traceback (most recent call last)",
      "Cell \u001b[0;32mIn[99], line 3\u001b[0m\n\u001b[1;32m      1\u001b[0m \u001b[38;5;28;01mdef\u001b[39;00m \u001b[38;5;21mtest\u001b[39m(a):\n\u001b[1;32m      2\u001b[0m     l3 \u001b[38;5;241m=\u001b[39m []\n\u001b[0;32m----> 3\u001b[0m \u001b[38;5;28;01mfor\u001b[39;00m i \u001b[38;5;129;01min\u001b[39;00m \u001b[43ma\u001b[49m:\n\u001b[1;32m      4\u001b[0m      \u001b[38;5;28;01mif\u001b[39;00m \u001b[38;5;28mtype\u001b[39m(i)\u001b[38;5;241m==\u001b[39m \u001b[38;5;28mlist\u001b[39m:\n\u001b[1;32m      5\u001b[0m             \u001b[38;5;28;01mfor\u001b[39;00m j \u001b[38;5;129;01min\u001b[39;00m i:\n",
      "\u001b[0;31mNameError\u001b[0m: name 'a' is not defined"
     ]
    }
   ],
   "source": [
    "def test(a):\n",
    "    l3 = []\n",
    "for i in a:\n",
    "     if type(i)== list:\n",
    "            for j in i:\n",
    "                l.append(j)\n",
    "    \n",
    "    "
   ]
  },
  {
   "cell_type": "code",
   "execution_count": 112,
   "id": "9738a1de-3009-4daa-a5fd-35bd20526555",
   "metadata": {},
   "outputs": [],
   "source": [
    "def text10(a,b):\n",
    "    return a+b    "
   ]
  },
  {
   "cell_type": "code",
   "execution_count": 101,
   "id": "874ce499-3748-4be8-ae96-a9c7467031df",
   "metadata": {},
   "outputs": [],
   "source": [
    "def text11(*args):\n",
    "    return args"
   ]
  },
  {
   "cell_type": "code",
   "execution_count": 103,
   "id": "9368ed90-9871-441e-8bb8-8597ccdb0c7f",
   "metadata": {},
   "outputs": [
    {
     "data": {
      "text/plain": [
       "tuple"
      ]
     },
     "execution_count": 103,
     "metadata": {},
     "output_type": "execute_result"
    }
   ],
   "source": [
    "type(text11())"
   ]
  },
  {
   "cell_type": "code",
   "execution_count": 105,
   "id": "a8b32795-3fcd-424e-af24-caeeade5e7cd",
   "metadata": {},
   "outputs": [
    {
     "data": {
      "text/plain": [
       "(1, 2, 3)"
      ]
     },
     "execution_count": 105,
     "metadata": {},
     "output_type": "execute_result"
    }
   ],
   "source": [
    "text11(1,2,3)\n"
   ]
  },
  {
   "cell_type": "code",
   "execution_count": 107,
   "id": "94a76174-4bb6-4b9a-971f-07ea9ec12e4b",
   "metadata": {},
   "outputs": [
    {
     "data": {
      "text/plain": [
       "(123, 5, 9, 7, 5, 'sudhir', 'bhai')"
      ]
     },
     "execution_count": 107,
     "metadata": {},
     "output_type": "execute_result"
    }
   ],
   "source": [
    "text11(123,5,9,7,5,'sudhir','bhai')"
   ]
  },
  {
   "cell_type": "code",
   "execution_count": 108,
   "id": "38889e9f-99b4-48a4-b7b3-42266eb0ea2d",
   "metadata": {},
   "outputs": [],
   "source": [
    "def text12(*sudhir):\n",
    "    return sudhir"
   ]
  },
  {
   "cell_type": "code",
   "execution_count": 111,
   "id": "6c2ce51d-a676-4dd1-88f0-12acf5565512",
   "metadata": {},
   "outputs": [
    {
     "data": {
      "text/plain": [
       "(12, 32, 6, 6, 6, 6, 6, 6, 6)"
      ]
     },
     "execution_count": 111,
     "metadata": {},
     "output_type": "execute_result"
    }
   ],
   "source": [
    "text12(12,32,6,6,6,6,6,6,6,)\n"
   ]
  },
  {
   "cell_type": "code",
   "execution_count": 114,
   "id": "f4e25176-f658-478f-a69c-96c09bc3da1c",
   "metadata": {},
   "outputs": [],
   "source": [
    "def text13(*args,a):\n",
    "    return args,a"
   ]
  },
  {
   "cell_type": "code",
   "execution_count": 115,
   "id": "502442b9-ccac-4080-9076-1c1e191d322c",
   "metadata": {},
   "outputs": [
    {
     "ename": "TypeError",
     "evalue": "text13() missing 1 required keyword-only argument: 'a'",
     "output_type": "error",
     "traceback": [
      "\u001b[0;31m---------------------------------------------------------------------------\u001b[0m",
      "\u001b[0;31mTypeError\u001b[0m                                 Traceback (most recent call last)",
      "Cell \u001b[0;32mIn[115], line 1\u001b[0m\n\u001b[0;32m----> 1\u001b[0m \u001b[43mtext13\u001b[49m\u001b[43m(\u001b[49m\u001b[38;5;241;43m1\u001b[39;49m\u001b[43m,\u001b[49m\u001b[38;5;241;43m2\u001b[39;49m\u001b[43m,\u001b[49m\u001b[38;5;241;43m3\u001b[39;49m\u001b[43m,\u001b[49m\u001b[38;5;241;43m4\u001b[39;49m\u001b[43m,\u001b[49m\u001b[43m)\u001b[49m\n",
      "\u001b[0;31mTypeError\u001b[0m: text13() missing 1 required keyword-only argument: 'a'"
     ]
    }
   ],
   "source": [
    "text13(1,2,3,4,)"
   ]
  },
  {
   "cell_type": "code",
   "execution_count": 116,
   "id": "ddcb0c47-69db-4768-9182-3388eac46529",
   "metadata": {},
   "outputs": [],
   "source": [
    "def text14(c,d, a=17,b=5,):\n",
    "    return a,b,c,d\n",
    "    "
   ]
  },
  {
   "cell_type": "code",
   "execution_count": 117,
   "id": "b8cb646b-f670-4724-8ae2-f64fece2aeb8",
   "metadata": {},
   "outputs": [
    {
     "ename": "TypeError",
     "evalue": "text14() missing 2 required positional arguments: 'c' and 'd'",
     "output_type": "error",
     "traceback": [
      "\u001b[0;31m---------------------------------------------------------------------------\u001b[0m",
      "\u001b[0;31mTypeError\u001b[0m                                 Traceback (most recent call last)",
      "Cell \u001b[0;32mIn[117], line 1\u001b[0m\n\u001b[0;32m----> 1\u001b[0m \u001b[43mtext14\u001b[49m\u001b[43m(\u001b[49m\u001b[43m)\u001b[49m\n",
      "\u001b[0;31mTypeError\u001b[0m: text14() missing 2 required positional arguments: 'c' and 'd'"
     ]
    }
   ],
   "source": [
    "text14()"
   ]
  },
  {
   "cell_type": "code",
   "execution_count": 118,
   "id": "5c79ab82-becf-431f-8394-f95261bd231f",
   "metadata": {},
   "outputs": [
    {
     "data": {
      "text/plain": [
       "(17, 5, 5, 6)"
      ]
     },
     "execution_count": 118,
     "metadata": {},
     "output_type": "execute_result"
    }
   ],
   "source": [
    "text14(5,6)"
   ]
  },
  {
   "cell_type": "code",
   "execution_count": 119,
   "id": "930f7ee0-b63c-4d07-b07c-58bb1fa42679",
   "metadata": {},
   "outputs": [
    {
     "data": {
      "text/plain": [
       "(1, 5, 5, 6)"
      ]
     },
     "execution_count": 119,
     "metadata": {},
     "output_type": "execute_result"
    }
   ],
   "source": [
    "text14(5,6,a=1)"
   ]
  },
  {
   "cell_type": "code",
   "execution_count": 120,
   "id": "93fe848d-efbd-424e-bd13-079bd7946d9f",
   "metadata": {},
   "outputs": [],
   "source": [
    "def text15(**bhai):\n",
    "    return bhai"
   ]
  },
  {
   "cell_type": "code",
   "execution_count": 121,
   "id": "f45b0f92-681f-4f99-b3f5-f46c04b730b1",
   "metadata": {},
   "outputs": [
    {
     "data": {
      "text/plain": [
       "{}"
      ]
     },
     "execution_count": 121,
     "metadata": {},
     "output_type": "execute_result"
    }
   ],
   "source": [
    "text15()"
   ]
  },
  {
   "cell_type": "code",
   "execution_count": 122,
   "id": "b7c49005-798d-4121-af1c-e1adef58e22f",
   "metadata": {},
   "outputs": [
    {
     "data": {
      "text/plain": [
       "dict"
      ]
     },
     "execution_count": 122,
     "metadata": {},
     "output_type": "execute_result"
    }
   ],
   "source": [
    "type(text15())"
   ]
  },
  {
   "cell_type": "code",
   "execution_count": 123,
   "id": "1ef9bada-4bc9-466f-8c3e-c33aff5adfdc",
   "metadata": {},
   "outputs": [
    {
     "data": {
      "text/plain": [
       "{'a': [1, 2, 3, 6], 'b': 'sudhir', 'c': 23.6}"
      ]
     },
     "execution_count": 123,
     "metadata": {},
     "output_type": "execute_result"
    }
   ],
   "source": [
    "text15(a=[1,2,3,6,],b ='sudhir',c=23.6)"
   ]
  },
  {
   "cell_type": "code",
   "execution_count": null,
   "id": "aec2eda3-73f0-4189-ba7a-4c21dfefe94e",
   "metadata": {},
   "outputs": [],
   "source": []
  }
 ],
 "metadata": {
  "kernelspec": {
   "display_name": "Python 3 (ipykernel)",
   "language": "python",
   "name": "python3"
  },
  "language_info": {
   "codemirror_mode": {
    "name": "ipython",
    "version": 3
   },
   "file_extension": ".py",
   "mimetype": "text/x-python",
   "name": "python",
   "nbconvert_exporter": "python",
   "pygments_lexer": "ipython3",
   "version": "3.10.8"
  }
 },
 "nbformat": 4,
 "nbformat_minor": 5
}
