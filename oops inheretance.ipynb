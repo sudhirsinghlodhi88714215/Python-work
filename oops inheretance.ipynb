{
 "cells": [
  {
   "cell_type": "code",
   "execution_count": 9,
   "id": "76dceb67-fcb2-420b-bc40-0662e58c18e1",
   "metadata": {},
   "outputs": [],
   "source": [
    "class test:\n",
    "    def perant_ch(self):\n",
    "        return 'this is my perante'"
   ]
  },
  {
   "cell_type": "code",
   "execution_count": 16,
   "id": "f3c769e3-6572-46e3-906a-33ee975c401e",
   "metadata": {},
   "outputs": [],
   "source": [
    "class child_d(test):\n",
    "    pass\n",
    "    "
   ]
  },
  {
   "cell_type": "code",
   "execution_count": 17,
   "id": "87268f90-a23c-4880-8c46-84194597bae3",
   "metadata": {},
   "outputs": [],
   "source": [
    "a =child_d()"
   ]
  },
  {
   "cell_type": "code",
   "execution_count": 18,
   "id": "6979e157-6d6d-4295-ba30-a485f5243ff2",
   "metadata": {},
   "outputs": [
    {
     "data": {
      "text/plain": [
       "'this is my perante'"
      ]
     },
     "execution_count": 18,
     "metadata": {},
     "output_type": "execute_result"
    }
   ],
   "source": [
    "a.perant_ch()"
   ]
  },
  {
   "cell_type": "code",
   "execution_count": 22,
   "id": "1346406a-69de-4174-aa19-c1c88f029a3b",
   "metadata": {},
   "outputs": [],
   "source": [
    "class  class1:\n",
    "    def class1_A(self):\n",
    "        return 'this is a meth class1'"
   ]
  },
  {
   "cell_type": "code",
   "execution_count": 23,
   "id": "2e778119-6557-4ce6-bffc-f195cc22b624",
   "metadata": {},
   "outputs": [],
   "source": [
    "class class2(class1):\n",
    "    def class2_B(self):\n",
    "        return 'this is a meth class2'"
   ]
  },
  {
   "cell_type": "code",
   "execution_count": 24,
   "id": "abe6d6ca-dbe9-48c6-bafd-f750c9916059",
   "metadata": {},
   "outputs": [],
   "source": [
    "class class3(class2):\n",
    "    def class3_C(self):\n",
    "        return 'this is a meth class3'\n",
    "        "
   ]
  },
  {
   "cell_type": "code",
   "execution_count": 25,
   "id": "7a1ec3f7-956f-498d-9953-035401c5d027",
   "metadata": {},
   "outputs": [],
   "source": [
    "class class4(class3):\n",
    "        pass\n"
   ]
  },
  {
   "cell_type": "code",
   "execution_count": 26,
   "id": "489f94e2-7744-4646-9f17-be76bde755e2",
   "metadata": {},
   "outputs": [],
   "source": [
    "a = class4()"
   ]
  },
  {
   "cell_type": "code",
   "execution_count": 27,
   "id": "901440a2-608b-46b0-b05c-09e03f7be95c",
   "metadata": {},
   "outputs": [
    {
     "data": {
      "text/plain": [
       "'this is a meth class2'"
      ]
     },
     "execution_count": 27,
     "metadata": {},
     "output_type": "execute_result"
    }
   ],
   "source": [
    "a.class2_B()"
   ]
  },
  {
   "cell_type": "code",
   "execution_count": 28,
   "id": "b68bc910-e736-4ece-a2ca-d35f287409bf",
   "metadata": {},
   "outputs": [
    {
     "data": {
      "text/plain": [
       "'this is a meth class1'"
      ]
     },
     "execution_count": 28,
     "metadata": {},
     "output_type": "execute_result"
    }
   ],
   "source": [
    "a.class1_A()"
   ]
  },
  {
   "cell_type": "code",
   "execution_count": 32,
   "id": "9bd104ac-b004-4fd0-9054-a22cd6921183",
   "metadata": {},
   "outputs": [
    {
     "data": {
      "text/plain": [
       "'this is a meth class3'"
      ]
     },
     "execution_count": 32,
     "metadata": {},
     "output_type": "execute_result"
    }
   ],
   "source": [
    "a.class3_C()"
   ]
  },
  {
   "cell_type": "code",
   "execution_count": 34,
   "id": "bf6bc54d-051f-45e7-bcd5-80b62880cb1b",
   "metadata": {},
   "outputs": [],
   "source": [
    "class test1:\n",
    "    def class1(self):\n",
    "        return 'this is a fist test1'"
   ]
  },
  {
   "cell_type": "code",
   "execution_count": 35,
   "id": "f5184032-31bd-4e75-8147-3d19663b29cd",
   "metadata": {},
   "outputs": [],
   "source": [
    "class test2:\n",
    "    def class2(self):\n",
    "        return 'this is a secend test2'"
   ]
  },
  {
   "cell_type": "code",
   "execution_count": 36,
   "id": "12b96baf-2093-4dd7-89e7-b73ff96433ef",
   "metadata": {},
   "outputs": [],
   "source": [
    "class test3(test1,test2):\n",
    "    pass"
   ]
  },
  {
   "cell_type": "code",
   "execution_count": 37,
   "id": "b40843ef-3c0a-4aee-ace7-315a4f725879",
   "metadata": {},
   "outputs": [],
   "source": [
    "obj =  test3()"
   ]
  },
  {
   "cell_type": "code",
   "execution_count": 39,
   "id": "778d1bd8-ec8a-46c0-81e1-35bdf29c517c",
   "metadata": {},
   "outputs": [
    {
     "data": {
      "text/plain": [
       "'this is a fist test1'"
      ]
     },
     "execution_count": 39,
     "metadata": {},
     "output_type": "execute_result"
    }
   ],
   "source": [
    "obj.class1()"
   ]
  },
  {
   "cell_type": "code",
   "execution_count": 40,
   "id": "3c763b98-0cfa-4d3f-a67a-cc15cd10d250",
   "metadata": {},
   "outputs": [
    {
     "data": {
      "text/plain": [
       "'this is a secend test2'"
      ]
     },
     "execution_count": 40,
     "metadata": {},
     "output_type": "execute_result"
    }
   ],
   "source": [
    "obj.class2()"
   ]
  },
  {
   "cell_type": "code",
   "execution_count": null,
   "id": "f904dba5-0a59-4e80-b3a8-04a19bc69318",
   "metadata": {},
   "outputs": [],
   "source": []
  }
 ],
 "metadata": {
  "kernelspec": {
   "display_name": "Python 3 (ipykernel)",
   "language": "python",
   "name": "python3"
  },
  "language_info": {
   "codemirror_mode": {
    "name": "ipython",
    "version": 3
   },
   "file_extension": ".py",
   "mimetype": "text/x-python",
   "name": "python",
   "nbconvert_exporter": "python",
   "pygments_lexer": "ipython3",
   "version": "3.10.8"
  }
 },
 "nbformat": 4,
 "nbformat_minor": 5
}
