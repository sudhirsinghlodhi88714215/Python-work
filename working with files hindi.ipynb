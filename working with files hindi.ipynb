{
 "cells": [
  {
   "cell_type": "code",
   "execution_count": 20,
   "id": "7040eef0-a469-4a0d-ae66-1db601a86252",
   "metadata": {},
   "outputs": [],
   "source": [
    "f = open('test.txt','w')"
   ]
  },
  {
   "cell_type": "code",
   "execution_count": 21,
   "id": "90bd7e4d-ac3d-402f-b9dc-40c4655242ad",
   "metadata": {},
   "outputs": [
    {
     "data": {
      "text/plain": [
       "'/home/jovyan/work'"
      ]
     },
     "execution_count": 21,
     "metadata": {},
     "output_type": "execute_result"
    }
   ],
   "source": [
    "pwd"
   ]
  },
  {
   "cell_type": "code",
   "execution_count": 22,
   "id": "eb6105ea-667a-4602-bcd0-254fc3cfab8b",
   "metadata": {},
   "outputs": [
    {
     "name": "stdout",
     "output_type": "stream",
     "text": [
      "'class Methods.ipynb'               ' oops encapsulation.ipynb'\n",
      " Decorator.ipynb                    'oops inheretance.ipynb'\n",
      " dict.ipynb                         ' oops polymorphism.ipynb'\n",
      " function.ipynb                     'property decorators getter.ipynb'\n",
      "'Generator function.ipynb'           python.ipynb\n",
      "'if else.ipynb'                      README.md\n",
      "'lambda function.ipynb'              sample-code.ipynb\n",
      "'list tuple.ipynb'                  'special(magic or dunder).ipynb'\n",
      "'loop .ipynb'                       'static mathod.ipynb'\n",
      "'Map Reduce,Filter function.ipynb'   test.txt\n",
      "'oops  class part 1.ipynb'          'working with files hindi.ipynb'\n"
     ]
    }
   ],
   "source": [
    "ls"
   ]
  },
  {
   "cell_type": "code",
   "execution_count": 23,
   "id": "3d87e2e0-c360-40a4-9e87-328a787902e3",
   "metadata": {},
   "outputs": [
    {
     "name": "stdout",
     "output_type": "stream",
     "text": [
      "[Errno 2] No such file or directory: 'work'\n",
      "/home/jovyan/work\n"
     ]
    }
   ],
   "source": [
    "cd work"
   ]
  },
  {
   "cell_type": "code",
   "execution_count": 24,
   "id": "b9df88a5-9c2f-4e4d-9dec-353bb9480eb4",
   "metadata": {},
   "outputs": [
    {
     "name": "stdout",
     "output_type": "stream",
     "text": [
      "'class Methods.ipynb'               ' oops encapsulation.ipynb'\n",
      " Decorator.ipynb                    'oops inheretance.ipynb'\n",
      " dict.ipynb                         ' oops polymorphism.ipynb'\n",
      " function.ipynb                     'property decorators getter.ipynb'\n",
      "'Generator function.ipynb'           python.ipynb\n",
      "'if else.ipynb'                      README.md\n",
      "'lambda function.ipynb'              sample-code.ipynb\n",
      "'list tuple.ipynb'                  'special(magic or dunder).ipynb'\n",
      "'loop .ipynb'                       'static mathod.ipynb'\n",
      "'Map Reduce,Filter function.ipynb'   test.txt\n",
      "'oops  class part 1.ipynb'          'working with files hindi.ipynb'\n"
     ]
    }
   ],
   "source": [
    "ls"
   ]
  },
  {
   "cell_type": "code",
   "execution_count": 25,
   "id": "78fcbac6-e8c9-417d-bc88-3f6433ce7e9b",
   "metadata": {},
   "outputs": [
    {
     "data": {
      "text/plain": [
       "21"
      ]
     },
     "execution_count": 25,
     "metadata": {},
     "output_type": "execute_result"
    }
   ],
   "source": [
    "f.write('this is my love story')"
   ]
  },
  {
   "cell_type": "code",
   "execution_count": null,
   "id": "bca826ec-d186-4937-bfe2-121bd5d7400f",
   "metadata": {},
   "outputs": [],
   "source": []
  },
  {
   "cell_type": "code",
   "execution_count": 26,
   "id": "ace1c5d9-c772-49dc-88c4-689e4588fa39",
   "metadata": {},
   "outputs": [],
   "source": [
    "f.close()"
   ]
  },
  {
   "cell_type": "code",
   "execution_count": 28,
   "id": "32d9d38d-22d1-472a-93b5-6940ceb523ea",
   "metadata": {},
   "outputs": [],
   "source": [
    "f = open('test.txt','w')"
   ]
  },
  {
   "cell_type": "code",
   "execution_count": 29,
   "id": "2d3a3243-a1c2-45d4-b76f-e60e60bab95b",
   "metadata": {},
   "outputs": [
    {
     "data": {
      "text/plain": [
       "16"
      ]
     },
     "execution_count": 29,
     "metadata": {},
     "output_type": "execute_result"
    }
   ],
   "source": [
    "f.write('this is my frend')"
   ]
  },
  {
   "cell_type": "code",
   "execution_count": 30,
   "id": "78b08758-99e7-4a48-b4b6-090fc9a2fc67",
   "metadata": {},
   "outputs": [],
   "source": [
    "f.close()"
   ]
  },
  {
   "cell_type": "code",
   "execution_count": 1,
   "id": "1528468d-1b3c-4a27-813d-5efc241b35eb",
   "metadata": {},
   "outputs": [],
   "source": [
    "f = open('test.txt','a')"
   ]
  },
  {
   "cell_type": "code",
   "execution_count": 4,
   "id": "dcc4bfa0-d54a-44a2-8ab1-681e2db60e85",
   "metadata": {},
   "outputs": [
    {
     "data": {
      "text/plain": [
       "1123"
      ]
     },
     "execution_count": 4,
     "metadata": {},
     "output_type": "execute_result"
    }
   ],
   "source": [
    "f.write('The executive M.Tech program is offered by the departments of Biomedical Engineering and Computer Science and Engineering. The Dept. of Computer Science and Engineering at IIT Hyderabad offers M.Tech. in Data Science, exclusively for industry professionals. The program is self-paced so that candidates can have flexibility in completing the ...Executive Education Programs by IIIT-Hyderabadoutreach.iiit.ac.inThe Post Graduate Certificate in Software Engineering for Data Science is an 8-month program created for professionals who want to learn how to build scalable software for data science implementation. Software and data engineering are the key skills for any data science team and through a blend of learning from leading faculty and industry ...Executive PG in Data Science - Ranked #1: Data Science EPGPAd www.upgrad.com/data-science/pg-programmeLearn Data Visualization, Big Data, NLP, Machine Learning, and more from IIITB. 12-month Online Executive PG Programme in Data Science. Coding experience preferred.Courses: Data Analysis, Data Visualization, Predictive AnalyticsData Science PG Program - Ranked India')"
   ]
  },
  {
   "cell_type": "code",
   "execution_count": 7,
   "id": "b1ea3190-0d2c-4804-a85e-e5a33e7d2eea",
   "metadata": {},
   "outputs": [],
   "source": [
    "f.close()"
   ]
  },
  {
   "cell_type": "code",
   "execution_count": 12,
   "id": "f0c00dc3-368b-4c13-8950-6a2f19ceff99",
   "metadata": {},
   "outputs": [],
   "source": [
    "f = open('test.txt','r')"
   ]
  },
  {
   "cell_type": "code",
   "execution_count": 13,
   "id": "8b46dda2-621d-4d37-9e21-db82f6695cc8",
   "metadata": {},
   "outputs": [
    {
     "data": {
      "text/plain": [
       "'this is my frend The executive M.Tech program is offered by the departments of Biomedical Engineering and Computer Science and Engineering. The Dept. of Computer Science and Engineering at IIT Hyderabad offers M.Tech. in Data Science, exclusively for industry professionals. The program is self-paced so that candidates can have flexibility in completing the ...Executive Education Programs by IIIT-Hyderabadoutreach.iiit.ac.inThe Post Graduate Certificate in Software Engineering for Data Science is an 8-month program created for professionals who want to learn how to build scalable software for data science implementation. Software and data engineering are the key skills for any data science team and through a blend of learning from leading faculty and industry ...Executive PG in Data Science - Ranked #1: Data Science EPGPAd www.upgrad.com/data-science/pg-programmeLearn Data Visualization, Big Data, NLP, Machine Learning, and more from IIITB. 12-month Online Executive PG Programme in Data Science. Coding experience preferred.Courses: Data Analysis, Data Visualization, Predictive AnalyticsData Science PG Program - Ranked India'"
      ]
     },
     "execution_count": 13,
     "metadata": {},
     "output_type": "execute_result"
    }
   ],
   "source": [
    "f.read()"
   ]
  },
  {
   "cell_type": "code",
   "execution_count": 14,
   "id": "d2d4ce83-ae25-483f-8464-8585ad84129a",
   "metadata": {},
   "outputs": [
    {
     "data": {
      "text/plain": [
       "''"
      ]
     },
     "execution_count": 14,
     "metadata": {},
     "output_type": "execute_result"
    }
   ],
   "source": [
    "f.readline()"
   ]
  },
  {
   "cell_type": "code",
   "execution_count": 26,
   "id": "3ad26314-5d19-430e-aaf7-e0a6aa40b45f",
   "metadata": {},
   "outputs": [
    {
     "data": {
      "text/plain": [
       "0"
      ]
     },
     "execution_count": 26,
     "metadata": {},
     "output_type": "execute_result"
    }
   ],
   "source": [
    "f.seek(0)"
   ]
  },
  {
   "cell_type": "code",
   "execution_count": 27,
   "id": "1d6e3709-484f-46b0-aaa1-c1d046193d75",
   "metadata": {},
   "outputs": [
    {
     "data": {
      "text/plain": [
       "'this is my frend The executive M.Tech program is offered by the departments of Biomedical Engineering and Computer Science and Engineering. The Dept. of Computer Science and Engineering at IIT Hyderabad offers M.Tech. in Data Science, exclusively for industry professionals. The program is self-paced so that candidates can have flexibility in completing the ...Executive Education Programs by IIIT-Hyderabadoutreach.iiit.ac.inThe Post Graduate Certificate in Software Engineering for Data Science is an 8-month program created for professionals who want to learn how to build scalable software for data science implementation. Software and data engineering are the key skills for any data science team and through a blend of learning from leading faculty and industry ...Executive PG in Data Science - Ranked #1: Data Science EPGPAd www.upgrad.com/data-science/pg-programmeLearn Data Visualization, Big Data, NLP, Machine Learning, and more from IIITB. 12-month Online Executive PG Programme in Data Science. Coding experience preferred.Courses: Data Analysis, Data Visualization, Predictive AnalyticsData Science PG Program - Ranked India'"
      ]
     },
     "execution_count": 27,
     "metadata": {},
     "output_type": "execute_result"
    }
   ],
   "source": [
    "f.read()"
   ]
  },
  {
   "cell_type": "code",
   "execution_count": 38,
   "id": "4415e6d3-b867-4585-a127-0a15783c615b",
   "metadata": {},
   "outputs": [],
   "source": [
    "f = open('test.txt','r')"
   ]
  },
  {
   "cell_type": "code",
   "execution_count": 39,
   "id": "be01be6f-5a32-4c29-b888-81fdbc62dae1",
   "metadata": {},
   "outputs": [
    {
     "name": "stdout",
     "output_type": "stream",
     "text": [
      "this is my frend The executive M.Tech program is offered by the departments of Biomedical Engineering and Computer Science and Engineering. The Dept. of Computer Science and Engineering at IIT Hyderabad offers M.Tech. in Data Science, exclusively for industry professionals. The program is self-paced so that candidates can have flexibility in completing the ...Executive Education Programs by IIIT-Hyderabadoutreach.iiit.ac.inThe Post Graduate Certificate in Software Engineering for Data Science is an 8-month program created for professionals who want to learn how to build scalable software for data science implementation. Software and data engineering are the key skills for any data science team and through a blend of learning from leading faculty and industry ...Executive PG in Data Science - Ranked #1: Data Science EPGPAd www.upgrad.com/data-science/pg-programmeLearn Data Visualization, Big Data, NLP, Machine Learning, and more from IIITB. 12-month Online Executive PG Programme in Data Science. Coding experience preferred.Courses: Data Analysis, Data Visualization, Predictive AnalyticsData Science PG Program - Ranked India\n"
     ]
    }
   ],
   "source": [
    "for i in f:\n",
    "    print(i)"
   ]
  },
  {
   "cell_type": "code",
   "execution_count": 40,
   "id": "73d332fc-b86c-423e-b6ae-e1ac83f99beb",
   "metadata": {},
   "outputs": [],
   "source": [
    "import os"
   ]
  },
  {
   "cell_type": "code",
   "execution_count": 45,
   "id": "513cdeed-980f-4d36-9c0d-aa6123d89096",
   "metadata": {},
   "outputs": [
    {
     "data": {
      "text/plain": [
       "1140"
      ]
     },
     "execution_count": 45,
     "metadata": {},
     "output_type": "execute_result"
    }
   ],
   "source": [
    "os.path.getsize('test.txt')"
   ]
  },
  {
   "cell_type": "code",
   "execution_count": 47,
   "id": "7363f04f-23da-4fcc-aad1-3be0b6c11319",
   "metadata": {},
   "outputs": [],
   "source": [
    "os.rename('test.txt','new.txt')"
   ]
  },
  {
   "cell_type": "code",
   "execution_count": 48,
   "id": "47c8a766-2ab3-4ac4-8e2b-3a7bb064abb2",
   "metadata": {},
   "outputs": [],
   "source": [
    "import shutil"
   ]
  },
  {
   "cell_type": "code",
   "execution_count": 49,
   "id": "efe9d5be-35fc-4d83-a159-fb01d8f108a2",
   "metadata": {},
   "outputs": [
    {
     "data": {
      "text/plain": [
       "'copy_new.txt'"
      ]
     },
     "execution_count": 49,
     "metadata": {},
     "output_type": "execute_result"
    }
   ],
   "source": [
    "shutil.copy('new.txt','copy_new.txt')"
   ]
  },
  {
   "cell_type": "code",
   "execution_count": 51,
   "id": "fe1d7326-737c-48c4-ae85-9b41573c955b",
   "metadata": {},
   "outputs": [
    {
     "name": "stdout",
     "output_type": "stream",
     "text": [
      "this is my frend The executive M.Tech program is offered by the departments of Biomedical Engineering and Computer Science and Engineering. The Dept. of Computer Science and Engineering at IIT Hyderabad offers M.Tech. in Data Science, exclusively for industry professionals. The program is self-paced so that candidates can have flexibility in completing the ...Executive Education Programs by IIIT-Hyderabadoutreach.iiit.ac.inThe Post Graduate Certificate in Software Engineering for Data Science is an 8-month program created for professionals who want to learn how to build scalable software for data science implementation. Software and data engineering are the key skills for any data science team and through a blend of learning from leading faculty and industry ...Executive PG in Data Science - Ranked #1: Data Science EPGPAd www.upgrad.com/data-science/pg-programmeLearn Data Visualization, Big Data, NLP, Machine Learning, and more from IIITB. 12-month Online Executive PG Programme in Data Science. Coding experience preferred.Courses: Data Analysis, Data Visualization, Predictive AnalyticsData Science PG Program - Ranked India\n"
     ]
    }
   ],
   "source": [
    "with open('new.txt','r') as f:\n",
    "    print(f.read())"
   ]
  },
  {
   "cell_type": "code",
   "execution_count": 52,
   "id": "996e163c-a7f0-4b47-8694-a45cd09c06a4",
   "metadata": {},
   "outputs": [
    {
     "name": "stdout",
     "output_type": "stream",
     "text": [
      "this is my frend The executive M.Tech program is offered by the departments of Biomedical Engineering and Computer Science and Engineering. The Dept. of Computer Science and Engineering at IIT Hyderabad offers M.Tech. in Data Science, exclusively for industry professionals. The program is self-paced so that candidates can have flexibility in completing the ...Executive Education Programs by IIIT-Hyderabadoutreach.iiit.ac.inThe Post Graduate Certificate in Software Engineering for Data Science is an 8-month program created for professionals who want to learn how to build scalable software for data science implementation. Software and data engineering are the key skills for any data science team and through a blend of learning from leading faculty and industry ...Executive PG in Data Science - Ranked #1: Data Science EPGPAd www.upgrad.com/data-science/pg-programmeLearn Data Visualization, Big Data, NLP, Machine Learning, and more from IIITB. 12-month Online Executive PG Programme in Data Science. Coding experience preferred.Courses: Data Analysis, Data Visualization, Predictive AnalyticsData Science PG Program - Ranked India\n"
     ]
    }
   ],
   "source": [
    "with open('new.txt','r') as f:\n",
    "    print(f.read())"
   ]
  },
  {
   "cell_type": "code",
   "execution_count": null,
   "id": "8e712fd0-4af6-4562-9449-d5fa9377f3aa",
   "metadata": {},
   "outputs": [],
   "source": [
    "t ="
   ]
  }
 ],
 "metadata": {
  "kernelspec": {
   "display_name": "Python 3 (ipykernel)",
   "language": "python",
   "name": "python3"
  },
  "language_info": {
   "codemirror_mode": {
    "name": "ipython",
    "version": 3
   },
   "file_extension": ".py",
   "mimetype": "text/x-python",
   "name": "python",
   "nbconvert_exporter": "python",
   "pygments_lexer": "ipython3",
   "version": "3.10.8"
  }
 },
 "nbformat": 4,
 "nbformat_minor": 5
}
