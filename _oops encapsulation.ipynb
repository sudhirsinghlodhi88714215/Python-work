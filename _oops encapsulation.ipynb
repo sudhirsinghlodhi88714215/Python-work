{
 "cells": [
  {
   "cell_type": "code",
   "execution_count": 6,
   "id": "c601bfdc-716c-4a10-93b3-668982778c5f",
   "metadata": {},
   "outputs": [],
   "source": [
    "class test():\n",
    "    \n",
    "    def __init__(self,a,b):\n",
    "        self.a = a\n",
    "        self.b = b\n",
    "    "
   ]
  },
  {
   "cell_type": "code",
   "execution_count": 7,
   "id": "41df8b94-0d57-4aeb-8c13-488888ed7470",
   "metadata": {},
   "outputs": [],
   "source": [
    "t = test(25,46)"
   ]
  },
  {
   "cell_type": "code",
   "execution_count": 8,
   "id": "2d411a26-db23-4524-9498-afdc42c43101",
   "metadata": {},
   "outputs": [
    {
     "data": {
      "text/plain": [
       "25"
      ]
     },
     "execution_count": 8,
     "metadata": {},
     "output_type": "execute_result"
    }
   ],
   "source": [
    "t.a"
   ]
  },
  {
   "cell_type": "code",
   "execution_count": 9,
   "id": "0d96bb30-817c-4d4d-9e00-593bd7818f16",
   "metadata": {},
   "outputs": [
    {
     "data": {
      "text/plain": [
       "46"
      ]
     },
     "execution_count": 9,
     "metadata": {},
     "output_type": "execute_result"
    }
   ],
   "source": [
    "t.b"
   ]
  },
  {
   "cell_type": "code",
   "execution_count": 15,
   "id": "50f929c6-b33d-4a82-9be6-9085c3dcf793",
   "metadata": {},
   "outputs": [],
   "source": [
    "class car:\n",
    "    def __init__(self,year,make,model,speed):\n",
    "        self.__year = year\n",
    "        self.__make = make\n",
    "        self.__speed = speed\n",
    "    "
   ]
  },
  {
   "cell_type": "code",
   "execution_count": 16,
   "id": "fc69464f-e3df-4d30-a34f-847fe5347f24",
   "metadata": {},
   "outputs": [],
   "source": [
    "c = car(2023,'toyata','tata',88)"
   ]
  },
  {
   "cell_type": "code",
   "execution_count": 17,
   "id": "5f6747a0-9cbd-43b3-8fe0-7191e219a07e",
   "metadata": {},
   "outputs": [
    {
     "data": {
      "text/plain": [
       "88"
      ]
     },
     "execution_count": 17,
     "metadata": {},
     "output_type": "execute_result"
    }
   ],
   "source": [
    "c._car__speed"
   ]
  },
  {
   "cell_type": "code",
   "execution_count": 14,
   "id": "7d32031a-d9d3-450e-9b34-997409e78058",
   "metadata": {},
   "outputs": [
    {
     "data": {
      "text/plain": [
       "2023"
      ]
     },
     "execution_count": 14,
     "metadata": {},
     "output_type": "execute_result"
    }
   ],
   "source": [
    "c._car__year"
   ]
  },
  {
   "cell_type": "code",
   "execution_count": 18,
   "id": "dbde12b0-8fc2-49b3-a055-3243021c6758",
   "metadata": {},
   "outputs": [
    {
     "data": {
      "text/plain": [
       "'toyata'"
      ]
     },
     "execution_count": 18,
     "metadata": {},
     "output_type": "execute_result"
    }
   ],
   "source": [
    "c._car__make"
   ]
  },
  {
   "cell_type": "code",
   "execution_count": 29,
   "id": "63fecf38-4a8a-47f3-968e-d54c2289f4dd",
   "metadata": {},
   "outputs": [],
   "source": [
    "class bank_account:\n",
    "    def __init__(self,balance):\n",
    "        self.__balance = balance\n",
    "        \n",
    "    def deposit(self,amount):\n",
    "        self.__balance =self.__balance + amount\n",
    "       \n",
    "    def withdaw(self,amount):\n",
    "            if  self.__balance >= amount :\n",
    "                self.__balance = self.__balance - amount\n",
    "                return True\n",
    "            else :8\n",
    "                   return False\n",
    "                \n",
    "    def current_balance(self):\n",
    "        return self.__balance\n",
    "        "
   ]
  },
  {
   "cell_type": "code",
   "execution_count": 30,
   "id": "cc374115-e535-41ba-8a3b-6b32b6f0d0ae",
   "metadata": {},
   "outputs": [],
   "source": [
    "a =bank_account(1000)"
   ]
  },
  {
   "cell_type": "code",
   "execution_count": 31,
   "id": "ffa08a29-d799-4aae-bfe5-b3a47cc54368",
   "metadata": {},
   "outputs": [
    {
     "data": {
      "text/plain": [
       "1000"
      ]
     },
     "execution_count": 31,
     "metadata": {},
     "output_type": "execute_result"
    }
   ],
   "source": [
    "a.current_balance()"
   ]
  },
  {
   "cell_type": "code",
   "execution_count": 32,
   "id": "8ade1752-4af8-42c7-970b-9418d440dea1",
   "metadata": {},
   "outputs": [],
   "source": [
    "a.deposit(1000)"
   ]
  },
  {
   "cell_type": "code",
   "execution_count": 33,
   "id": "fd96ac15-2186-4f31-9737-748897c6d573",
   "metadata": {},
   "outputs": [
    {
     "data": {
      "text/plain": [
       "2000"
      ]
     },
     "execution_count": 33,
     "metadata": {},
     "output_type": "execute_result"
    }
   ],
   "source": [
    "a.current_balance()"
   ]
  },
  {
   "cell_type": "code",
   "execution_count": 34,
   "id": "d9187b82-34eb-45f5-a3b8-af3d12dab109",
   "metadata": {},
   "outputs": [
    {
     "data": {
      "text/plain": [
       "True"
      ]
     },
     "execution_count": 34,
     "metadata": {},
     "output_type": "execute_result"
    }
   ],
   "source": [
    "a.withdaw(15)"
   ]
  },
  {
   "cell_type": "code",
   "execution_count": 35,
   "id": "a7a075d1-1816-4f69-8e90-4c369800ad9d",
   "metadata": {},
   "outputs": [
    {
     "data": {
      "text/plain": [
       "1985"
      ]
     },
     "execution_count": 35,
     "metadata": {},
     "output_type": "execute_result"
    }
   ],
   "source": [
    "a.current_balance()"
   ]
  },
  {
   "cell_type": "code",
   "execution_count": 36,
   "id": "badf37be-fd19-4dc5-b2f1-7589b87a72b3",
   "metadata": {},
   "outputs": [],
   "source": [
    "a.deposit(50000)"
   ]
  },
  {
   "cell_type": "code",
   "execution_count": 37,
   "id": "183c7f6d-e7ea-4517-96c8-de91c3e35fe7",
   "metadata": {},
   "outputs": [
    {
     "data": {
      "text/plain": [
       "51985"
      ]
     },
     "execution_count": 37,
     "metadata": {},
     "output_type": "execute_result"
    }
   ],
   "source": [
    "a.current_balance()"
   ]
  },
  {
   "cell_type": "code",
   "execution_count": 38,
   "id": "4e1c43c1-b0a9-411b-9eca-d7a93bb0513b",
   "metadata": {},
   "outputs": [
    {
     "data": {
      "text/plain": [
       "True"
      ]
     },
     "execution_count": 38,
     "metadata": {},
     "output_type": "execute_result"
    }
   ],
   "source": [
    "a.withdaw(985)"
   ]
  },
  {
   "cell_type": "code",
   "execution_count": 39,
   "id": "01bcf256-6fae-492e-a2c2-7edd84646097",
   "metadata": {},
   "outputs": [
    {
     "data": {
      "text/plain": [
       "51000"
      ]
     },
     "execution_count": 39,
     "metadata": {},
     "output_type": "execute_result"
    }
   ],
   "source": [
    "a.current_balance()"
   ]
  },
  {
   "cell_type": "code",
   "execution_count": 65,
   "id": "f2641d0b-4054-466e-aff5-8b670de5e7ca",
   "metadata": {},
   "outputs": [],
   "source": [
    "class hostel:\n",
    "    def __init__(self,student):\n",
    "        self.__student = student\n",
    "        \n",
    "    def hostel_com(self,student5):\n",
    "        self.__student =self.__student + student5\n",
    "       \n",
    "    def hostel_out(self,student5):\n",
    "            if  self.__student >= student5 :\n",
    "                self.__student= self.__student - student5\n",
    "                return True\n",
    "            else :\n",
    "                   return False\n",
    "                \n",
    "    def Totel_student(self):\n",
    "        return self.__student"
   ]
  },
  {
   "cell_type": "code",
   "execution_count": 66,
   "id": "8c625659-8fcf-4e53-ab4b-04c19c4f64ec",
   "metadata": {},
   "outputs": [],
   "source": [
    "a =hostel(100)"
   ]
  },
  {
   "cell_type": "code",
   "execution_count": 67,
   "id": "723cff94-8315-4f0e-a67d-557bb8a3cdcf",
   "metadata": {},
   "outputs": [
    {
     "data": {
      "text/plain": [
       "100"
      ]
     },
     "execution_count": 67,
     "metadata": {},
     "output_type": "execute_result"
    }
   ],
   "source": [
    "a.Totel_student()"
   ]
  },
  {
   "cell_type": "code",
   "execution_count": 68,
   "id": "3c8a7cdd-73c3-435d-bad5-f4d9c5c2cfac",
   "metadata": {},
   "outputs": [
    {
     "data": {
      "text/plain": [
       "100"
      ]
     },
     "execution_count": 68,
     "metadata": {},
     "output_type": "execute_result"
    }
   ],
   "source": [
    "a.Totel_student()"
   ]
  },
  {
   "cell_type": "code",
   "execution_count": 69,
   "id": "6596646e-e458-4242-bcd5-d32e4157bba2",
   "metadata": {},
   "outputs": [],
   "source": [
    "a.hostel_com(1)"
   ]
  },
  {
   "cell_type": "code",
   "execution_count": 70,
   "id": "44383d13-27b7-44d9-ad30-47e1f3d6af96",
   "metadata": {},
   "outputs": [
    {
     "data": {
      "text/plain": [
       "101"
      ]
     },
     "execution_count": 70,
     "metadata": {},
     "output_type": "execute_result"
    }
   ],
   "source": [
    "a.Totel_student()"
   ]
  },
  {
   "cell_type": "code",
   "execution_count": 71,
   "id": "1b4b05d2-177e-47f4-bcdb-f87a1f125be2",
   "metadata": {},
   "outputs": [
    {
     "data": {
      "text/plain": [
       "True"
      ]
     },
     "execution_count": 71,
     "metadata": {},
     "output_type": "execute_result"
    }
   ],
   "source": [
    "a.hostel_out(1)"
   ]
  },
  {
   "cell_type": "code",
   "execution_count": 64,
   "id": "4b1cecc4-94c9-4539-9f70-e2ee1c1caf27",
   "metadata": {},
   "outputs": [
    {
     "data": {
      "text/plain": [
       "100"
      ]
     },
     "execution_count": 64,
     "metadata": {},
     "output_type": "execute_result"
    }
   ],
   "source": [
    "a.Totel_student()"
   ]
  },
  {
   "cell_type": "code",
   "execution_count": 72,
   "id": "1501b7f3-084b-47cd-9018-b0070c38c03c",
   "metadata": {},
   "outputs": [
    {
     "data": {
      "text/plain": [
       "True"
      ]
     },
     "execution_count": 72,
     "metadata": {},
     "output_type": "execute_result"
    }
   ],
   "source": [
    "a.hostel_out(1)"
   ]
  },
  {
   "cell_type": "code",
   "execution_count": 73,
   "id": "e5a01a82-334d-46a4-ae39-591613636778",
   "metadata": {},
   "outputs": [
    {
     "data": {
      "text/plain": [
       "99"
      ]
     },
     "execution_count": 73,
     "metadata": {},
     "output_type": "execute_result"
    }
   ],
   "source": [
    "a.Totel_student()"
   ]
  },
  {
   "cell_type": "code",
   "execution_count": null,
   "id": "23cb9b1a-a7f3-40ea-954e-710ba81eaf2c",
   "metadata": {},
   "outputs": [],
   "source": []
  }
 ],
 "metadata": {
  "kernelspec": {
   "display_name": "Python 3 (ipykernel)",
   "language": "python",
   "name": "python3"
  },
  "language_info": {
   "codemirror_mode": {
    "name": "ipython",
    "version": 3
   },
   "file_extension": ".py",
   "mimetype": "text/x-python",
   "name": "python",
   "nbconvert_exporter": "python",
   "pygments_lexer": "ipython3",
   "version": "3.10.8"
  }
 },
 "nbformat": 4,
 "nbformat_minor": 5
}
