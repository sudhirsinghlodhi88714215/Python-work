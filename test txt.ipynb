{
 "cells": [
  {
   "cell_type": "code",
   "execution_count": 3,
   "id": "cebcae82-c80c-4c89-9e7f-26be9a773a7c",
   "metadata": {},
   "outputs": [
    {
     "ename": "TypeError",
     "evalue": "argument should be integer or None, not 'str'",
     "output_type": "error",
     "traceback": [
      "\u001b[0;31m---------------------------------------------------------------------------\u001b[0m",
      "\u001b[0;31mTypeError\u001b[0m                                 Traceback (most recent call last)",
      "Cell \u001b[0;32mIn[3], line 1\u001b[0m\n\u001b[0;32m----> 1\u001b[0m \u001b[43mt\u001b[49m\u001b[38;5;241;43m.\u001b[39;49m\u001b[43mread\u001b[49m\u001b[43m(\u001b[49m\u001b[38;5;124;43m'\u001b[39;49m\u001b[38;5;124;43mThe executive M.Tech program is offered by the departments of Biomedical Engineering and Computer Science and Engineering. The Dept. of Computer Science and Engineering at IIT Hyderabad offers M.Tech. in Data Science, exclusively for industry professionals. The program is self-paced so that candidates can have flexibility in completing the ...Executive Education Programs by IIIT-Hyderabadoutreach.iiit.ac.inThe Post Graduate Certificate in Software Engineering for Data Science is an 8-month program created for professionals who want to learn how to build scalable software for data science implementation. Software and data engineering are the key skills for any data science team and through a blend of learning from leading faculty and industry ...Executive PG in Data Science - Ranked #1: Data Science EPGPAd www.upgrad.com/data-science/pg-programmeLearn Data Visualization, Big Data, NLP, Machine Learning, and more from IIITB. 12-month Online Executive PG Programme in Data Science. Coding experience preferred.Courses: Data Analysis, Data Visualization, Predictive AnalyticsData Science PG Program - Ranked India\u001b[39;49m\u001b[38;5;124;43m'\u001b[39;49m\u001b[43m)\u001b[49m\n",
      "\u001b[0;31mTypeError\u001b[0m: argument should be integer or None, not 'str'"
     ]
    }
   ],
   "source": [
    "t.read('The executive M.Tech program is offered by the departments of Biomedical Engineering and Computer Science and Engineering. The Dept. of Computer Science and Engineering at IIT Hyderabad offers M.Tech. in Data Science, exclusively for industry professionals. The program is self-paced so that candidates can have flexibility in completing the ...Executive Education Programs by IIIT-Hyderabadoutreach.iiit.ac.inThe Post Graduate Certificate in Software Engineering for Data Science is an 8-month program created for professionals who want to learn how to build scalable software for data science implementation. Software and data engineering are the key skills for any data science team and through a blend of learning from leading faculty and industry ...Executive PG in Data Science - Ranked #1: Data Science EPGPAd www.upgrad.com/data-science/pg-programmeLearn Data Visualization, Big Data, NLP, Machine Learning, and more from IIITB. 12-month Online Executive PG Programme in Data Science. Coding experience preferred.Courses: Data Analysis, Data Visualization, Predictive AnalyticsData Science PG Program - Ranked India')"
   ]
  }
 ],
 "metadata": {
  "kernelspec": {
   "display_name": "Python 3 (ipykernel)",
   "language": "python",
   "name": "python3"
  },
  "language_info": {
   "codemirror_mode": {
    "name": "ipython",
    "version": 3
   },
   "file_extension": ".py",
   "mimetype": "text/x-python",
   "name": "python",
   "nbconvert_exporter": "python",
   "pygments_lexer": "ipython3",
   "version": "3.10.8"
  }
 },
 "nbformat": 4,
 "nbformat_minor": 5
}
