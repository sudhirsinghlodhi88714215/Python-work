{
 "cells": [
  {
   "cell_type": "code",
   "execution_count": 15,
   "id": "2906c603-95cb-44ec-8947-d63712a7eccc",
   "metadata": {},
   "outputs": [],
   "source": [
    "l = [1,2,3,4,5,6,7,8,9]"
   ]
  },
  {
   "cell_type": "code",
   "execution_count": 14,
   "id": "11602a7c-00b4-441f-90a9-8c28303e094a",
   "metadata": {},
   "outputs": [],
   "source": [
    "def text1(l):\n",
    "    l1 =[]\n",
    "    for i in l:\n",
    "        l1.append(i**2)\n",
    "    return l1      "
   ]
  },
  {
   "cell_type": "code",
   "execution_count": 11,
   "id": "18a1737c-2606-4440-9dac-7f72e0430b32",
   "metadata": {},
   "outputs": [
    {
     "data": {
      "text/plain": [
       "[1, 4, 9, 16, 25, 36, 49, 64, 81]"
      ]
     },
     "execution_count": 11,
     "metadata": {},
     "output_type": "execute_result"
    }
   ],
   "source": [
    "text1(l)"
   ]
  },
  {
   "cell_type": "code",
   "execution_count": 12,
   "id": "e7f02203-2713-42bc-9e65-08bcb4994120",
   "metadata": {},
   "outputs": [],
   "source": [
    "l =[1,2,3,4,5,6,7,8,9]"
   ]
  },
  {
   "cell_type": "code",
   "execution_count": 18,
   "id": "e178ec96-972b-4f32-b6ee-1262ad30d529",
   "metadata": {},
   "outputs": [],
   "source": [
    "def test1(l):\n",
    "    l1=[]\n",
    "    for i in l:\n",
    "        l1.append(i**2)\n",
    "    return l1    "
   ]
  },
  {
   "cell_type": "code",
   "execution_count": 15,
   "id": "55e2a5ce-4c0e-4ffb-bd6b-1634c391b7ed",
   "metadata": {},
   "outputs": [
    {
     "data": {
      "text/plain": [
       "[1, 4, 9, 16, 25, 36, 49, 64, 81]"
      ]
     },
     "execution_count": 15,
     "metadata": {},
     "output_type": "execute_result"
    }
   ],
   "source": [
    "test1(l)"
   ]
  },
  {
   "cell_type": "code",
   "execution_count": 19,
   "id": "aba44f50-19dd-41e5-b168-2111d76eb57a",
   "metadata": {},
   "outputs": [],
   "source": [
    "l =[1,2,3,4,5,6,7,8,9]"
   ]
  },
  {
   "cell_type": "code",
   "execution_count": 20,
   "id": "36754e21-5fed-44cc-915f-b89d2fb06e40",
   "metadata": {},
   "outputs": [],
   "source": [
    "def test1(l):\n",
    "    l1=[]\n",
    "    for i in l:\n",
    "        l1.append(i**2)\n",
    "    return l1    "
   ]
  },
  {
   "cell_type": "code",
   "execution_count": 21,
   "id": "273f493d-b174-4224-8262-8d1180c26fa5",
   "metadata": {},
   "outputs": [
    {
     "data": {
      "text/plain": [
       "[1, 4, 9, 16, 25, 36, 49, 64, 81]"
      ]
     },
     "execution_count": 21,
     "metadata": {},
     "output_type": "execute_result"
    }
   ],
   "source": [
    "test1(l)"
   ]
  },
  {
   "cell_type": "code",
   "execution_count": 22,
   "id": "b6aeba96-eac5-45ac-bda2-8218e3ce60e7",
   "metadata": {},
   "outputs": [],
   "source": [
    "l11 =[7,8,9,4,5,6]"
   ]
  },
  {
   "cell_type": "code",
   "execution_count": 32,
   "id": "0c6d316a-00a0-4e71-a10c-611165fbd3cb",
   "metadata": {},
   "outputs": [],
   "source": [
    "def test9(l11):\n",
    "    l22 = []\n",
    "    for i in l11:\n",
    "        l22.append(i**2)\n",
    "    return l22\n"
   ]
  },
  {
   "cell_type": "code",
   "execution_count": 33,
   "id": "0bdd13ab-072f-4de1-8c09-7dcb4e55d174",
   "metadata": {},
   "outputs": [
    {
     "data": {
      "text/plain": [
       "[49, 64, 81, 16, 25, 36]"
      ]
     },
     "execution_count": 33,
     "metadata": {},
     "output_type": "execute_result"
    }
   ],
   "source": [
    "test9(l11)"
   ]
  },
  {
   "cell_type": "code",
   "execution_count": 34,
   "id": "9a6242dd-37b3-47d0-b5e4-e0830ba96277",
   "metadata": {},
   "outputs": [],
   "source": [
    "l5 =[2,2,2,3,4,5,6,7,8,9]"
   ]
  },
  {
   "cell_type": "code",
   "execution_count": 37,
   "id": "3158bc35-19dc-4d15-a4ec-0c761aca0bde",
   "metadata": {},
   "outputs": [],
   "source": [
    "def test0(l5):\n",
    "    l0 =[]\n",
    "    for i in l5:\n",
    "        l0.append(i**2 +1)\n",
    "    return l0    \n",
    "        "
   ]
  },
  {
   "cell_type": "code",
   "execution_count": 38,
   "id": "0ab0f993-9d16-468d-8026-4b28b66926a4",
   "metadata": {},
   "outputs": [
    {
     "data": {
      "text/plain": [
       "[5, 5, 5, 10, 17, 26, 37, 50, 65, 82]"
      ]
     },
     "execution_count": 38,
     "metadata": {},
     "output_type": "execute_result"
    }
   ],
   "source": [
    "test0(l5)"
   ]
  },
  {
   "cell_type": "code",
   "execution_count": 39,
   "id": "67e10590-cbe5-4c21-acd6-dc5f097615be",
   "metadata": {},
   "outputs": [],
   "source": [
    "l1 = [1,5,4,7,8]"
   ]
  },
  {
   "cell_type": "code",
   "execution_count": 40,
   "id": "4d4b45da-d0fe-499a-99b1-1f0cf27e61b9",
   "metadata": {},
   "outputs": [],
   "source": [
    " def se(x):\n",
    "        return x**2"
   ]
  },
  {
   "cell_type": "code",
   "execution_count": 41,
   "id": "71aaa373-9ca2-49b0-a3b9-17a6d75620aa",
   "metadata": {},
   "outputs": [
    {
     "data": {
      "text/plain": [
       "[1, 25, 16, 49, 64]"
      ]
     },
     "execution_count": 41,
     "metadata": {},
     "output_type": "execute_result"
    }
   ],
   "source": [
    "list(map(se,l1))"
   ]
  },
  {
   "cell_type": "code",
   "execution_count": 49,
   "id": "00d52c05-c8dd-41fc-b703-c1cd495f4d3f",
   "metadata": {},
   "outputs": [
    {
     "data": {
      "text/plain": [
       "[1, 25, 16, 49, 64]"
      ]
     },
     "execution_count": 49,
     "metadata": {},
     "output_type": "execute_result"
    }
   ],
   "source": [
    "list(map(lambda x : x**2 , l1))"
   ]
  },
  {
   "cell_type": "code",
   "execution_count": 50,
   "id": "2bf0d80c-2007-441d-a23a-a3f682f91154",
   "metadata": {},
   "outputs": [
    {
     "data": {
      "text/plain": [
       "[8, 10, 12, 8, 10, 12]"
      ]
     },
     "execution_count": 50,
     "metadata": {},
     "output_type": "execute_result"
    }
   ],
   "source": [
    "l1 = [1,2,3,4,5,6]\n",
    "l2 = [7,8,9,4,5,6]\n",
    "\n",
    "list(map(lambda x,y: x+y ,l1,l2))"
   ]
  },
  {
   "cell_type": "code",
   "execution_count": 51,
   "id": "a9426b5a-3343-4062-b60a-29b3d8a6d227",
   "metadata": {},
   "outputs": [],
   "source": [
    "def add(x,y):\n",
    "    return x+y"
   ]
  },
  {
   "cell_type": "code",
   "execution_count": 52,
   "id": "09471f3f-9532-4520-b1c8-16cd3f65c80e",
   "metadata": {},
   "outputs": [
    {
     "data": {
      "text/plain": [
       "[8, 10, 12, 8, 10, 12]"
      ]
     },
     "execution_count": 52,
     "metadata": {},
     "output_type": "execute_result"
    }
   ],
   "source": [
    "list(map(add,l1,l2))"
   ]
  },
  {
   "cell_type": "code",
   "execution_count": 53,
   "id": "9484be44-501b-448c-b23d-c1ede5c0c30e",
   "metadata": {},
   "outputs": [],
   "source": [
    "s ='sudhir'"
   ]
  },
  {
   "cell_type": "code",
   "execution_count": 54,
   "id": "1fc1f543-a3ea-437c-9808-41c8f9f4a09e",
   "metadata": {},
   "outputs": [
    {
     "data": {
      "text/plain": [
       "['S', 'U', 'D', 'H', 'I', 'R']"
      ]
     },
     "execution_count": 54,
     "metadata": {},
     "output_type": "execute_result"
    }
   ],
   "source": [
    "list(map(lambda s:s.upper(),s))"
   ]
  },
  {
   "cell_type": "code",
   "execution_count": 56,
   "id": "922133d7-e3a0-46db-aad0-edd38ea54b93",
   "metadata": {},
   "outputs": [],
   "source": [
    "from functools import reduce"
   ]
  },
  {
   "cell_type": "code",
   "execution_count": 57,
   "id": "c7bf0c4e-e905-4b10-8852-e83df0b18d78",
   "metadata": {},
   "outputs": [],
   "source": [
    "l = [1,2,3,4,5,6]"
   ]
  },
  {
   "cell_type": "code",
   "execution_count": 58,
   "id": "e9ce36af-dc24-4407-92ed-301b693fd0f3",
   "metadata": {},
   "outputs": [
    {
     "data": {
      "text/plain": [
       "21"
      ]
     },
     "execution_count": 58,
     "metadata": {},
     "output_type": "execute_result"
    }
   ],
   "source": [
    "reduce(lambda x,y : x+y,l)"
   ]
  },
  {
   "cell_type": "code",
   "execution_count": 62,
   "id": "176c8877-c79d-4be8-87a5-c31b57c97c80",
   "metadata": {},
   "outputs": [
    {
     "data": {
      "text/plain": [
       "1"
      ]
     },
     "execution_count": 62,
     "metadata": {},
     "output_type": "execute_result"
    }
   ],
   "source": [
    "reduce(lambda x, y : x+y,[1])"
   ]
  },
  {
   "cell_type": "code",
   "execution_count": 63,
   "id": "aa0f6d8f-4228-4643-863c-dc565f3cc10d",
   "metadata": {},
   "outputs": [
    {
     "data": {
      "text/plain": [
       "720"
      ]
     },
     "execution_count": 63,
     "metadata": {},
     "output_type": "execute_result"
    }
   ],
   "source": [
    "reduce(lambda x, y : x*y,l)"
   ]
  },
  {
   "cell_type": "code",
   "execution_count": 64,
   "id": "0864663f-fc45-4788-98e0-8f550f17749c",
   "metadata": {},
   "outputs": [
    {
     "data": {
      "text/plain": [
       "6"
      ]
     },
     "execution_count": 64,
     "metadata": {},
     "output_type": "execute_result"
    }
   ],
   "source": [
    "reduce(lambda x,y:x if x>y else y,l)"
   ]
  },
  {
   "cell_type": "code",
   "execution_count": 65,
   "id": "f91ee94b-1665-42c9-8190-4166bcbd0609",
   "metadata": {},
   "outputs": [
    {
     "data": {
      "text/plain": [
       "[1, 2, 3, 4, 5, 6]"
      ]
     },
     "execution_count": 65,
     "metadata": {},
     "output_type": "execute_result"
    }
   ],
   "source": [
    "l"
   ]
  },
  {
   "cell_type": "code",
   "execution_count": 67,
   "id": "47fee9b8-b0b3-454b-b130-715c350b7f2b",
   "metadata": {},
   "outputs": [
    {
     "data": {
      "text/plain": [
       "[2, 4, 6]"
      ]
     },
     "execution_count": 67,
     "metadata": {},
     "output_type": "execute_result"
    }
   ],
   "source": [
    "list(filter(lambda x: x%2 ==0,l))"
   ]
  },
  {
   "cell_type": "code",
   "execution_count": 68,
   "id": "ce5d2e1a-17fc-4849-945a-295159818717",
   "metadata": {},
   "outputs": [
    {
     "data": {
      "text/plain": [
       "[1, 3, 5]"
      ]
     },
     "execution_count": 68,
     "metadata": {},
     "output_type": "execute_result"
    }
   ],
   "source": [
    "list(filter(lambda x: x%2 !=0,l))"
   ]
  },
  {
   "cell_type": "code",
   "execution_count": 69,
   "id": "6ad8d635-74f0-49b8-ba98-5a7b74c70e81",
   "metadata": {},
   "outputs": [],
   "source": [
    "l1 =[1-1,-2,-3,9,7,-2,-1]"
   ]
  },
  {
   "cell_type": "code",
   "execution_count": 71,
   "id": "5cd5ab5f-9529-4550-9eb6-c34fe29f898e",
   "metadata": {},
   "outputs": [
    {
     "data": {
      "text/plain": [
       "[-2, -3, -2, -1]"
      ]
     },
     "execution_count": 71,
     "metadata": {},
     "output_type": "execute_result"
    }
   ],
   "source": [
    "list(filter(lambda x:x<0,l1))"
   ]
  },
  {
   "cell_type": "code",
   "execution_count": 72,
   "id": "545fa3db-5e73-48ad-830c-30819132012c",
   "metadata": {},
   "outputs": [],
   "source": [
    "l3 =['sudhir','bhdai','rotit','SRA']"
   ]
  },
  {
   "cell_type": "code",
   "execution_count": 77,
   "id": "ccf62d11-1551-4302-b85c-83beacd4a74c",
   "metadata": {},
   "outputs": [
    {
     "data": {
      "text/plain": [
       "['bhdai', 'rotit', 'SRA']"
      ]
     },
     "execution_count": 77,
     "metadata": {},
     "output_type": "execute_result"
    }
   ],
   "source": [
    "list(filter(lambda x:len(x)<6 , l3))"
   ]
  },
  {
   "cell_type": "code",
   "execution_count": null,
   "id": "351ac001-48ba-496c-9c06-7a1e673b8bbd",
   "metadata": {},
   "outputs": [],
   "source": []
  }
 ],
 "metadata": {
  "kernelspec": {
   "display_name": "Python 3 (ipykernel)",
   "language": "python",
   "name": "python3"
  },
  "language_info": {
   "codemirror_mode": {
    "name": "ipython",
    "version": 3
   },
   "file_extension": ".py",
   "mimetype": "text/x-python",
   "name": "python",
   "nbconvert_exporter": "python",
   "pygments_lexer": "ipython3",
   "version": "3.10.8"
  }
 },
 "nbformat": 4,
 "nbformat_minor": 5
}
