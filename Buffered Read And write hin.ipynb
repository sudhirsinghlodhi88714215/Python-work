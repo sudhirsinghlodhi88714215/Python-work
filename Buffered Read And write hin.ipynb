{
 "cells": [
  {
   "cell_type": "code",
   "execution_count": 10,
   "id": "5483403d-85c7-4283-8bb0-408f6c34a961",
   "metadata": {},
   "outputs": [],
   "source": [
    "import io\n"
   ]
  },
  {
   "cell_type": "code",
   "execution_count": 13,
   "id": "4e9e0df7-fbed-49b5-83c1-0871c3d7b952",
   "metadata": {},
   "outputs": [],
   "source": [
    "with open('test0.txt','wb') as f:\n",
    "    file = io.BufferedWriter(f)\n",
    "    \n",
    "    file.write(b'From providing Chemistry, Maths, Physics formula to /n giving e-books of eminent authors like RD Sharma,/n RS Aggarwal and Lakhmir Singh, PW focuses on every single ...Explanation Business people are skillful because they are trained to handle ')\n",
    "    file.write(b'this is my secend line')\n",
    "    file.flush()"
   ]
  },
  {
   "cell_type": "code",
   "execution_count": 16,
   "id": "006c9fbf-2066-4220-83c7-81d1e18fd036",
   "metadata": {},
   "outputs": [
    {
     "name": "stdout",
     "output_type": "stream",
     "text": [
      "b'From providing Chemistry, Maths, Physics formula to /n giving e-books of eminent authors like RD Sharma,/n RS Aggarwal and Lakhmir Singh, PW focuses on every single ...Explanation Business people are skillful because they are trained to handle this is my secend line'\n"
     ]
    }
   ],
   "source": [
    "with open('test0.txt','rb') as f:\n",
    "    file = io.BufferedReader(f)\n",
    "    data = file.read()\n",
    "    print(data)"
   ]
  },
  {
   "cell_type": "code",
   "execution_count": null,
   "id": "ee4ffe0d-b9d8-4b6d-abad-eae16253412e",
   "metadata": {},
   "outputs": [],
   "source": []
  }
 ],
 "metadata": {
  "kernelspec": {
   "display_name": "Python 3 (ipykernel)",
   "language": "python",
   "name": "python3"
  },
  "language_info": {
   "codemirror_mode": {
    "name": "ipython",
    "version": 3
   },
   "file_extension": ".py",
   "mimetype": "text/x-python",
   "name": "python",
   "nbconvert_exporter": "python",
   "pygments_lexer": "ipython3",
   "version": "3.10.8"
  }
 },
 "nbformat": 4,
 "nbformat_minor": 5
}
