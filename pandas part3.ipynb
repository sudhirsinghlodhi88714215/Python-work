{
 "cells": [
  {
   "cell_type": "code",
   "execution_count": 50,
   "id": "d3712868-8cf3-4054-bc64-af209a6bc6b4",
   "metadata": {},
   "outputs": [],
   "source": [
    "import pandas as pd"
   ]
  },
  {
   "cell_type": "code",
   "execution_count": 51,
   "id": "110213a0-724d-46a7-bfa8-d5befbfb34ba",
   "metadata": {},
   "outputs": [
    {
     "name": "stdout",
     "output_type": "stream",
     "text": [
      "Requirement already satisfied: pandas in /opt/conda/lib/python3.10/site-packages (1.5.2)\n",
      "Requirement already satisfied: python-dateutil>=2.8.1 in /opt/conda/lib/python3.10/site-packages (from pandas) (2.8.2)\n",
      "Requirement already satisfied: pytz>=2020.1 in /opt/conda/lib/python3.10/site-packages (from pandas) (2022.6)\n",
      "Requirement already satisfied: numpy>=1.21.0 in /opt/conda/lib/python3.10/site-packages (from pandas) (1.23.5)\n",
      "Requirement already satisfied: six>=1.5 in /opt/conda/lib/python3.10/site-packages (from python-dateutil>=2.8.1->pandas) (1.16.0)\n",
      "Note: you may need to restart the kernel to use updated packages.\n"
     ]
    }
   ],
   "source": [
    "pip install pandas"
   ]
  },
  {
   "cell_type": "code",
   "execution_count": 52,
   "id": "1b2f9267-5bf1-46ff-8c9e-bea8f0f7913b",
   "metadata": {},
   "outputs": [
    {
     "data": {
      "text/html": [
       "<div>\n",
       "<style scoped>\n",
       "    .dataframe tbody tr th:only-of-type {\n",
       "        vertical-align: middle;\n",
       "    }\n",
       "\n",
       "    .dataframe tbody tr th {\n",
       "        vertical-align: top;\n",
       "    }\n",
       "\n",
       "    .dataframe thead th {\n",
       "        text-align: right;\n",
       "    }\n",
       "</style>\n",
       "<table border=\"1\" class=\"dataframe\">\n",
       "  <thead>\n",
       "    <tr style=\"text-align: right;\">\n",
       "      <th></th>\n",
       "      <th>Unnamed: 0</th>\n",
       "      <th>Rk</th>\n",
       "      <th>Player</th>\n",
       "      <th>Pos</th>\n",
       "      <th>Age</th>\n",
       "      <th>Tm</th>\n",
       "      <th>G</th>\n",
       "      <th>GS</th>\n",
       "      <th>MP</th>\n",
       "      <th>FG</th>\n",
       "      <th>...</th>\n",
       "      <th>FT%</th>\n",
       "      <th>ORB</th>\n",
       "      <th>DRB</th>\n",
       "      <th>TRB</th>\n",
       "      <th>AST</th>\n",
       "      <th>STL</th>\n",
       "      <th>BLK</th>\n",
       "      <th>TOV</th>\n",
       "      <th>PF</th>\n",
       "      <th>PTS</th>\n",
       "    </tr>\n",
       "  </thead>\n",
       "  <tbody>\n",
       "    <tr>\n",
       "      <th>0</th>\n",
       "      <td>0</td>\n",
       "      <td>1</td>\n",
       "      <td>Precious Achiuwa</td>\n",
       "      <td>C</td>\n",
       "      <td>22</td>\n",
       "      <td>TOR</td>\n",
       "      <td>73</td>\n",
       "      <td>28</td>\n",
       "      <td>1725</td>\n",
       "      <td>265</td>\n",
       "      <td>...</td>\n",
       "      <td>.595</td>\n",
       "      <td>146</td>\n",
       "      <td>327</td>\n",
       "      <td>473</td>\n",
       "      <td>82</td>\n",
       "      <td>37</td>\n",
       "      <td>41</td>\n",
       "      <td>84</td>\n",
       "      <td>151</td>\n",
       "      <td>664</td>\n",
       "    </tr>\n",
       "    <tr>\n",
       "      <th>1</th>\n",
       "      <td>1</td>\n",
       "      <td>2</td>\n",
       "      <td>Steven Adams</td>\n",
       "      <td>C</td>\n",
       "      <td>28</td>\n",
       "      <td>MEM</td>\n",
       "      <td>76</td>\n",
       "      <td>75</td>\n",
       "      <td>1999</td>\n",
       "      <td>210</td>\n",
       "      <td>...</td>\n",
       "      <td>.543</td>\n",
       "      <td>349</td>\n",
       "      <td>411</td>\n",
       "      <td>760</td>\n",
       "      <td>256</td>\n",
       "      <td>65</td>\n",
       "      <td>60</td>\n",
       "      <td>115</td>\n",
       "      <td>153</td>\n",
       "      <td>528</td>\n",
       "    </tr>\n",
       "    <tr>\n",
       "      <th>2</th>\n",
       "      <td>2</td>\n",
       "      <td>3</td>\n",
       "      <td>Bam Adebayo</td>\n",
       "      <td>C</td>\n",
       "      <td>24</td>\n",
       "      <td>MIA</td>\n",
       "      <td>56</td>\n",
       "      <td>56</td>\n",
       "      <td>1825</td>\n",
       "      <td>406</td>\n",
       "      <td>...</td>\n",
       "      <td>.753</td>\n",
       "      <td>137</td>\n",
       "      <td>427</td>\n",
       "      <td>564</td>\n",
       "      <td>190</td>\n",
       "      <td>80</td>\n",
       "      <td>44</td>\n",
       "      <td>148</td>\n",
       "      <td>171</td>\n",
       "      <td>1068</td>\n",
       "    </tr>\n",
       "    <tr>\n",
       "      <th>3</th>\n",
       "      <td>3</td>\n",
       "      <td>4</td>\n",
       "      <td>Santi Aldama</td>\n",
       "      <td>PF</td>\n",
       "      <td>21</td>\n",
       "      <td>MEM</td>\n",
       "      <td>32</td>\n",
       "      <td>0</td>\n",
       "      <td>360</td>\n",
       "      <td>53</td>\n",
       "      <td>...</td>\n",
       "      <td>.625</td>\n",
       "      <td>33</td>\n",
       "      <td>54</td>\n",
       "      <td>87</td>\n",
       "      <td>21</td>\n",
       "      <td>6</td>\n",
       "      <td>10</td>\n",
       "      <td>16</td>\n",
       "      <td>36</td>\n",
       "      <td>132</td>\n",
       "    </tr>\n",
       "    <tr>\n",
       "      <th>4</th>\n",
       "      <td>4</td>\n",
       "      <td>5</td>\n",
       "      <td>LaMarcus Aldridge</td>\n",
       "      <td>C</td>\n",
       "      <td>36</td>\n",
       "      <td>BRK</td>\n",
       "      <td>47</td>\n",
       "      <td>12</td>\n",
       "      <td>1050</td>\n",
       "      <td>252</td>\n",
       "      <td>...</td>\n",
       "      <td>.873</td>\n",
       "      <td>73</td>\n",
       "      <td>185</td>\n",
       "      <td>258</td>\n",
       "      <td>42</td>\n",
       "      <td>14</td>\n",
       "      <td>47</td>\n",
       "      <td>44</td>\n",
       "      <td>78</td>\n",
       "      <td>607</td>\n",
       "    </tr>\n",
       "    <tr>\n",
       "      <th>...</th>\n",
       "      <td>...</td>\n",
       "      <td>...</td>\n",
       "      <td>...</td>\n",
       "      <td>...</td>\n",
       "      <td>...</td>\n",
       "      <td>...</td>\n",
       "      <td>...</td>\n",
       "      <td>...</td>\n",
       "      <td>...</td>\n",
       "      <td>...</td>\n",
       "      <td>...</td>\n",
       "      <td>...</td>\n",
       "      <td>...</td>\n",
       "      <td>...</td>\n",
       "      <td>...</td>\n",
       "      <td>...</td>\n",
       "      <td>...</td>\n",
       "      <td>...</td>\n",
       "      <td>...</td>\n",
       "      <td>...</td>\n",
       "      <td>...</td>\n",
       "    </tr>\n",
       "    <tr>\n",
       "      <th>837</th>\n",
       "      <td>837</td>\n",
       "      <td>601</td>\n",
       "      <td>Thaddeus Young</td>\n",
       "      <td>PF</td>\n",
       "      <td>33</td>\n",
       "      <td>TOR</td>\n",
       "      <td>26</td>\n",
       "      <td>0</td>\n",
       "      <td>475</td>\n",
       "      <td>67</td>\n",
       "      <td>...</td>\n",
       "      <td>.481</td>\n",
       "      <td>40</td>\n",
       "      <td>75</td>\n",
       "      <td>115</td>\n",
       "      <td>45</td>\n",
       "      <td>31</td>\n",
       "      <td>11</td>\n",
       "      <td>22</td>\n",
       "      <td>43</td>\n",
       "      <td>164</td>\n",
       "    </tr>\n",
       "    <tr>\n",
       "      <th>838</th>\n",
       "      <td>838</td>\n",
       "      <td>602</td>\n",
       "      <td>Trae Young</td>\n",
       "      <td>PG</td>\n",
       "      <td>23</td>\n",
       "      <td>ATL</td>\n",
       "      <td>76</td>\n",
       "      <td>76</td>\n",
       "      <td>2652</td>\n",
       "      <td>711</td>\n",
       "      <td>...</td>\n",
       "      <td>.904</td>\n",
       "      <td>50</td>\n",
       "      <td>234</td>\n",
       "      <td>284</td>\n",
       "      <td>737</td>\n",
       "      <td>72</td>\n",
       "      <td>7</td>\n",
       "      <td>303</td>\n",
       "      <td>128</td>\n",
       "      <td>2155</td>\n",
       "    </tr>\n",
       "    <tr>\n",
       "      <th>839</th>\n",
       "      <td>839</td>\n",
       "      <td>603</td>\n",
       "      <td>Omer Yurtseven</td>\n",
       "      <td>C</td>\n",
       "      <td>23</td>\n",
       "      <td>MIA</td>\n",
       "      <td>56</td>\n",
       "      <td>12</td>\n",
       "      <td>706</td>\n",
       "      <td>130</td>\n",
       "      <td>...</td>\n",
       "      <td>.623</td>\n",
       "      <td>85</td>\n",
       "      <td>209</td>\n",
       "      <td>294</td>\n",
       "      <td>49</td>\n",
       "      <td>17</td>\n",
       "      <td>20</td>\n",
       "      <td>41</td>\n",
       "      <td>84</td>\n",
       "      <td>299</td>\n",
       "    </tr>\n",
       "    <tr>\n",
       "      <th>840</th>\n",
       "      <td>840</td>\n",
       "      <td>604</td>\n",
       "      <td>Cody Zeller</td>\n",
       "      <td>C</td>\n",
       "      <td>29</td>\n",
       "      <td>POR</td>\n",
       "      <td>27</td>\n",
       "      <td>0</td>\n",
       "      <td>355</td>\n",
       "      <td>51</td>\n",
       "      <td>...</td>\n",
       "      <td>.776</td>\n",
       "      <td>50</td>\n",
       "      <td>75</td>\n",
       "      <td>125</td>\n",
       "      <td>22</td>\n",
       "      <td>8</td>\n",
       "      <td>6</td>\n",
       "      <td>19</td>\n",
       "      <td>56</td>\n",
       "      <td>140</td>\n",
       "    </tr>\n",
       "    <tr>\n",
       "      <th>841</th>\n",
       "      <td>841</td>\n",
       "      <td>605</td>\n",
       "      <td>Ivica Zubac</td>\n",
       "      <td>C</td>\n",
       "      <td>24</td>\n",
       "      <td>LAC</td>\n",
       "      <td>76</td>\n",
       "      <td>76</td>\n",
       "      <td>1852</td>\n",
       "      <td>310</td>\n",
       "      <td>...</td>\n",
       "      <td>.727</td>\n",
       "      <td>217</td>\n",
       "      <td>427</td>\n",
       "      <td>644</td>\n",
       "      <td>120</td>\n",
       "      <td>36</td>\n",
       "      <td>77</td>\n",
       "      <td>114</td>\n",
       "      <td>203</td>\n",
       "      <td>785</td>\n",
       "    </tr>\n",
       "  </tbody>\n",
       "</table>\n",
       "<p>842 rows × 31 columns</p>\n",
       "</div>"
      ],
      "text/plain": [
       "     Unnamed: 0   Rk             Player Pos Age   Tm   G  GS    MP   FG  ...  \\\n",
       "0             0    1   Precious Achiuwa   C  22  TOR  73  28  1725  265  ...   \n",
       "1             1    2       Steven Adams   C  28  MEM  76  75  1999  210  ...   \n",
       "2             2    3        Bam Adebayo   C  24  MIA  56  56  1825  406  ...   \n",
       "3             3    4       Santi Aldama  PF  21  MEM  32   0   360   53  ...   \n",
       "4             4    5  LaMarcus Aldridge   C  36  BRK  47  12  1050  252  ...   \n",
       "..          ...  ...                ...  ..  ..  ...  ..  ..   ...  ...  ...   \n",
       "837         837  601     Thaddeus Young  PF  33  TOR  26   0   475   67  ...   \n",
       "838         838  602         Trae Young  PG  23  ATL  76  76  2652  711  ...   \n",
       "839         839  603     Omer Yurtseven   C  23  MIA  56  12   706  130  ...   \n",
       "840         840  604        Cody Zeller   C  29  POR  27   0   355   51  ...   \n",
       "841         841  605        Ivica Zubac   C  24  LAC  76  76  1852  310  ...   \n",
       "\n",
       "      FT%  ORB  DRB  TRB  AST STL BLK  TOV   PF   PTS  \n",
       "0    .595  146  327  473   82  37  41   84  151   664  \n",
       "1    .543  349  411  760  256  65  60  115  153   528  \n",
       "2    .753  137  427  564  190  80  44  148  171  1068  \n",
       "3    .625   33   54   87   21   6  10   16   36   132  \n",
       "4    .873   73  185  258   42  14  47   44   78   607  \n",
       "..    ...  ...  ...  ...  ...  ..  ..  ...  ...   ...  \n",
       "837  .481   40   75  115   45  31  11   22   43   164  \n",
       "838  .904   50  234  284  737  72   7  303  128  2155  \n",
       "839  .623   85  209  294   49  17  20   41   84   299  \n",
       "840  .776   50   75  125   22   8   6   19   56   140  \n",
       "841  .727  217  427  644  120  36  77  114  203   785  \n",
       "\n",
       "[842 rows x 31 columns]"
      ]
     },
     "execution_count": 52,
     "metadata": {},
     "output_type": "execute_result"
    }
   ],
   "source": [
    "(pd.read_csv('plear.csv'))"
   ]
  },
  {
   "cell_type": "code",
   "execution_count": 53,
   "id": "c71eb72f-e0c9-4e72-81ff-e0216282bfe6",
   "metadata": {},
   "outputs": [],
   "source": [
    "da =pd.read_csv('plear.csv')"
   ]
  },
  {
   "cell_type": "code",
   "execution_count": 54,
   "id": "62aabbe4-f542-4806-a072-f9b36bb5918e",
   "metadata": {},
   "outputs": [
    {
     "data": {
      "text/plain": [
       "Index(['Unnamed: 0', 'Rk', 'Player', 'Pos', 'Age', 'Tm', 'G', 'GS', 'MP', 'FG',\n",
       "       'FGA', 'FG%', '3P', '3PA', '3P%', '2P', '2PA', '2P%', 'eFG%', 'FT',\n",
       "       'FTA', 'FT%', 'ORB', 'DRB', 'TRB', 'AST', 'STL', 'BLK', 'TOV', 'PF',\n",
       "       'PTS'],\n",
       "      dtype='object')"
      ]
     },
     "execution_count": 54,
     "metadata": {},
     "output_type": "execute_result"
    }
   ],
   "source": [
    "da.columns"
   ]
  },
  {
   "cell_type": "code",
   "execution_count": 55,
   "id": "48838998-72ee-4f3e-a981-4c3c4c6622e6",
   "metadata": {},
   "outputs": [],
   "source": [
    "s =da['Player'][0:10]"
   ]
  },
  {
   "cell_type": "code",
   "execution_count": 56,
   "id": "47723b63-05df-4532-a480-cec2c613fbea",
   "metadata": {},
   "outputs": [
    {
     "data": {
      "text/plain": [
       "0            Precious Achiuwa\n",
       "1                Steven Adams\n",
       "2                 Bam Adebayo\n",
       "3                Santi Aldama\n",
       "4           LaMarcus Aldridge\n",
       "5    Nickeil Alexander-Walker\n",
       "6    Nickeil Alexander-Walker\n",
       "7    Nickeil Alexander-Walker\n",
       "8               Grayson Allen\n",
       "9               Jarrett Allen\n",
       "Name: Player, dtype: object"
      ]
     },
     "execution_count": 56,
     "metadata": {},
     "output_type": "execute_result"
    }
   ],
   "source": [
    "s"
   ]
  },
  {
   "cell_type": "code",
   "execution_count": 57,
   "id": "6dd3f88f-e2d0-4116-90d5-2e92ebbde6f1",
   "metadata": {},
   "outputs": [
    {
     "data": {
      "text/plain": [
       "10"
      ]
     },
     "execution_count": 57,
     "metadata": {},
     "output_type": "execute_result"
    }
   ],
   "source": [
    "len(s)"
   ]
  },
  {
   "cell_type": "code",
   "execution_count": 58,
   "id": "6aab54aa-687c-4414-8677-dd3f268ef133",
   "metadata": {},
   "outputs": [],
   "source": [
    "l =['a','b','c','d','e','f','g','h','i','j']"
   ]
  },
  {
   "cell_type": "code",
   "execution_count": 59,
   "id": "d6017b9f-c6d4-4942-9c93-6a536916204c",
   "metadata": {},
   "outputs": [],
   "source": [
    "c =pd.Series(list(s),index = l)"
   ]
  },
  {
   "cell_type": "code",
   "execution_count": 60,
   "id": "08fc1f51-2715-4cef-a4e6-16b25fb8ce88",
   "metadata": {},
   "outputs": [
    {
     "data": {
      "text/plain": [
       "0            Precious Achiuwa\n",
       "1                Steven Adams\n",
       "2                 Bam Adebayo\n",
       "3                Santi Aldama\n",
       "4           LaMarcus Aldridge\n",
       "5    Nickeil Alexander-Walker\n",
       "6    Nickeil Alexander-Walker\n",
       "7    Nickeil Alexander-Walker\n",
       "8               Grayson Allen\n",
       "9               Jarrett Allen\n",
       "Name: Player, dtype: object"
      ]
     },
     "execution_count": 60,
     "metadata": {},
     "output_type": "execute_result"
    }
   ],
   "source": [
    "s"
   ]
  },
  {
   "cell_type": "code",
   "execution_count": 61,
   "id": "d85f2a91-e01a-4903-8a5c-0e04e37f38ea",
   "metadata": {},
   "outputs": [
    {
     "data": {
      "text/plain": [
       "a            Precious Achiuwa\n",
       "b                Steven Adams\n",
       "c                 Bam Adebayo\n",
       "d                Santi Aldama\n",
       "e           LaMarcus Aldridge\n",
       "f    Nickeil Alexander-Walker\n",
       "g    Nickeil Alexander-Walker\n",
       "h    Nickeil Alexander-Walker\n",
       "i               Grayson Allen\n",
       "j               Jarrett Allen\n",
       "dtype: object"
      ]
     },
     "execution_count": 61,
     "metadata": {},
     "output_type": "execute_result"
    }
   ],
   "source": [
    "c"
   ]
  },
  {
   "cell_type": "code",
   "execution_count": 62,
   "id": "8943906e-c4bb-469f-96e4-a99c9cbcad3f",
   "metadata": {},
   "outputs": [
    {
     "data": {
      "text/plain": [
       "'Precious Achiuwa'"
      ]
     },
     "execution_count": 62,
     "metadata": {},
     "output_type": "execute_result"
    }
   ],
   "source": [
    "c[0]"
   ]
  },
  {
   "cell_type": "code",
   "execution_count": 63,
   "id": "971de0ed-cf12-42bb-bd7b-d3ac43907da9",
   "metadata": {},
   "outputs": [
    {
     "name": "stderr",
     "output_type": "stream",
     "text": [
      "/tmp/ipykernel_84/1298084617.py:1: FutureWarning: The series.append method is deprecated and will be removed from pandas in a future version. Use pandas.concat instead.\n",
      "  c.append(s)\n"
     ]
    },
    {
     "data": {
      "text/plain": [
       "a            Precious Achiuwa\n",
       "b                Steven Adams\n",
       "c                 Bam Adebayo\n",
       "d                Santi Aldama\n",
       "e           LaMarcus Aldridge\n",
       "f    Nickeil Alexander-Walker\n",
       "g    Nickeil Alexander-Walker\n",
       "h    Nickeil Alexander-Walker\n",
       "i               Grayson Allen\n",
       "j               Jarrett Allen\n",
       "0            Precious Achiuwa\n",
       "1                Steven Adams\n",
       "2                 Bam Adebayo\n",
       "3                Santi Aldama\n",
       "4           LaMarcus Aldridge\n",
       "5    Nickeil Alexander-Walker\n",
       "6    Nickeil Alexander-Walker\n",
       "7    Nickeil Alexander-Walker\n",
       "8               Grayson Allen\n",
       "9               Jarrett Allen\n",
       "dtype: object"
      ]
     },
     "execution_count": 63,
     "metadata": {},
     "output_type": "execute_result"
    }
   ],
   "source": [
    "c.append(s)"
   ]
  },
  {
   "cell_type": "code",
   "execution_count": 64,
   "id": "164b3f0a-86f4-44d7-b709-45471c165cc4",
   "metadata": {},
   "outputs": [
    {
     "data": {
      "text/plain": [
       "0            Precious Achiuwa\n",
       "1                Steven Adams\n",
       "2                 Bam Adebayo\n",
       "3                Santi Aldama\n",
       "4           LaMarcus Aldridge\n",
       "5    Nickeil Alexander-Walker\n",
       "6    Nickeil Alexander-Walker\n",
       "7    Nickeil Alexander-Walker\n",
       "8               Grayson Allen\n",
       "9               Jarrett Allen\n",
       "Name: Player, dtype: object"
      ]
     },
     "execution_count": 64,
     "metadata": {},
     "output_type": "execute_result"
    }
   ],
   "source": [
    "s"
   ]
  },
  {
   "cell_type": "code",
   "execution_count": 65,
   "id": "c41cca6b-d78c-40b6-b045-ff3ef97e4572",
   "metadata": {},
   "outputs": [],
   "source": [
    "l = ['a','s','d','f','g','h','j','k','l','z']"
   ]
  },
  {
   "cell_type": "code",
   "execution_count": 66,
   "id": "c8a2d76f-ab19-45cf-aa24-50709e9d5902",
   "metadata": {},
   "outputs": [
    {
     "data": {
      "text/plain": [
       "a            Precious Achiuwa\n",
       "s                Steven Adams\n",
       "d                 Bam Adebayo\n",
       "f                Santi Aldama\n",
       "g           LaMarcus Aldridge\n",
       "h    Nickeil Alexander-Walker\n",
       "j    Nickeil Alexander-Walker\n",
       "k    Nickeil Alexander-Walker\n",
       "l               Grayson Allen\n",
       "z               Jarrett Allen\n",
       "dtype: object"
      ]
     },
     "execution_count": 66,
     "metadata": {},
     "output_type": "execute_result"
    }
   ],
   "source": [
    "pd.Series(list(s),index = l)"
   ]
  },
  {
   "cell_type": "code",
   "execution_count": 67,
   "id": "74995a28-6ce9-4bfc-8cdb-8021cf9544e4",
   "metadata": {},
   "outputs": [],
   "source": [
    "l1 =['sudhir','Bhai','rotit','jani','k','j','t','r','o','p']"
   ]
  },
  {
   "cell_type": "code",
   "execution_count": 68,
   "id": "e4cff546-f3db-42d2-a59f-13838fe74a0b",
   "metadata": {},
   "outputs": [],
   "source": [
    "import pandas as pd\n",
    "\n"
   ]
  },
  {
   "cell_type": "code",
   "execution_count": 69,
   "id": "5a3c3b99-5419-47d1-9c34-35c778d1fa0f",
   "metadata": {},
   "outputs": [
    {
     "data": {
      "text/plain": [
       "sudhir            Precious Achiuwa\n",
       "Bhai                  Steven Adams\n",
       "rotit                  Bam Adebayo\n",
       "jani                  Santi Aldama\n",
       "k                LaMarcus Aldridge\n",
       "j         Nickeil Alexander-Walker\n",
       "t         Nickeil Alexander-Walker\n",
       "r         Nickeil Alexander-Walker\n",
       "o                    Grayson Allen\n",
       "p                    Jarrett Allen\n",
       "dtype: object"
      ]
     },
     "execution_count": 69,
     "metadata": {},
     "output_type": "execute_result"
    }
   ],
   "source": [
    "pd.Series(list(s),index = l1)"
   ]
  },
  {
   "cell_type": "code",
   "execution_count": 70,
   "id": "bf6aeeb7-dce1-404a-88e2-6f6a7465f1fb",
   "metadata": {},
   "outputs": [
    {
     "data": {
      "text/plain": [
       "0            Precious Achiuwa\n",
       "1                Steven Adams\n",
       "2                 Bam Adebayo\n",
       "3                Santi Aldama\n",
       "4           LaMarcus Aldridge\n",
       "5    Nickeil Alexander-Walker\n",
       "6    Nickeil Alexander-Walker\n",
       "7    Nickeil Alexander-Walker\n",
       "8               Grayson Allen\n",
       "9               Jarrett Allen\n",
       "Name: Player, dtype: object"
      ]
     },
     "execution_count": 70,
     "metadata": {},
     "output_type": "execute_result"
    }
   ],
   "source": [
    "s"
   ]
  },
  {
   "cell_type": "code",
   "execution_count": 71,
   "id": "938674e0-ba26-4aed-bd74-da8e19aa3ff4",
   "metadata": {},
   "outputs": [
    {
     "name": "stderr",
     "output_type": "stream",
     "text": [
      "/tmp/ipykernel_84/1298084617.py:1: FutureWarning: The series.append method is deprecated and will be removed from pandas in a future version. Use pandas.concat instead.\n",
      "  c.append(s)\n"
     ]
    },
    {
     "data": {
      "text/plain": [
       "a            Precious Achiuwa\n",
       "b                Steven Adams\n",
       "c                 Bam Adebayo\n",
       "d                Santi Aldama\n",
       "e           LaMarcus Aldridge\n",
       "f    Nickeil Alexander-Walker\n",
       "g    Nickeil Alexander-Walker\n",
       "h    Nickeil Alexander-Walker\n",
       "i               Grayson Allen\n",
       "j               Jarrett Allen\n",
       "0            Precious Achiuwa\n",
       "1                Steven Adams\n",
       "2                 Bam Adebayo\n",
       "3                Santi Aldama\n",
       "4           LaMarcus Aldridge\n",
       "5    Nickeil Alexander-Walker\n",
       "6    Nickeil Alexander-Walker\n",
       "7    Nickeil Alexander-Walker\n",
       "8               Grayson Allen\n",
       "9               Jarrett Allen\n",
       "dtype: object"
      ]
     },
     "execution_count": 71,
     "metadata": {},
     "output_type": "execute_result"
    }
   ],
   "source": [
    "c.append(s)"
   ]
  },
  {
   "cell_type": "code",
   "execution_count": 72,
   "id": "dd160ca0-adc2-469f-8bc3-eeb3eecb65f2",
   "metadata": {},
   "outputs": [
    {
     "name": "stderr",
     "output_type": "stream",
     "text": [
      "/tmp/ipykernel_84/3746854643.py:1: FutureWarning: The series.append method is deprecated and will be removed from pandas in a future version. Use pandas.concat instead.\n",
      "  s2 =c.append(s)\n"
     ]
    }
   ],
   "source": [
    "s2 =c.append(s)"
   ]
  },
  {
   "cell_type": "code",
   "execution_count": 73,
   "id": "64ae3038-27a5-4cb1-9dc3-d06a428b91aa",
   "metadata": {},
   "outputs": [
    {
     "data": {
      "text/plain": [
       "'Precious Achiuwa'"
      ]
     },
     "execution_count": 73,
     "metadata": {},
     "output_type": "execute_result"
    }
   ],
   "source": [
    "s[0]"
   ]
  },
  {
   "cell_type": "code",
   "execution_count": 84,
   "id": "f8126c03-995e-4d96-b81a-1c411b320195",
   "metadata": {},
   "outputs": [
    {
     "data": {
      "text/plain": [
       "3    2\n",
       "8    3\n",
       "1    4\n",
       "9    5\n",
       "5    6\n",
       "dtype: int64"
      ]
     },
     "execution_count": 84,
     "metadata": {},
     "output_type": "execute_result"
    }
   ],
   "source": [
    "pd.Series([2,3,4,5,6,],index = [3,8,1,9,5])"
   ]
  },
  {
   "cell_type": "code",
   "execution_count": 85,
   "id": "a11c48e1-e1f3-40a0-86c3-34350749128a",
   "metadata": {},
   "outputs": [],
   "source": [
    "s3=pd.Series([2,3,4,5,6,],index = [3,8,1,9,5])"
   ]
  },
  {
   "cell_type": "code",
   "execution_count": 104,
   "id": "670d0856-c0a5-4e63-913d-35b2eb97895a",
   "metadata": {},
   "outputs": [
    {
     "data": {
      "text/plain": [
       "2     3\n",
       "3    22\n",
       "4    33\n",
       "5    44\n",
       "6    55\n",
       "dtype: int64"
      ]
     },
     "execution_count": 104,
     "metadata": {},
     "output_type": "execute_result"
    }
   ],
   "source": [
    "pd.Series([3,22,33,44,55,],index = [2,3,4,5,6,])"
   ]
  },
  {
   "cell_type": "code",
   "execution_count": 105,
   "id": "b1399c57-1d2b-4cdb-a931-473b7256d8e8",
   "metadata": {},
   "outputs": [],
   "source": [
    "s4=pd.Series([3,22,33,44,55,],index = [2,3,4,5,6,])"
   ]
  },
  {
   "cell_type": "code",
   "execution_count": 106,
   "id": "806d54b5-920c-4baa-986e-f82d93ddcbbb",
   "metadata": {},
   "outputs": [
    {
     "name": "stderr",
     "output_type": "stream",
     "text": [
      "/tmp/ipykernel_84/3712036911.py:1: FutureWarning: The series.append method is deprecated and will be removed from pandas in a future version. Use pandas.concat instead.\n",
      "  s3.append(s4)\n"
     ]
    },
    {
     "data": {
      "text/plain": [
       "3     2\n",
       "8     3\n",
       "1     4\n",
       "9     5\n",
       "5     6\n",
       "2     3\n",
       "3    22\n",
       "4    33\n",
       "5    44\n",
       "6    55\n",
       "dtype: int64"
      ]
     },
     "execution_count": 106,
     "metadata": {},
     "output_type": "execute_result"
    }
   ],
   "source": [
    "s3.append(s4)"
   ]
  },
  {
   "cell_type": "code",
   "execution_count": 107,
   "id": "a5e1e7f9-ac6f-4b99-a6ce-e09af8208d4d",
   "metadata": {},
   "outputs": [
    {
     "name": "stderr",
     "output_type": "stream",
     "text": [
      "/tmp/ipykernel_84/1530311846.py:1: FutureWarning: The series.append method is deprecated and will be removed from pandas in a future version. Use pandas.concat instead.\n",
      "  s5= s3.append(s4)\n"
     ]
    }
   ],
   "source": [
    "s5= s3.append(s4)"
   ]
  },
  {
   "cell_type": "code",
   "execution_count": 108,
   "id": "b611d5b9-a126-4733-95f5-7208afe826b8",
   "metadata": {},
   "outputs": [
    {
     "data": {
      "text/plain": [
       "3     2\n",
       "8     3\n",
       "1     4\n",
       "9     5\n",
       "5     6\n",
       "2     3\n",
       "3    22\n",
       "4    33\n",
       "5    44\n",
       "6    55\n",
       "dtype: int64"
      ]
     },
     "execution_count": 108,
     "metadata": {},
     "output_type": "execute_result"
    }
   ],
   "source": [
    "s5"
   ]
  },
  {
   "cell_type": "code",
   "execution_count": 110,
   "id": "ea225ecc-0267-4149-9c1e-1d387ab91dab",
   "metadata": {},
   "outputs": [
    {
     "data": {
      "text/plain": [
       "3     2\n",
       "3    22\n",
       "dtype: int64"
      ]
     },
     "execution_count": 110,
     "metadata": {},
     "output_type": "execute_result"
    }
   ],
   "source": [
    "s5[3]"
   ]
  },
  {
   "cell_type": "code",
   "execution_count": 111,
   "id": "753430e9-ded0-4df8-a8d2-155fb91a53de",
   "metadata": {},
   "outputs": [
    {
     "name": "stderr",
     "output_type": "stream",
     "text": [
      "/tmp/ipykernel_84/1173574618.py:1: FutureWarning: The behavior of `series[i:j]` with an integer-dtype index is deprecated. In a future version, this will be treated as *label-based* indexing, consistent with e.g. `series[i]` lookups. To retain the old behavior, use `series.iloc[i:j]`. To get the future behavior, use `series.loc[i:j]`.\n",
      "  s5[0:5]\n"
     ]
    },
    {
     "data": {
      "text/plain": [
       "3    2\n",
       "8    3\n",
       "1    4\n",
       "9    5\n",
       "5    6\n",
       "dtype: int64"
      ]
     },
     "execution_count": 111,
     "metadata": {},
     "output_type": "execute_result"
    }
   ],
   "source": [
    "s5[0:5]"
   ]
  },
  {
   "cell_type": "code",
   "execution_count": 113,
   "id": "a9950880-5881-42c8-b672-5fd32b000780",
   "metadata": {},
   "outputs": [
    {
     "data": {
      "text/plain": [
       "3       4\n",
       "8       9\n",
       "1      16\n",
       "9      25\n",
       "5      36\n",
       "2       9\n",
       "3     484\n",
       "4    1089\n",
       "5    1936\n",
       "6    3025\n",
       "dtype: int64"
      ]
     },
     "execution_count": 113,
     "metadata": {},
     "output_type": "execute_result"
    }
   ],
   "source": [
    "s4 * s5"
   ]
  },
  {
   "cell_type": "code",
   "execution_count": null,
   "id": "873fcad6-a170-4831-90c4-a9116ae99ad5",
   "metadata": {},
   "outputs": [],
   "source": []
  },
  {
   "cell_type": "code",
   "execution_count": null,
   "id": "509fd62e-1cb5-4162-8978-353674ab2f2f",
   "metadata": {},
   "outputs": [],
   "source": []
  },
  {
   "cell_type": "code",
   "execution_count": null,
   "id": "579da326-35a0-45fd-a296-2c1528eac25c",
   "metadata": {},
   "outputs": [],
   "source": []
  },
  {
   "cell_type": "code",
   "execution_count": null,
   "id": "89219010-6189-409d-8b6c-401a6f88bcf1",
   "metadata": {},
   "outputs": [],
   "source": []
  },
  {
   "cell_type": "code",
   "execution_count": null,
   "id": "29d002c1-9ce8-45f7-937c-7244cb0f2977",
   "metadata": {},
   "outputs": [],
   "source": []
  },
  {
   "cell_type": "code",
   "execution_count": null,
   "id": "98739ca7-d5bc-4aac-aba7-5d8f274b9d00",
   "metadata": {},
   "outputs": [],
   "source": []
  },
  {
   "cell_type": "code",
   "execution_count": null,
   "id": "d9032401-dadd-4fdb-8f08-59e79bd69457",
   "metadata": {},
   "outputs": [],
   "source": []
  }
 ],
 "metadata": {
  "kernelspec": {
   "display_name": "Python 3 (ipykernel)",
   "language": "python",
   "name": "python3"
  },
  "language_info": {
   "codemirror_mode": {
    "name": "ipython",
    "version": 3
   },
   "file_extension": ".py",
   "mimetype": "text/x-python",
   "name": "python",
   "nbconvert_exporter": "python",
   "pygments_lexer": "ipython3",
   "version": "3.10.8"
  }
 },
 "nbformat": 4,
 "nbformat_minor": 5
}
