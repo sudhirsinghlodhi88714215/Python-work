{
 "cells": [
  {
   "cell_type": "code",
   "execution_count": 1,
   "id": "318a86c2-efad-438a-a047-db736e613f59",
   "metadata": {},
   "outputs": [],
   "source": [
    "def test(a , b):\n",
    "     return a + b"
   ]
  },
  {
   "cell_type": "code",
   "execution_count": 2,
   "id": "5722c610-b3ee-4882-8e7b-4965661900f3",
   "metadata": {},
   "outputs": [
    {
     "data": {
      "text/plain": [
       "5"
      ]
     },
     "execution_count": 2,
     "metadata": {},
     "output_type": "execute_result"
    }
   ],
   "source": [
    "test(2,3)"
   ]
  },
  {
   "cell_type": "code",
   "execution_count": 3,
   "id": "3695b86a-fc61-42e7-89b6-52eaf525a58b",
   "metadata": {},
   "outputs": [
    {
     "data": {
      "text/plain": [
       "'sudhirrohit'"
      ]
     },
     "execution_count": 3,
     "metadata": {},
     "output_type": "execute_result"
    }
   ],
   "source": [
    "test('sudhir','rohit')"
   ]
  },
  {
   "cell_type": "code",
   "execution_count": 5,
   "id": "35a0c592-fad6-4644-90e7-763958b12693",
   "metadata": {},
   "outputs": [
    {
     "data": {
      "text/plain": [
       "[1, 2, 3, 4, 5, 6, 7, 8, 9, 4, 5, 6]"
      ]
     },
     "execution_count": 5,
     "metadata": {},
     "output_type": "execute_result"
    }
   ],
   "source": [
    "test([1,2,3,4,5,6],[7,8,9,4,5,6])"
   ]
  },
  {
   "cell_type": "code",
   "execution_count": 6,
   "id": "4f0df099-4c40-4540-a284-b70a1ea3d514",
   "metadata": {},
   "outputs": [],
   "source": [
    "class data__science:\n",
    "    \n",
    "    def syllabus(self):\n",
    "        print('this is my syllabus data science')"
   ]
  },
  {
   "cell_type": "code",
   "execution_count": 7,
   "id": "7fed5b57-86d3-4343-a5d7-8b7f8a798dcb",
   "metadata": {},
   "outputs": [],
   "source": [
    "class web__dev:\n",
    "    \n",
    "    def syllabus(self):\n",
    "        print('this is my syllabus web dev')"
   ]
  },
  {
   "cell_type": "code",
   "execution_count": 22,
   "id": "8ff2db4b-c3ed-49ab-b02c-16045f9ee2ac",
   "metadata": {},
   "outputs": [],
   "source": [
    "def class__parcer(class__obj):\n",
    "    for i in class__obj:\n",
    "        i.syllabus()"
   ]
  },
  {
   "cell_type": "code",
   "execution_count": 23,
   "id": "56406521-2ab5-43e9-9770-c07ffe1fe622",
   "metadata": {},
   "outputs": [],
   "source": [
    "data_science =  data__science()"
   ]
  },
  {
   "cell_type": "code",
   "execution_count": 24,
   "id": "448c74c6-1ad7-442f-882f-5be4d2fdc1f6",
   "metadata": {},
   "outputs": [],
   "source": [
    "web_dev = web__dev()"
   ]
  },
  {
   "cell_type": "code",
   "execution_count": 25,
   "id": "8bc7381b-339b-4dc4-b0ca-41de2d2fd517",
   "metadata": {},
   "outputs": [],
   "source": [
    "class__obj =[data_science,web_dev]"
   ]
  },
  {
   "cell_type": "code",
   "execution_count": 27,
   "id": "b5a41a64-7607-4708-8a0d-d9ee020b753c",
   "metadata": {},
   "outputs": [
    {
     "name": "stdout",
     "output_type": "stream",
     "text": [
      "this is my syllabus data science\n",
      "this is my syllabus web dev\n"
     ]
    }
   ],
   "source": [
    "class__parcer(class__obj)"
   ]
  },
  {
   "cell_type": "code",
   "execution_count": null,
   "id": "6cb31562-6df4-4d70-833e-3677555cbaee",
   "metadata": {},
   "outputs": [],
   "source": []
  }
 ],
 "metadata": {
  "kernelspec": {
   "display_name": "Python 3 (ipykernel)",
   "language": "python",
   "name": "python3"
  },
  "language_info": {
   "codemirror_mode": {
    "name": "ipython",
    "version": 3
   },
   "file_extension": ".py",
   "mimetype": "text/x-python",
   "name": "python",
   "nbconvert_exporter": "python",
   "pygments_lexer": "ipython3",
   "version": "3.10.8"
  }
 },
 "nbformat": 4,
 "nbformat_minor": 5
}
