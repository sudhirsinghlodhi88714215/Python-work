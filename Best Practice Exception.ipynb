{
 "cells": [
  {
   "cell_type": "code",
   "execution_count": 4,
   "id": "875998ce-dfdd-4fe1-8027-00c50e91774d",
   "metadata": {},
   "outputs": [
    {
     "name": "stdout",
     "output_type": "stream",
     "text": [
      "division by zero\n"
     ]
    }
   ],
   "source": [
    " try:\n",
    "        12/0\n",
    "except Exception as e:\n",
    "    print(e)"
   ]
  },
  {
   "cell_type": "code",
   "execution_count": 5,
   "id": "5683cadb-ebfb-4eac-9af3-cbf4e7513d3a",
   "metadata": {},
   "outputs": [
    {
     "name": "stdout",
     "output_type": "stream",
     "text": [
      "division by zero\n"
     ]
    }
   ],
   "source": [
    "try:\n",
    "        12/0\n",
    "except ZeroDivisionError as e:\n",
    "    print(e)"
   ]
  },
  {
   "cell_type": "code",
   "execution_count": 12,
   "id": "470ab0de-ac86-4cc6-b1f5-4f3ebd2bcf66",
   "metadata": {},
   "outputs": [
    {
     "name": "stdout",
     "output_type": "stream",
     "text": [
      "i am typing  to handle a zerodivision error division by zero\n"
     ]
    }
   ],
   "source": [
    "try:\n",
    "    12/0\n",
    "except ZeroDivisionError as e:\n",
    "    print('i am typing  to handle a zerodivision error',e)"
   ]
  },
  {
   "cell_type": "code",
   "execution_count": null,
   "id": "7f74ff64-dc54-41dd-9b28-19ab309b60bb",
   "metadata": {},
   "outputs": [],
   "source": []
  },
  {
   "cell_type": "code",
   "execution_count": null,
   "id": "09aef36b-2832-43b1-96f9-88096949c2ee",
   "metadata": {},
   "outputs": [],
   "source": []
  },
  {
   "cell_type": "code",
   "execution_count": 17,
   "id": "a319a204-8cbf-4123-b361-41ee5fc1d301",
   "metadata": {},
   "outputs": [],
   "source": [
    "import logging\n",
    "logging.basicConfig(filename='erroe.log',level = logging.ERROR)\n",
    "\n",
    "try:\n",
    "    12/0\n",
    "except ZeroDivisionError as e:\n",
    "    logging.error('i am typing  to handle a zerodivision error{}'.format(e))\n",
    "      "
   ]
  },
  {
   "cell_type": "code",
   "execution_count": 18,
   "id": "03bb7d2e-7dd7-45b9-8dac-51a1a8a04a76",
   "metadata": {},
   "outputs": [],
   "source": [
    "import logging\n",
    "logging.basicConfig(filename='erroe.log',level = logging.ERROR)\n",
    "\n",
    "try:\n",
    "    \n",
    "    12/0\n",
    "except  FileNotFoundError as e:\n",
    "    logging.error('i am handing file not fount{}'.format(e))\n",
    "except  AttributeError as e:\n",
    "    logging.error('i am handing attribute error fount{}'.format(e))\n",
    "except ZeroDivisionError as e:\n",
    "    logging.error('i am typing  to handle a zerodivision error{}'.format(e))"
   ]
  },
  {
   "cell_type": "code",
   "execution_count": 21,
   "id": "f79ce726-4dc4-4cd5-a041-a800b60ec160",
   "metadata": {},
   "outputs": [],
   "source": [
    "try:\n",
    "    with open('test111.txt','w') as f:\n",
    "        f.write('this is my data  to file')\n",
    "except FileNotFoundError as e:\n",
    "    loggion.error('i am handing file not found {}'.format(e))\n",
    "finally :\n",
    "    f.close()"
   ]
  },
  {
   "cell_type": "code",
   "execution_count": null,
   "id": "0c26a54e-cfca-4ac8-aba1-142a96b3fcb0",
   "metadata": {},
   "outputs": [],
   "source": []
  }
 ],
 "metadata": {
  "kernelspec": {
   "display_name": "Python 3 (ipykernel)",
   "language": "python",
   "name": "python3"
  },
  "language_info": {
   "codemirror_mode": {
    "name": "ipython",
    "version": 3
   },
   "file_extension": ".py",
   "mimetype": "text/x-python",
   "name": "python",
   "nbconvert_exporter": "python",
   "pygments_lexer": "ipython3",
   "version": "3.10.8"
  }
 },
 "nbformat": 4,
 "nbformat_minor": 5
}
