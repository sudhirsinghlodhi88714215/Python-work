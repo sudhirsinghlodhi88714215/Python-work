{
 "cells": [
  {
   "cell_type": "code",
   "execution_count": 1,
   "id": "ba0fc415-686a-41c8-9cee-c21460345a5c",
   "metadata": {},
   "outputs": [],
   "source": [
    "n =2\n",
    "p =3"
   ]
  },
  {
   "cell_type": "code",
   "execution_count": 2,
   "id": "6d8e406b-36d7-49b1-9415-5d00d673d2bb",
   "metadata": {},
   "outputs": [],
   "source": [
    "def  text(n,p):\n",
    "    return n**p"
   ]
  },
  {
   "cell_type": "code",
   "execution_count": 6,
   "id": "fe9679d7-d14d-4635-bca4-56b47ef0387c",
   "metadata": {},
   "outputs": [
    {
     "data": {
      "text/plain": [
       "8"
      ]
     },
     "execution_count": 6,
     "metadata": {},
     "output_type": "execute_result"
    }
   ],
   "source": [
    "text(2,3)"
   ]
  },
  {
   "cell_type": "code",
   "execution_count": 8,
   "id": "49774250-41f1-426c-b52d-f3b99c9d1e3d",
   "metadata": {},
   "outputs": [],
   "source": [
    "a =lambda n,p:n**p"
   ]
  },
  {
   "cell_type": "code",
   "execution_count": 10,
   "id": "6c89924f-5daa-4d97-b470-4eb899eaf8f4",
   "metadata": {},
   "outputs": [
    {
     "data": {
      "text/plain": [
       "8"
      ]
     },
     "execution_count": 10,
     "metadata": {},
     "output_type": "execute_result"
    }
   ],
   "source": [
    "a(2,3)"
   ]
  },
  {
   "cell_type": "code",
   "execution_count": 11,
   "id": "317cbbbc-4649-4580-8e51-ca36e8daa807",
   "metadata": {},
   "outputs": [],
   "source": [
    "a =lambda x,y:x+y "
   ]
  },
  {
   "cell_type": "code",
   "execution_count": 12,
   "id": "7128b447-14b1-4639-8e9a-95ab67226a1c",
   "metadata": {},
   "outputs": [
    {
     "data": {
      "text/plain": [
       "5"
      ]
     },
     "execution_count": 12,
     "metadata": {},
     "output_type": "execute_result"
    }
   ],
   "source": [
    "a(2,3)"
   ]
  },
  {
   "cell_type": "code",
   "execution_count": 13,
   "id": "0c363e24-c830-452d-b7e3-632cb8679d61",
   "metadata": {},
   "outputs": [],
   "source": [
    "c_to_f = lambda c: (9/5)*c +32"
   ]
  },
  {
   "cell_type": "code",
   "execution_count": 15,
   "id": "dd0fc56d-a491-4a33-9200-80456143bd84",
   "metadata": {},
   "outputs": [
    {
     "data": {
      "text/plain": [
       "113.0"
      ]
     },
     "execution_count": 15,
     "metadata": {},
     "output_type": "execute_result"
    }
   ],
   "source": [
    "c_to_f(45)"
   ]
  },
  {
   "cell_type": "code",
   "execution_count": 16,
   "id": "dd11ecc7-194b-4f46-bcfc-2a9caef6780d",
   "metadata": {},
   "outputs": [],
   "source": [
    "max =lambda x,y:x if x>y else y"
   ]
  },
  {
   "cell_type": "code",
   "execution_count": 17,
   "id": "03d3f869-966a-49a6-ae7d-e03f06ff66f0",
   "metadata": {},
   "outputs": [
    {
     "data": {
      "text/plain": [
       "56"
      ]
     },
     "execution_count": 17,
     "metadata": {},
     "output_type": "execute_result"
    }
   ],
   "source": [
    "max(23,56)"
   ]
  },
  {
   "cell_type": "code",
   "execution_count": 18,
   "id": "6a180169-5004-4e9b-b2d1-b8cb8477a47f",
   "metadata": {},
   "outputs": [],
   "source": [
    "s ='sudhir'"
   ]
  },
  {
   "cell_type": "code",
   "execution_count": 19,
   "id": "008b0a5c-39a6-4d06-9927-0cc19eae701f",
   "metadata": {},
   "outputs": [],
   "source": [
    "bhai=lambda s:len(s)"
   ]
  },
  {
   "cell_type": "code",
   "execution_count": 20,
   "id": "b307ddc3-ed85-4c3a-96fe-85e546b61c70",
   "metadata": {},
   "outputs": [
    {
     "data": {
      "text/plain": [
       "6"
      ]
     },
     "execution_count": 20,
     "metadata": {},
     "output_type": "execute_result"
    }
   ],
   "source": [
    "bhai(s)"
   ]
  },
  {
   "cell_type": "code",
   "execution_count": null,
   "id": "f32ae0b5-d9f5-4212-9f44-5df5fff21710",
   "metadata": {},
   "outputs": [],
   "source": []
  }
 ],
 "metadata": {
  "kernelspec": {
   "display_name": "Python 3 (ipykernel)",
   "language": "python",
   "name": "python3"
  },
  "language_info": {
   "codemirror_mode": {
    "name": "ipython",
    "version": 3
   },
   "file_extension": ".py",
   "mimetype": "text/x-python",
   "name": "python",
   "nbconvert_exporter": "python",
   "pygments_lexer": "ipython3",
   "version": "3.10.8"
  }
 },
 "nbformat": 4,
 "nbformat_minor": 5
}
