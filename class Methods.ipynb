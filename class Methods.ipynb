{
 "cells": [
  {
   "cell_type": "code",
   "execution_count": 49,
   "id": "0e95b963-9ce9-4dd9-bf55-90a992301088",
   "metadata": {},
   "outputs": [],
   "source": [
    "class pwskills :\n",
    "    \n",
    "    def __init__(self,name,gmail):\n",
    "        self.name = name\n",
    "        self.gmail = gmail\n",
    "        \n",
    "    def test1(self):\n",
    "        print(self.name,self.gmail)"
   ]
  },
  {
   "cell_type": "code",
   "execution_count": 50,
   "id": "5108ccf9-585a-4789-b7dd-04baf520d04d",
   "metadata": {},
   "outputs": [],
   "source": [
    "pw = pwskills( 'sudhir','sudhirsinghlodhi@gmail.com')"
   ]
  },
  {
   "cell_type": "code",
   "execution_count": 51,
   "id": "6cb0b808-7ce4-49fc-9d79-07c53eeef0db",
   "metadata": {},
   "outputs": [
    {
     "data": {
      "text/plain": [
       "'sudhir'"
      ]
     },
     "execution_count": 51,
     "metadata": {},
     "output_type": "execute_result"
    }
   ],
   "source": [
    "pw.name"
   ]
  },
  {
   "cell_type": "code",
   "execution_count": 52,
   "id": "67aac1dd-5869-4e85-a05a-5a1867639aa4",
   "metadata": {},
   "outputs": [
    {
     "data": {
      "text/plain": [
       "'sudhirsinghlodhi@gmail.com'"
      ]
     },
     "execution_count": 52,
     "metadata": {},
     "output_type": "execute_result"
    }
   ],
   "source": [
    "pw.gmail"
   ]
  },
  {
   "cell_type": "code",
   "execution_count": 53,
   "id": "815b7c62-730b-44ce-8ea6-f3a554475ea3",
   "metadata": {},
   "outputs": [
    {
     "name": "stdout",
     "output_type": "stream",
     "text": [
      "sudhir sudhirsinghlodhi@gmail.com\n"
     ]
    }
   ],
   "source": [
    "pw.test1()"
   ]
  },
  {
   "cell_type": "code",
   "execution_count": 65,
   "id": "ea15693e-77f2-4009-a9bf-5e0052a0205e",
   "metadata": {},
   "outputs": [],
   "source": [
    "class pwskills1:\n",
    "    def __init__(self,name,gmail):\n",
    "        self.name = name\n",
    "        self.gmail = gmail\n",
    "       \n",
    "    def test2(self):\n",
    "        return (self.name,self.gmail)"
   ]
  },
  {
   "cell_type": "code",
   "execution_count": 66,
   "id": "38063151-6588-42fb-9f75-4e4731bccc37",
   "metadata": {},
   "outputs": [],
   "source": [
    "pwe = pwskills1('rohit','rohit@887142')"
   ]
  },
  {
   "cell_type": "code",
   "execution_count": 67,
   "id": "d391af54-fb54-4945-b1f6-e46c8763be18",
   "metadata": {},
   "outputs": [
    {
     "data": {
      "text/plain": [
       "'rohit'"
      ]
     },
     "execution_count": 67,
     "metadata": {},
     "output_type": "execute_result"
    }
   ],
   "source": [
    "pwe.name"
   ]
  },
  {
   "cell_type": "code",
   "execution_count": 68,
   "id": "5312174a-e883-4a9a-87ce-d0460bee3fc5",
   "metadata": {},
   "outputs": [
    {
     "data": {
      "text/plain": [
       "'rohit@887142'"
      ]
     },
     "execution_count": 68,
     "metadata": {},
     "output_type": "execute_result"
    }
   ],
   "source": [
    "pwe.gmail"
   ]
  },
  {
   "cell_type": "code",
   "execution_count": 69,
   "id": "59023c8e-84dd-41c5-8e12-74d2dad602c7",
   "metadata": {},
   "outputs": [
    {
     "data": {
      "text/plain": [
       "('rohit', 'rohit@887142')"
      ]
     },
     "execution_count": 69,
     "metadata": {},
     "output_type": "execute_result"
    }
   ],
   "source": [
    "pwe.test2()"
   ]
  },
  {
   "cell_type": "code",
   "execution_count": 7,
   "id": "e962e7eb-0659-4aeb-9e65-b5fbdd95ea8d",
   "metadata": {},
   "outputs": [],
   "source": [
    "class pwskills2:\n",
    "    \n",
    "    mobile_num = 7720000000000\n",
    "    def __init__(self,name,gmail):\n",
    "            self.name = name\n",
    "            self.gmail = gmail\n",
    "        \n",
    "    @classmethod\n",
    "    def change_number(cls,mobile):\n",
    "        pwskills2.mobile_num = mobile\n",
    "    "
   ]
  },
  {
   "cell_type": "code",
   "execution_count": 9,
   "id": "4234795b-b812-4cd9-84b1-857c20ff156b",
   "metadata": {},
   "outputs": [
    {
     "data": {
      "text/plain": [
       "7720000000000"
      ]
     },
     "execution_count": 9,
     "metadata": {},
     "output_type": "execute_result"
    }
   ],
   "source": [
    "pwskills2.mobile_num"
   ]
  },
  {
   "cell_type": "code",
   "execution_count": 10,
   "id": "0f8377de-9cc1-4a26-9c9b-2e56bf7a0987",
   "metadata": {},
   "outputs": [],
   "source": [
    "pwskills2.change_number(3333333333333333)"
   ]
  },
  {
   "cell_type": "code",
   "execution_count": 11,
   "id": "2af19718-8d7e-4db8-bf60-395c7877636a",
   "metadata": {},
   "outputs": [
    {
     "data": {
      "text/plain": [
       "3333333333333333"
      ]
     },
     "execution_count": 11,
     "metadata": {},
     "output_type": "execute_result"
    }
   ],
   "source": [
    "pwskills2.mobile_num"
   ]
  },
  {
   "cell_type": "code",
   "execution_count": 12,
   "id": "9c5a48c9-b259-4016-b5e5-0d19411b5248",
   "metadata": {},
   "outputs": [],
   "source": [
    "class pwskills2:\n",
    "    \n",
    "    mobile_num = 7720000000000\n",
    "    def __init__(self,name,gmail):\n",
    "            self.name = name\n",
    "            self.gmail = gmail\n",
    "        \n",
    "    @classmethod\n",
    "    def change_number(cls,mobile):\n",
    "        pwskills2.mobile_num = mobile\n",
    "    @classmethod\n",
    "    def test(self,name,gmail):\n",
    "        return self( name,gmail)"
   ]
  },
  {
   "cell_type": "code",
   "execution_count": 21,
   "id": "d931ea3b-b4f0-4867-9c09-31d1d2fb038b",
   "metadata": {},
   "outputs": [],
   "source": [
    "pw = pwskills2.test('suddhir','rohit@gmail.com')"
   ]
  },
  {
   "cell_type": "code",
   "execution_count": 16,
   "id": "27e1413f-b365-41ad-99f0-34a131a0d61c",
   "metadata": {},
   "outputs": [
    {
     "data": {
      "text/plain": [
       "'suddhir'"
      ]
     },
     "execution_count": 16,
     "metadata": {},
     "output_type": "execute_result"
    }
   ],
   "source": [
    "pw.name"
   ]
  },
  {
   "cell_type": "code",
   "execution_count": 17,
   "id": "e8ebd561-7be5-44b5-9ded-9423eeeb1941",
   "metadata": {},
   "outputs": [
    {
     "data": {
      "text/plain": [
       "'rohit@gmail.com'"
      ]
     },
     "execution_count": 17,
     "metadata": {},
     "output_type": "execute_result"
    }
   ],
   "source": [
    "pw.gmail"
   ]
  },
  {
   "cell_type": "code",
   "execution_count": 1,
   "id": "f336aa9f-b58e-4234-b2c4-17801d305e68",
   "metadata": {},
   "outputs": [],
   "source": [
    "class pwskills2:\n",
    "    \n",
    "    mobile_num = 7720000000000\n",
    "    def __init__(self,name,gmail):\n",
    "            self.name = name\n",
    "            self.gmail = gmail\n",
    "        \n",
    "    @classmethod\n",
    "    def change_number(cls,mobile):\n",
    "        pwskills2.mobile_num = mobile\n",
    "    @classmethod\n",
    "    def test(self,name,gmail):\n",
    "        return self( name,gmail)"
   ]
  },
  {
   "cell_type": "code",
   "execution_count": 12,
   "id": "e1de2797-4059-47b6-a5ab-2aa6a4a029a2",
   "metadata": {},
   "outputs": [],
   "source": [
    "def cource_details(cls,cource_name):\n",
    "    print('cource is name',cource_name)\n",
    "    "
   ]
  },
  {
   "cell_type": "code",
   "execution_count": 13,
   "id": "4d5222a9-5f83-4c0d-9f3c-9cde578fcb20",
   "metadata": {},
   "outputs": [],
   "source": [
    "pwskills2.cource_details = classmethod(cource_details)"
   ]
  },
  {
   "cell_type": "code",
   "execution_count": 14,
   "id": "cfbdc462-f8cf-4921-b8b9-d36481342857",
   "metadata": {},
   "outputs": [
    {
     "name": "stdout",
     "output_type": "stream",
     "text": [
      "cource is name data science\n"
     ]
    }
   ],
   "source": [
    "pwskills2.cource_details('data science')"
   ]
  },
  {
   "cell_type": "code",
   "execution_count": 16,
   "id": "8f095c2e-97d6-40ee-b0ff-3f313a7196f5",
   "metadata": {},
   "outputs": [],
   "source": [
    "def mentor(cls,list_of_mentor):\n",
    "    print(list_of_mentor)"
   ]
  },
  {
   "cell_type": "code",
   "execution_count": 18,
   "id": "bc3f6cce-fccd-48d5-9516-80f7196b8345",
   "metadata": {},
   "outputs": [],
   "source": [
    "pwskills2.mentor =classmethod(mentor)"
   ]
  },
  {
   "cell_type": "code",
   "execution_count": 22,
   "id": "864610a6-a94a-4cea-a293-fc4d400d3646",
   "metadata": {},
   "outputs": [
    {
     "name": "stdout",
     "output_type": "stream",
     "text": [
      "[1, 2, 3, 4, 5, 6, 'sudhir', 'lodhi']\n"
     ]
    }
   ],
   "source": [
    "pwskills2.mentor([1,2,3,4,5,6,'sudhir','lodhi'])"
   ]
  },
  {
   "cell_type": "code",
   "execution_count": 30,
   "id": "3f3be39c-9038-4cda-a8d9-ff5399d1e2ef",
   "metadata": {},
   "outputs": [
    {
     "name": "stdout",
     "output_type": "stream",
     "text": [
      "Student: Harry 12 ABC School\n",
      "Student: Harry 14 XYZ School\n"
     ]
    }
   ],
   "source": [
    "class Student:\n",
    " \n",
    "    school_name = 'ABC School'\n",
    "\n",
    " \n",
    "    def __init__(self, name, age):\n",
    "     \n",
    "        self.name = name\n",
    "        self.age = age\n",
    "\n",
    "    def show(self):\n",
    "        print('Student:', self.name, self.age, Student.school_name)\n",
    "\n",
    "    def change_age(self, new_age):\n",
    "         self.age = new_age\n",
    "\n",
    "    @classmethod\n",
    "    def modify_school_name(cls, new_name):\n",
    "            cls.school_name = new_name\n",
    "\n",
    "s1 = Student(\"Harry\", 12)\n",
    "s1.show()\n",
    "s1.change_age(14)\n",
    "Student.modify_school_name('XYZ School')\n",
    "s1.show()\n",
    " \n"
   ]
  },
  {
   "cell_type": "code",
   "execution_count": null,
   "id": "f923705f-603a-4972-9950-6ddebd1bbf05",
   "metadata": {},
   "outputs": [],
   "source": []
  }
 ],
 "metadata": {
  "kernelspec": {
   "display_name": "Python 3 (ipykernel)",
   "language": "python",
   "name": "python3"
  },
  "language_info": {
   "codemirror_mode": {
    "name": "ipython",
    "version": 3
   },
   "file_extension": ".py",
   "mimetype": "text/x-python",
   "name": "python",
   "nbconvert_exporter": "python",
   "pygments_lexer": "ipython3",
   "version": "3.10.8"
  }
 },
 "nbformat": 4,
 "nbformat_minor": 5
}
