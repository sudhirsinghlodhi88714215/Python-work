{
 "cells": [
  {
   "cell_type": "code",
   "execution_count": 6,
   "id": "d9aacce6-5e7d-492c-81cd-f0bca6617ce0",
   "metadata": {},
   "outputs": [],
   "source": [
    "def test():\n",
    "    print('sudhir isnghlidhi')\n",
    "    print('this is my function')\n",
    "    print(2+3)\n",
    "    print('this is my fist')"
   ]
  },
  {
   "cell_type": "code",
   "execution_count": 7,
   "id": "415d7d24-5bb7-4199-85d3-0b8a6aeb20df",
   "metadata": {},
   "outputs": [
    {
     "name": "stdout",
     "output_type": "stream",
     "text": [
      "sudhir isnghlidhi\n",
      "this is my function\n",
      "5\n",
      "this is my fist\n"
     ]
    }
   ],
   "source": [
    "test()"
   ]
  },
  {
   "cell_type": "code",
   "execution_count": 21,
   "id": "d97d3c04-0e74-40c9-8cb5-6daff448a311",
   "metadata": {},
   "outputs": [],
   "source": [
    "def deco(func):\n",
    "    def inner_dec():\n",
    "           print('sudhir isnghlidhi')\n",
    "           print('this is my function')\n",
    "           func()\n",
    "           print('this is my fist')\n",
    "    return inner_dec\n",
    "        "
   ]
  },
  {
   "cell_type": "code",
   "execution_count": 22,
   "id": "63dee6e8-5f22-4888-b545-4e23f6711492",
   "metadata": {},
   "outputs": [],
   "source": [
    "@deco\n",
    "def test1():\n",
    "     print(24+24)"
   ]
  },
  {
   "cell_type": "code",
   "execution_count": 23,
   "id": "56f5ce79-8ce5-4171-97b1-2a44ea31e47c",
   "metadata": {},
   "outputs": [
    {
     "name": "stdout",
     "output_type": "stream",
     "text": [
      "sudhir isnghlidhi\n",
      "this is my function\n",
      "48\n",
      "this is my fist\n"
     ]
    }
   ],
   "source": [
    "test1()"
   ]
  },
  {
   "cell_type": "code",
   "execution_count": 36,
   "id": "4292ce07-77f8-4e40-b4df-c7a5b04df2cb",
   "metadata": {},
   "outputs": [],
   "source": [
    "import time\n",
    "\n",
    "def timer_test(func):\n",
    "    def timer_test_inner():\n",
    "        start = time.time()\n",
    "        func()\n",
    "        end = time.time()\n",
    "        print(end -start)\n",
    "    return timer_test_inner()   \n",
    "    "
   ]
  },
  {
   "cell_type": "code",
   "execution_count": 37,
   "id": "8a71e086-955d-433a-a9d6-e677cf9441e4",
   "metadata": {},
   "outputs": [
    {
     "name": "stdout",
     "output_type": "stream",
     "text": [
      "2222422222222222222222\n",
      "5.3882598876953125e-05\n"
     ]
    }
   ],
   "source": [
    "@timer_test\n",
    "def test2():\n",
    "    print(20000000+2222222222222222222222)"
   ]
  },
  {
   "cell_type": "code",
   "execution_count": 34,
   "id": "e44613a2-d094-41d7-83fc-dcf5c654b5ac",
   "metadata": {},
   "outputs": [],
   "source": [
    "import time\n",
    "\n",
    "def timer_test1(func):\n",
    "      def timer_test_inner():\n",
    "            start = time.time()\n",
    "            fune\n",
    "            end = time.time()\n",
    "            print(end- start)\n",
    "      return timer_test_inner\n",
    "    "
   ]
  },
  {
   "cell_type": "code",
   "execution_count": 38,
   "id": "ba78d3b8-da54-4ecc-9747-464fd73e529e",
   "metadata": {},
   "outputs": [
    {
     "name": "stdout",
     "output_type": "stream",
     "text": [
      "396\n",
      "4.744529724121094e-05\n"
     ]
    }
   ],
   "source": [
    "@timer_test\n",
    "def test3():\n",
    "    print(254+142)"
   ]
  },
  {
   "cell_type": "code",
   "execution_count": null,
   "id": "2956a572-8fed-4d49-b9ee-732304d3576f",
   "metadata": {},
   "outputs": [],
   "source": []
  }
 ],
 "metadata": {
  "kernelspec": {
   "display_name": "Python 3 (ipykernel)",
   "language": "python",
   "name": "python3"
  },
  "language_info": {
   "codemirror_mode": {
    "name": "ipython",
    "version": 3
   },
   "file_extension": ".py",
   "mimetype": "text/x-python",
   "name": "python",
   "nbconvert_exporter": "python",
   "pygments_lexer": "ipython3",
   "version": "3.10.8"
  }
 },
 "nbformat": 4,
 "nbformat_minor": 5
}
