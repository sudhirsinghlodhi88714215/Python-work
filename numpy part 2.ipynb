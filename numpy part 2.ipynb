{
 "cells": [
  {
   "cell_type": "code",
   "execution_count": 3,
   "id": "fab4d8ec-5c8c-4b1f-b632-247b8a89dd4b",
   "metadata": {},
   "outputs": [],
   "source": [
    "import numpy as np"
   ]
  },
  {
   "cell_type": "code",
   "execution_count": 4,
   "id": "98735cdb-4452-4d38-9401-cc1d69e15d4c",
   "metadata": {},
   "outputs": [
    {
     "data": {
      "text/plain": [
       "array([[2, 2, 4, 1],\n",
       "       [2, 3, 1, 1],\n",
       "       [3, 4, 2, 4]])"
      ]
     },
     "execution_count": 4,
     "metadata": {},
     "output_type": "execute_result"
    }
   ],
   "source": [
    "np.random.randint(1,5,(3,4))"
   ]
  },
  {
   "cell_type": "code",
   "execution_count": 5,
   "id": "56a4cbf3-39da-475e-a96d-8d0a9b2f8c47",
   "metadata": {},
   "outputs": [],
   "source": [
    "arr = np.random.randint(1,5,(3,4))"
   ]
  },
  {
   "cell_type": "code",
   "execution_count": 6,
   "id": "02fbb6be-5eab-4391-8dc0-2021e44a6b24",
   "metadata": {},
   "outputs": [
    {
     "data": {
      "text/plain": [
       "array([[3, 1, 3, 1, 3, 1],\n",
       "       [3, 4, 4, 3, 2, 3]])"
      ]
     },
     "execution_count": 6,
     "metadata": {},
     "output_type": "execute_result"
    }
   ],
   "source": [
    "arr.reshape(2,6)"
   ]
  },
  {
   "cell_type": "code",
   "execution_count": 7,
   "id": "e56b9fe0-51b6-4f75-8640-2d31ffb063b6",
   "metadata": {},
   "outputs": [
    {
     "data": {
      "text/plain": [
       "array([3, 1, 3, 1, 3, 1, 3, 4, 4, 3, 2, 3])"
      ]
     },
     "execution_count": 7,
     "metadata": {},
     "output_type": "execute_result"
    }
   ],
   "source": [
    "arr.flatten()"
   ]
  },
  {
   "cell_type": "code",
   "execution_count": 11,
   "id": "a2b51c18-4691-4843-9603-b3f75ff2c334",
   "metadata": {},
   "outputs": [
    {
     "data": {
      "text/plain": [
       "array([1, 2, 3, 4, 5])"
      ]
     },
     "execution_count": 11,
     "metadata": {},
     "output_type": "execute_result"
    }
   ],
   "source": [
    "np.array([1,2,3,4,5])"
   ]
  },
  {
   "cell_type": "code",
   "execution_count": null,
   "id": "d4e56e73-a6ee-4a10-86fc-4fb33ffde23e",
   "metadata": {},
   "outputs": [],
   "source": []
  },
  {
   "cell_type": "code",
   "execution_count": 12,
   "id": "e59d9721-dcba-4fe5-bb77-ee57f126ccf4",
   "metadata": {},
   "outputs": [],
   "source": [
    "arr1 =np.array([1,2,3,4,5])"
   ]
  },
  {
   "cell_type": "code",
   "execution_count": 13,
   "id": "99226187-8e38-44e6-9270-d48dfbd25d80",
   "metadata": {},
   "outputs": [
    {
     "data": {
      "text/plain": [
       "1"
      ]
     },
     "execution_count": 13,
     "metadata": {},
     "output_type": "execute_result"
    }
   ],
   "source": [
    "arr1.ndim"
   ]
  },
  {
   "cell_type": "code",
   "execution_count": 16,
   "id": "e46d782e-87f0-407c-9f21-577a34f39a11",
   "metadata": {},
   "outputs": [
    {
     "data": {
      "text/plain": [
       "array([[1],\n",
       "       [2],\n",
       "       [3],\n",
       "       [4],\n",
       "       [5]])"
      ]
     },
     "execution_count": 16,
     "metadata": {},
     "output_type": "execute_result"
    }
   ],
   "source": [
    "np.expand_dims(arr1,axis =1)"
   ]
  },
  {
   "cell_type": "code",
   "execution_count": 17,
   "id": "7f0466e2-35b0-4c83-9e65-aa7010a3fd0f",
   "metadata": {},
   "outputs": [
    {
     "data": {
      "text/plain": [
       "array([[1, 2, 3, 4, 5]])"
      ]
     },
     "execution_count": 17,
     "metadata": {},
     "output_type": "execute_result"
    }
   ],
   "source": [
    "np.expand_dims(arr1,axis = 0)"
   ]
  },
  {
   "cell_type": "code",
   "execution_count": 18,
   "id": "620a0efd-4a0f-4b08-bbe7-abeb99f592dd",
   "metadata": {},
   "outputs": [
    {
     "data": {
      "text/plain": [
       "array([[3, 1, 3, 1],\n",
       "       [3, 1, 3, 4],\n",
       "       [4, 3, 2, 3]])"
      ]
     },
     "execution_count": 18,
     "metadata": {},
     "output_type": "execute_result"
    }
   ],
   "source": [
    "arr"
   ]
  },
  {
   "cell_type": "code",
   "execution_count": 19,
   "id": "b15e8191-5f64-48dd-a98b-38ee9034353f",
   "metadata": {},
   "outputs": [
    {
     "data": {
      "text/plain": [
       "array([[3, 1, 3, 1],\n",
       "       [3, 1, 3, 4],\n",
       "       [4, 3, 2, 3]])"
      ]
     },
     "execution_count": 19,
     "metadata": {},
     "output_type": "execute_result"
    }
   ],
   "source": [
    "np.squeeze(arr)"
   ]
  },
  {
   "cell_type": "code",
   "execution_count": 20,
   "id": "cd096ff0-5932-4496-bae7-b80b7c7f62d6",
   "metadata": {},
   "outputs": [
    {
     "data": {
      "text/plain": [
       "array([[1],\n",
       "       [2],\n",
       "       [3]])"
      ]
     },
     "execution_count": 20,
     "metadata": {},
     "output_type": "execute_result"
    }
   ],
   "source": [
    "np.array([[1],[2],[3]])"
   ]
  },
  {
   "cell_type": "code",
   "execution_count": 21,
   "id": "9070cde4-0851-4f17-9676-bb78d289f494",
   "metadata": {},
   "outputs": [],
   "source": [
    "data = np.array([[1],[2],[3]])"
   ]
  },
  {
   "cell_type": "code",
   "execution_count": 25,
   "id": "45329555-de95-4450-9158-881bce48a8f3",
   "metadata": {},
   "outputs": [
    {
     "data": {
      "text/plain": [
       "array([1, 2, 3])"
      ]
     },
     "execution_count": 25,
     "metadata": {},
     "output_type": "execute_result"
    }
   ],
   "source": [
    "np.squeeze(data)"
   ]
  },
  {
   "cell_type": "code",
   "execution_count": 26,
   "id": "958a2cbe-7ed6-4eff-b06e-8621d3be1bde",
   "metadata": {},
   "outputs": [
    {
     "data": {
      "text/plain": [
       "array([1, 2, 3, 4, 5])"
      ]
     },
     "execution_count": 26,
     "metadata": {},
     "output_type": "execute_result"
    }
   ],
   "source": [
    "arr1"
   ]
  },
  {
   "cell_type": "code",
   "execution_count": 32,
   "id": "6ab15420-85db-4ac4-ad0f-45506b9450a8",
   "metadata": {},
   "outputs": [
    {
     "data": {
      "text/plain": [
       "array([1, 1, 1, 2, 2, 2, 3, 3, 3, 4, 4, 4, 5, 5, 5])"
      ]
     },
     "execution_count": 32,
     "metadata": {},
     "output_type": "execute_result"
    }
   ],
   "source": [
    "np.repeat(arr1,3)"
   ]
  },
  {
   "cell_type": "code",
   "execution_count": 36,
   "id": "55197bbc-f2da-487f-9dde-a176e61ebf8b",
   "metadata": {},
   "outputs": [
    {
     "data": {
      "text/plain": [
       "array([4, 5, 1, 2, 3])"
      ]
     },
     "execution_count": 36,
     "metadata": {},
     "output_type": "execute_result"
    }
   ],
   "source": [
    "np.roll(arr1,2)"
   ]
  },
  {
   "cell_type": "code",
   "execution_count": 34,
   "id": "5b2d8909-154d-4a84-80df-85b4ac1da649",
   "metadata": {},
   "outputs": [
    {
     "data": {
      "text/plain": [
       "array([1, 2, 3, 4, 5])"
      ]
     },
     "execution_count": 34,
     "metadata": {},
     "output_type": "execute_result"
    }
   ],
   "source": [
    "arr1"
   ]
  },
  {
   "cell_type": "code",
   "execution_count": 35,
   "id": "072d145c-3f1d-4b31-a6ff-32564abf8e78",
   "metadata": {},
   "outputs": [
    {
     "data": {
      "text/plain": [
       "array([3, 4, 5, 1, 2])"
      ]
     },
     "execution_count": 35,
     "metadata": {},
     "output_type": "execute_result"
    }
   ],
   "source": [
    "np.roll(arr1,3)"
   ]
  },
  {
   "cell_type": "code",
   "execution_count": 37,
   "id": "48e70a5e-40f6-48a1-ab98-3fd73caa35f8",
   "metadata": {},
   "outputs": [
    {
     "data": {
      "text/plain": [
       "array([2, 3, 4, 5, 1])"
      ]
     },
     "execution_count": 37,
     "metadata": {},
     "output_type": "execute_result"
    }
   ],
   "source": [
    "np.roll(arr1,4)"
   ]
  },
  {
   "cell_type": "code",
   "execution_count": 38,
   "id": "06caf8d1-b357-4183-b953-ffaa6769ff71",
   "metadata": {},
   "outputs": [
    {
     "data": {
      "text/plain": [
       "array([[1, 0, 0, 0, 0],\n",
       "       [0, 2, 0, 0, 0],\n",
       "       [0, 0, 3, 0, 0],\n",
       "       [0, 0, 0, 4, 0],\n",
       "       [0, 0, 0, 0, 5]])"
      ]
     },
     "execution_count": 38,
     "metadata": {},
     "output_type": "execute_result"
    }
   ],
   "source": [
    "np.diag(arr1)"
   ]
  },
  {
   "cell_type": "code",
   "execution_count": null,
   "id": "7871ce43-a8e4-4028-9a3a-0a47258ef54a",
   "metadata": {},
   "outputs": [],
   "source": [
    "#Pythen Binary Operators"
   ]
  },
  {
   "cell_type": "code",
   "execution_count": 39,
   "id": "8c6be360-e14b-48f6-9a33-3840c8664072",
   "metadata": {},
   "outputs": [
    {
     "data": {
      "text/plain": [
       "array([[8, 8, 5, 1],\n",
       "       [8, 9, 2, 8],\n",
       "       [1, 6, 4, 4]])"
      ]
     },
     "execution_count": 39,
     "metadata": {},
     "output_type": "execute_result"
    }
   ],
   "source": [
    "np.random.randint(1,10,(3,4))"
   ]
  },
  {
   "cell_type": "code",
   "execution_count": 40,
   "id": "5a744ff7-2508-4648-a8d4-ff909c8b7062",
   "metadata": {},
   "outputs": [],
   "source": [
    "arr2 = np.random.randint(1,10,(3,4))"
   ]
  },
  {
   "cell_type": "code",
   "execution_count": 41,
   "id": "43de0902-a08d-4936-8820-07a40c318554",
   "metadata": {},
   "outputs": [
    {
     "data": {
      "text/plain": [
       "array([[2, 2, 8, 7],\n",
       "       [7, 5, 7, 8],\n",
       "       [2, 5, 1, 9]])"
      ]
     },
     "execution_count": 41,
     "metadata": {},
     "output_type": "execute_result"
    }
   ],
   "source": [
    "arr2"
   ]
  },
  {
   "cell_type": "code",
   "execution_count": 44,
   "id": "ada297bc-c036-45d1-8e1f-6c91c8058611",
   "metadata": {},
   "outputs": [
    {
     "data": {
      "text/plain": [
       "array([1, 2, 3, 4, 5])"
      ]
     },
     "execution_count": 44,
     "metadata": {},
     "output_type": "execute_result"
    }
   ],
   "source": [
    "arr1 "
   ]
  },
  {
   "cell_type": "code",
   "execution_count": 45,
   "id": "59a0b9ea-fd68-443d-a6c3-5ebd322e80f3",
   "metadata": {},
   "outputs": [],
   "source": [
    "arr1 = np.random.randint(1,10,(3,4))"
   ]
  },
  {
   "cell_type": "code",
   "execution_count": 46,
   "id": "6de37e96-1b58-443a-a795-541660974dc9",
   "metadata": {},
   "outputs": [
    {
     "data": {
      "text/plain": [
       "array([[ 9,  5, 12,  8],\n",
       "       [ 9, 13, 16, 16],\n",
       "       [11, 11,  2, 13]])"
      ]
     },
     "execution_count": 46,
     "metadata": {},
     "output_type": "execute_result"
    }
   ],
   "source": [
    "arr1+arr2"
   ]
  },
  {
   "cell_type": "code",
   "execution_count": 47,
   "id": "076b54d1-6abe-451d-bacd-4a517443f822",
   "metadata": {},
   "outputs": [
    {
     "data": {
      "text/plain": [
       "array([[7, 3, 4, 1],\n",
       "       [2, 8, 9, 8],\n",
       "       [9, 6, 1, 4]])"
      ]
     },
     "execution_count": 47,
     "metadata": {},
     "output_type": "execute_result"
    }
   ],
   "source": [
    "arr1"
   ]
  },
  {
   "cell_type": "code",
   "execution_count": 49,
   "id": "39c1daa6-c542-42dd-b92f-fd4c2195a9f2",
   "metadata": {},
   "outputs": [
    {
     "data": {
      "text/plain": [
       "array([[3.5       , 1.5       , 0.5       , 0.14285714],\n",
       "       [0.28571429, 1.6       , 1.28571429, 1.        ],\n",
       "       [4.5       , 1.2       , 1.        , 0.44444444]])"
      ]
     },
     "execution_count": 49,
     "metadata": {},
     "output_type": "execute_result"
    }
   ],
   "source": [
    "arr1/arr2"
   ]
  },
  {
   "cell_type": "code",
   "execution_count": 50,
   "id": "6d3865b6-dffa-4d78-b8fd-3fd0de2e30dd",
   "metadata": {},
   "outputs": [
    {
     "data": {
      "text/plain": [
       "array([[ 5,  1, -4, -6],\n",
       "       [-5,  3,  2,  0],\n",
       "       [ 7,  1,  0, -5]])"
      ]
     },
     "execution_count": 50,
     "metadata": {},
     "output_type": "execute_result"
    }
   ],
   "source": [
    "arr1-arr2"
   ]
  },
  {
   "cell_type": "code",
   "execution_count": 51,
   "id": "af3d2c19-58c9-4300-8aa4-ce4e46f70763",
   "metadata": {},
   "outputs": [
    {
     "data": {
      "text/plain": [
       "array([[14,  6, 32,  7],\n",
       "       [14, 40, 63, 64],\n",
       "       [18, 30,  1, 36]])"
      ]
     },
     "execution_count": 51,
     "metadata": {},
     "output_type": "execute_result"
    }
   ],
   "source": [
    "arr1*arr2"
   ]
  },
  {
   "cell_type": "code",
   "execution_count": 52,
   "id": "1b8f084e-cc52-4bfe-90b2-d1455e3fe188",
   "metadata": {},
   "outputs": [
    {
     "data": {
      "text/plain": [
       "array([[1, 1, 4, 1],\n",
       "       [2, 3, 2, 0],\n",
       "       [1, 1, 0, 4]])"
      ]
     },
     "execution_count": 52,
     "metadata": {},
     "output_type": "execute_result"
    }
   ],
   "source": [
    "arr1%arr2"
   ]
  },
  {
   "cell_type": "code",
   "execution_count": 53,
   "id": "e3480aa8-a632-4716-b563-a27c27dfacad",
   "metadata": {},
   "outputs": [
    {
     "data": {
      "text/plain": [
       "array([[      49,        9,    65536,        1],\n",
       "       [     128,    32768,  4782969, 16777216],\n",
       "       [      81,     7776,        1,   262144]])"
      ]
     },
     "execution_count": 53,
     "metadata": {},
     "output_type": "execute_result"
    }
   ],
   "source": [
    "arr1**arr2"
   ]
  },
  {
   "cell_type": "code",
   "execution_count": 54,
   "id": "02746632-add7-4e28-881d-21bffe3b3765",
   "metadata": {},
   "outputs": [
    {
     "data": {
      "text/plain": [
       "array([[2, 2, 0, 1],\n",
       "       [2, 0, 1, 8],\n",
       "       [0, 4, 1, 0]])"
      ]
     },
     "execution_count": 54,
     "metadata": {},
     "output_type": "execute_result"
    }
   ],
   "source": [
    "arr1&arr2"
   ]
  },
  {
   "cell_type": "code",
   "execution_count": 55,
   "id": "52328667-aea4-43be-ade6-a738996a785c",
   "metadata": {},
   "outputs": [
    {
     "data": {
      "text/plain": [
       "array([[ -8,  -4,  -5,  -2],\n",
       "       [ -3,  -9, -10,  -9],\n",
       "       [-10,  -7,  -2,  -5]])"
      ]
     },
     "execution_count": 55,
     "metadata": {},
     "output_type": "execute_result"
    }
   ],
   "source": [
    "~arr1"
   ]
  },
  {
   "cell_type": "code",
   "execution_count": 56,
   "id": "2ae5e86a-f73b-470e-811b-5f49536b5a7c",
   "metadata": {},
   "outputs": [
    {
     "data": {
      "text/plain": [
       "array([[ 7,  3, 12,  7],\n",
       "       [ 7, 13, 15,  8],\n",
       "       [11,  7,  1, 13]])"
      ]
     },
     "execution_count": 56,
     "metadata": {},
     "output_type": "execute_result"
    }
   ],
   "source": [
    "arr1|arr2"
   ]
  },
  {
   "cell_type": "code",
   "execution_count": 57,
   "id": "f286c250-65a8-42e2-b155-3d6f32da606c",
   "metadata": {},
   "outputs": [
    {
     "data": {
      "text/plain": [
       "array([[ True,  True, False, False],\n",
       "       [False,  True,  True, False],\n",
       "       [ True,  True, False, False]])"
      ]
     },
     "execution_count": 57,
     "metadata": {},
     "output_type": "execute_result"
    }
   ],
   "source": [
    "arr1>arr2"
   ]
  },
  {
   "cell_type": "code",
   "execution_count": null,
   "id": "0baeb0d3-a612-4bb9-8fd6-3ad520965e93",
   "metadata": {},
   "outputs": [],
   "source": [
    "#Numpy String Functions."
   ]
  },
  {
   "cell_type": "code",
   "execution_count": 58,
   "id": "1b3b6f7c-2d5e-4162-9fb1-c0b1fbb5c8b4",
   "metadata": {},
   "outputs": [
    {
     "data": {
      "text/plain": [
       "array(['sudhir', 'lodhi'], dtype='<U6')"
      ]
     },
     "execution_count": 58,
     "metadata": {},
     "output_type": "execute_result"
    }
   ],
   "source": [
    "np.array(['sudhir','lodhi'])"
   ]
  },
  {
   "cell_type": "code",
   "execution_count": 59,
   "id": "0eb1811c-8a4c-457d-869d-1369d2507844",
   "metadata": {},
   "outputs": [],
   "source": [
    "arr3 = np.array(['sudhir','lodhi'])"
   ]
  },
  {
   "cell_type": "code",
   "execution_count": 60,
   "id": "d2639ec4-fc86-47f5-9740-860d2ea91137",
   "metadata": {},
   "outputs": [
    {
     "data": {
      "text/plain": [
       "array(['sudhir', 'lodhi'], dtype='<U6')"
      ]
     },
     "execution_count": 60,
     "metadata": {},
     "output_type": "execute_result"
    }
   ],
   "source": [
    "arr3"
   ]
  },
  {
   "cell_type": "code",
   "execution_count": 61,
   "id": "22105d8d-c99f-4984-8c35-20f347019ced",
   "metadata": {},
   "outputs": [
    {
     "data": {
      "text/plain": [
       "array(['SUDHIR', 'LODHI'], dtype='<U6')"
      ]
     },
     "execution_count": 61,
     "metadata": {},
     "output_type": "execute_result"
    }
   ],
   "source": [
    "np.char.upper(arr3)"
   ]
  },
  {
   "cell_type": "code",
   "execution_count": 65,
   "id": "0b9860be-964a-426f-87bf-dca4899f38ab",
   "metadata": {},
   "outputs": [
    {
     "data": {
      "text/plain": [
       "array(['Sudhir', 'Lodhi'], dtype='<U6')"
      ]
     },
     "execution_count": 65,
     "metadata": {},
     "output_type": "execute_result"
    }
   ],
   "source": [
    "np.char.title(arr3)"
   ]
  },
  {
   "cell_type": "code",
   "execution_count": 67,
   "id": "e7c08347-69ad-4c8c-87bc-c2bc38b3f661",
   "metadata": {},
   "outputs": [
    {
     "data": {
      "text/plain": [
       "array(['Sudhir', 'Lodhi'], dtype='<U6')"
      ]
     },
     "execution_count": 67,
     "metadata": {},
     "output_type": "execute_result"
    }
   ],
   "source": [
    "np.char.capitalize(arr3)"
   ]
  },
  {
   "cell_type": "code",
   "execution_count": null,
   "id": "77563d6d-de9b-4850-85ed-e34a2054bd19",
   "metadata": {},
   "outputs": [],
   "source": [
    "#Pythen Mathematical Function"
   ]
  },
  {
   "cell_type": "code",
   "execution_count": 68,
   "id": "e1016ae6-2d18-48c4-9fcb-a27c7d458063",
   "metadata": {},
   "outputs": [
    {
     "data": {
      "text/plain": [
       "array([[7, 3, 4, 1],\n",
       "       [2, 8, 9, 8],\n",
       "       [9, 6, 1, 4]])"
      ]
     },
     "execution_count": 68,
     "metadata": {},
     "output_type": "execute_result"
    }
   ],
   "source": [
    "arr1"
   ]
  },
  {
   "cell_type": "code",
   "execution_count": 70,
   "id": "e70717c3-606e-4412-8af7-83d74cfdec98",
   "metadata": {},
   "outputs": [
    {
     "data": {
      "text/plain": [
       "array([[ 0.6569866 ,  0.14112001, -0.7568025 ,  0.84147098],\n",
       "       [ 0.90929743,  0.98935825,  0.41211849,  0.98935825],\n",
       "       [ 0.41211849, -0.2794155 ,  0.84147098, -0.7568025 ]])"
      ]
     },
     "execution_count": 70,
     "metadata": {},
     "output_type": "execute_result"
    }
   ],
   "source": [
    "np.sin(arr1)"
   ]
  },
  {
   "cell_type": "code",
   "execution_count": 72,
   "id": "b3a10e35-91f0-4960-b70a-4978aaca2bbb",
   "metadata": {},
   "outputs": [
    {
     "data": {
      "text/plain": [
       "array([[ 0.75390225, -0.9899925 , -0.65364362,  0.54030231],\n",
       "       [-0.41614684, -0.14550003, -0.91113026, -0.14550003],\n",
       "       [-0.91113026,  0.96017029,  0.54030231, -0.65364362]])"
      ]
     },
     "execution_count": 72,
     "metadata": {},
     "output_type": "execute_result"
    }
   ],
   "source": [
    "np.cos(arr1)"
   ]
  },
  {
   "cell_type": "code",
   "execution_count": 76,
   "id": "d68256d3-892b-494c-bafc-4ebca420edf2",
   "metadata": {},
   "outputs": [
    {
     "data": {
      "text/plain": [
       "array([[ 0.87144798, -0.14254654,  1.15782128,  1.55740772],\n",
       "       [-2.18503986, -6.79971146, -0.45231566, -6.79971146],\n",
       "       [-0.45231566, -0.29100619,  1.55740772,  1.15782128]])"
      ]
     },
     "execution_count": 76,
     "metadata": {},
     "output_type": "execute_result"
    }
   ],
   "source": [
    "np.tan(arr1)"
   ]
  },
  {
   "cell_type": "code",
   "execution_count": 77,
   "id": "5200c2ad-aa07-41fb-a3a6-c3cfb1cf168e",
   "metadata": {},
   "outputs": [
    {
     "data": {
      "text/plain": [
       "array([[0.99999834, 0.99505475, 0.9993293 , 0.76159416],\n",
       "       [0.96402758, 0.99999977, 0.99999997, 0.99999977],\n",
       "       [0.99999997, 0.99998771, 0.76159416, 0.9993293 ]])"
      ]
     },
     "execution_count": 77,
     "metadata": {},
     "output_type": "execute_result"
    }
   ],
   "source": [
    "np.tanh(arr1)"
   ]
  },
  {
   "cell_type": "code",
   "execution_count": 78,
   "id": "62cf7757-30a9-4783-a454-e8d4a1f501e6",
   "metadata": {},
   "outputs": [
    {
     "data": {
      "text/plain": [
       "array([[1.94591015, 1.09861229, 1.38629436, 0.        ],\n",
       "       [0.69314718, 2.07944154, 2.19722458, 2.07944154],\n",
       "       [2.19722458, 1.79175947, 0.        , 1.38629436]])"
      ]
     },
     "execution_count": 78,
     "metadata": {},
     "output_type": "execute_result"
    }
   ],
   "source": [
    "np.log(arr1)"
   ]
  },
  {
   "cell_type": "code",
   "execution_count": 79,
   "id": "67e7dada-698c-4458-a5a1-b013333b3f5d",
   "metadata": {},
   "outputs": [
    {
     "data": {
      "text/plain": [
       "array([[0.84509804, 0.47712125, 0.60205999, 0.        ],\n",
       "       [0.30103   , 0.90308999, 0.95424251, 0.90308999],\n",
       "       [0.95424251, 0.77815125, 0.        , 0.60205999]])"
      ]
     },
     "execution_count": 79,
     "metadata": {},
     "output_type": "execute_result"
    }
   ],
   "source": [
    "np.log10(arr1)"
   ]
  },
  {
   "cell_type": "code",
   "execution_count": 80,
   "id": "f0500656-41d4-4e77-8724-99450c4d444f",
   "metadata": {},
   "outputs": [
    {
     "data": {
      "text/plain": [
       "array([[1.09663316e+03, 2.00855369e+01, 5.45981500e+01, 2.71828183e+00],\n",
       "       [7.38905610e+00, 2.98095799e+03, 8.10308393e+03, 2.98095799e+03],\n",
       "       [8.10308393e+03, 4.03428793e+02, 2.71828183e+00, 5.45981500e+01]])"
      ]
     },
     "execution_count": 80,
     "metadata": {},
     "output_type": "execute_result"
    }
   ],
   "source": [
    "np.exp(arr1)"
   ]
  },
  {
   "cell_type": "code",
   "execution_count": 81,
   "id": "0ec34605-ac67-4d54-8e14-d6cd804d7811",
   "metadata": {},
   "outputs": [
    {
     "data": {
      "text/plain": [
       "array([[2.64575131, 1.73205081, 2.        , 1.        ],\n",
       "       [1.41421356, 2.82842712, 3.        , 2.82842712],\n",
       "       [3.        , 2.44948974, 1.        , 2.        ]])"
      ]
     },
     "execution_count": 81,
     "metadata": {},
     "output_type": "execute_result"
    }
   ],
   "source": [
    "np.sqrt(arr1)"
   ]
  },
  {
   "cell_type": "code",
   "execution_count": 84,
   "id": "732e1fc0-a47e-43d2-80b8-b080bfaf83f8",
   "metadata": {},
   "outputs": [
    {
     "data": {
      "text/plain": [
       "array([[343,  27,  64,   1],\n",
       "       [  8, 512, 729, 512],\n",
       "       [729, 216,   1,  64]])"
      ]
     },
     "execution_count": 84,
     "metadata": {},
     "output_type": "execute_result"
    }
   ],
   "source": [
    "np.power(arr1,3)"
   ]
  },
  {
   "cell_type": "code",
   "execution_count": 85,
   "id": "950d869d-55c3-414a-9915-ecd31ed7e7eb",
   "metadata": {},
   "outputs": [
    {
     "data": {
      "text/plain": [
       "2.9107081994288304"
      ]
     },
     "execution_count": 85,
     "metadata": {},
     "output_type": "execute_result"
    }
   ],
   "source": [
    "np.std(arr1)"
   ]
  },
  {
   "cell_type": "code",
   "execution_count": 87,
   "id": "0d643ad7-62f5-4645-a13a-fc693413806c",
   "metadata": {},
   "outputs": [
    {
     "data": {
      "text/plain": [
       "8.472222222222223"
      ]
     },
     "execution_count": 87,
     "metadata": {},
     "output_type": "execute_result"
    }
   ],
   "source": [
    "np.var(arr1)"
   ]
  },
  {
   "cell_type": "code",
   "execution_count": 88,
   "id": "13b3cf6b-645c-49fd-a601-446ba9ca312a",
   "metadata": {},
   "outputs": [
    {
     "data": {
      "text/plain": [
       "1"
      ]
     },
     "execution_count": 88,
     "metadata": {},
     "output_type": "execute_result"
    }
   ],
   "source": [
    "np.min(arr1)"
   ]
  },
  {
   "cell_type": "code",
   "execution_count": 90,
   "id": "ab1c5028-33bc-4b48-8d7b-f1364bbdce35",
   "metadata": {},
   "outputs": [
    {
     "data": {
      "text/plain": [
       "9"
      ]
     },
     "execution_count": 90,
     "metadata": {},
     "output_type": "execute_result"
    }
   ],
   "source": [
    "np.max(arr1)"
   ]
  },
  {
   "cell_type": "code",
   "execution_count": 91,
   "id": "2dc655a6-2459-4b46-9878-4c44810bd84d",
   "metadata": {},
   "outputs": [
    {
     "data": {
      "text/plain": [
       "array([[7, 3, 4, 1],\n",
       "       [2, 8, 9, 8],\n",
       "       [9, 6, 1, 4]])"
      ]
     },
     "execution_count": 91,
     "metadata": {},
     "output_type": "execute_result"
    }
   ],
   "source": [
    "arr1"
   ]
  },
  {
   "cell_type": "code",
   "execution_count": null,
   "id": "62450867-face-4e66-8eca-2423da4a74bc",
   "metadata": {},
   "outputs": [],
   "source": []
  }
 ],
 "metadata": {
  "kernelspec": {
   "display_name": "Python 3 (ipykernel)",
   "language": "python",
   "name": "python3"
  },
  "language_info": {
   "codemirror_mode": {
    "name": "ipython",
    "version": 3
   },
   "file_extension": ".py",
   "mimetype": "text/x-python",
   "name": "python",
   "nbconvert_exporter": "python",
   "pygments_lexer": "ipython3",
   "version": "3.10.8"
  }
 },
 "nbformat": 4,
 "nbformat_minor": 5
}
