{
 "cells": [
  {
   "cell_type": "code",
   "execution_count": 1,
   "id": "8accc343-2504-4622-b8f1-f403f3411397",
   "metadata": {},
   "outputs": [
    {
     "name": "stdout",
     "output_type": "stream",
     "text": [
      "you will be a part of A3 batch\n"
     ]
    }
   ],
   "source": [
    "marks=6\n",
    "if    marks >=80:\n",
    "       print(\"you will be a part of A0 batch\")\n",
    "elif   marks >=60 and marks>80:\n",
    "            print('you will be a part of A1 batch')\n",
    "elif    marks >=40 and marks >60 :\n",
    "         print('you will be a part of A2 batch')\n",
    "\n",
    "else   :        \n",
    "         print('you will be a part of A3 batch')"
   ]
  },
  {
   "cell_type": "code",
   "execution_count": 2,
   "id": "68c8b955-a101-43c1-83b7-0922a788d0d7",
   "metadata": {},
   "outputs": [
    {
     "data": {
      "text/plain": [
       "False"
      ]
     },
     "execution_count": 2,
     "metadata": {},
     "output_type": "execute_result"
    }
   ],
   "source": [
    "10>=78"
   ]
  },
  {
   "cell_type": "code",
   "execution_count": 3,
   "id": "67ea94bd-21e0-4778-98f5-a5e99a629420",
   "metadata": {},
   "outputs": [
    {
     "data": {
      "text/plain": [
       "True"
      ]
     },
     "execution_count": 3,
     "metadata": {},
     "output_type": "execute_result"
    }
   ],
   "source": [
    "452<=456"
   ]
  },
  {
   "cell_type": "code",
   "execution_count": null,
   "id": "b4e3e37b-6695-4bd7-a4ad-3f8782e5eb15",
   "metadata": {},
   "outputs": [],
   "source": [
    "price= int(input('enter price'))\n",
    "if price >1000:\n",
    "    price('l will purchase')\n",
    "else:\n",
    "        price('l will purchase')\n",
    "    \n",
    "    \n",
    "    \n",
    "    \n",
    "    "
   ]
  },
  {
   "cell_type": "code",
   "execution_count": 1,
   "id": "243141de-f907-45e9-8785-3d1a8baa18ba",
   "metadata": {},
   "outputs": [
    {
     "data": {
      "text/plain": [
       "False"
      ]
     },
     "execution_count": 1,
     "metadata": {},
     "output_type": "execute_result"
    }
   ],
   "source": [
    "12>=455"
   ]
  },
  {
   "cell_type": "code",
   "execution_count": 2,
   "id": "181e15dc-7f1a-4b10-a9f5-21af0435bb2f",
   "metadata": {},
   "outputs": [
    {
     "data": {
      "text/plain": [
       "True"
      ]
     },
     "execution_count": 2,
     "metadata": {},
     "output_type": "execute_result"
    }
   ],
   "source": [
    "54>=12"
   ]
  },
  {
   "cell_type": "code",
   "execution_count": 1,
   "id": "f7da6b8e-eb76-4df5-b508-e5512bf55581",
   "metadata": {},
   "outputs": [
    {
     "data": {
      "text/plain": [
       "True"
      ]
     },
     "execution_count": 1,
     "metadata": {},
     "output_type": "execute_result"
    }
   ],
   "source": [
    "45>=45"
   ]
  },
  {
   "cell_type": "code",
   "execution_count": null,
   "id": "c87151c9-a14e-46ce-92be-62c043eeb3c9",
   "metadata": {},
   "outputs": [],
   "source": [
    "price=int(input('enter price'))\n",
    "if price >1000 :\n",
    "    print('i will not purchase')\n",
    "if price >5000 :\n",
    "        print('this is too mach')\n",
    "elif   price < 2000 :\n",
    "            print('its okay')\n",
    "elif  price <1000 :\n",
    "    print('i will purchase')\n",
    "else :\n",
    "         print('not intersted')"
   ]
  },
  {
   "cell_type": "code",
   "execution_count": 1,
   "id": "11388a44-4295-470a-8224-70096f34806a",
   "metadata": {},
   "outputs": [
    {
     "data": {
      "text/plain": [
       "False"
      ]
     },
     "execution_count": 1,
     "metadata": {},
     "output_type": "execute_result"
    }
   ],
   "source": [
    "124>=456"
   ]
  },
  {
   "cell_type": "code",
   "execution_count": null,
   "id": "869ecd13-4a78-4321-a00e-ef0f66673aa2",
   "metadata": {},
   "outputs": [],
   "source": []
  },
  {
   "cell_type": "code",
   "execution_count": null,
   "id": "2e34a6c3-c8d7-4770-9409-2e0e2bf639b2",
   "metadata": {},
   "outputs": [],
   "source": [
    "price=int(input('enter price'))\n",
    "if price >1000 :\n",
    "    print('i will not purchase')\n",
    "if price >5000 :\n",
    "        print('this is too mach')\n",
    "elif   price < 2000 :\n",
    "            print('its okay')\n",
    "elif  price <1000 :\n",
    "    print('i will purchase')\n",
    "else :\n",
    "         print('not intersted')"
   ]
  },
  {
   "cell_type": "code",
   "execution_count": null,
   "id": "6b14914b-bd16-407c-87a7-27d91ffd2aa6",
   "metadata": {},
   "outputs": [],
   "source": [
    "12>=456"
   ]
  },
  {
   "cell_type": "code",
   "execution_count": 1,
   "id": "ccda3ab0-65d5-4a33-aedc-d70b83f5afee",
   "metadata": {},
   "outputs": [
    {
     "data": {
      "text/plain": [
       "False"
      ]
     },
     "execution_count": 1,
     "metadata": {},
     "output_type": "execute_result"
    }
   ],
   "source": [
    "12>45"
   ]
  },
  {
   "cell_type": "code",
   "execution_count": 2,
   "id": "0524e698-8602-4a8d-b7bd-0a1266d596a4",
   "metadata": {},
   "outputs": [
    {
     "data": {
      "text/plain": [
       "False"
      ]
     },
     "execution_count": 2,
     "metadata": {},
     "output_type": "execute_result"
    }
   ],
   "source": [
    "23>45"
   ]
  },
  {
   "cell_type": "code",
   "execution_count": 3,
   "id": "486b0ec4-413a-4a70-81d2-d8a19433a06e",
   "metadata": {},
   "outputs": [
    {
     "data": {
      "text/plain": [
       "True"
      ]
     },
     "execution_count": 3,
     "metadata": {},
     "output_type": "execute_result"
    }
   ],
   "source": [
    "254<=458"
   ]
  },
  {
   "cell_type": "code",
   "execution_count": null,
   "id": "565aa5f6-6d38-4fcb-a4ca-4ffb9dfff71b",
   "metadata": {},
   "outputs": [],
   "source": [
    "price=int(input('enter price'))\n",
    "if price >1000 :\n",
    "    print('i will not purchase')\n",
    "if price >5000 :\n",
    "      print('this is too mach')\n",
    "elif   price < 2000 :\n",
    "    print('its okay')\n",
    "elif  price <1000 :\n",
    "    print('i will purchase')\n",
    "else :\n",
    "      print('not intersted')"
   ]
  },
  {
   "cell_type": "code",
   "execution_count": 1,
   "id": "6e9c4fb6-4880-4964-93c6-7f116afdcc60",
   "metadata": {},
   "outputs": [
    {
     "data": {
      "text/plain": [
       "True"
      ]
     },
     "execution_count": 1,
     "metadata": {},
     "output_type": "execute_result"
    }
   ],
   "source": [
    "525>452"
   ]
  },
  {
   "cell_type": "code",
   "execution_count": 7,
   "id": "a930fe99-a3a8-42e4-a990-c48850585884",
   "metadata": {},
   "outputs": [
    {
     "data": {
      "text/plain": [
       "True"
      ]
     },
     "execution_count": 7,
     "metadata": {},
     "output_type": "execute_result"
    }
   ],
   "source": [
    "524>=425"
   ]
  },
  {
   "cell_type": "code",
   "execution_count": 9,
   "id": "617bebf5-0db6-4874-a3d5-7ba1ef6e4a92",
   "metadata": {},
   "outputs": [
    {
     "data": {
      "text/plain": [
       "False"
      ]
     },
     "execution_count": 9,
     "metadata": {},
     "output_type": "execute_result"
    }
   ],
   "source": [
    "214>=2365"
   ]
  },
  {
   "cell_type": "code",
   "execution_count": null,
   "id": "f0a78e1b-2936-4ec2-8295-2209c323b516",
   "metadata": {},
   "outputs": [],
   "source": []
  }
 ],
 "metadata": {
  "kernelspec": {
   "display_name": "Python 3 (ipykernel)",
   "language": "python",
   "name": "python3"
  },
  "language_info": {
   "codemirror_mode": {
    "name": "ipython",
    "version": 3
   },
   "file_extension": ".py",
   "mimetype": "text/x-python",
   "name": "python",
   "nbconvert_exporter": "python",
   "pygments_lexer": "ipython3",
   "version": "3.10.8"
  }
 },
 "nbformat": 4,
 "nbformat_minor": 5
}
