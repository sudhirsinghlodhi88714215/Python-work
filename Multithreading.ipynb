{
 "cells": [
  {
   "cell_type": "code",
   "execution_count": 15,
   "id": "45d1007a-a3e9-4154-98f0-ec598b2fb8b8",
   "metadata": {},
   "outputs": [],
   "source": [
    "import  threading\n"
   ]
  },
  {
   "cell_type": "code",
   "execution_count": 16,
   "id": "95f7bd7b-b7f3-494e-86a4-b7bd14fed564",
   "metadata": {},
   "outputs": [],
   "source": [
    "def test(id):\n",
    "    print('this is my %d '%id)"
   ]
  },
  {
   "cell_type": "code",
   "execution_count": 17,
   "id": "b1230c2e-d7d9-44f4-bace-4c4c6d110db4",
   "metadata": {},
   "outputs": [
    {
     "name": "stdout",
     "output_type": "stream",
     "text": [
      "this is my 4 \n"
     ]
    }
   ],
   "source": [
    "test(4)"
   ]
  },
  {
   "cell_type": "code",
   "execution_count": 18,
   "id": "f3f762bd-0764-4597-a3bf-67ab7bb008a8",
   "metadata": {},
   "outputs": [
    {
     "name": "stdout",
     "output_type": "stream",
     "text": [
      "this is my 0 \n"
     ]
    }
   ],
   "source": [
    "test(0)"
   ]
  },
  {
   "cell_type": "code",
   "execution_count": null,
   "id": "a15d6b19-d828-44b1-bffe-958e73f58696",
   "metadata": {},
   "outputs": [],
   "source": []
  },
  {
   "cell_type": "code",
   "execution_count": 22,
   "id": "f013077c-0eea-4966-934a-a572bd662729",
   "metadata": {},
   "outputs": [],
   "source": [
    " thread=[threading.Thread(target=test,args=(i,)) for i  in range(10)]"
   ]
  },
  {
   "cell_type": "code",
   "execution_count": 23,
   "id": "2b9b9236-a6b6-479c-8f76-18cc89114c93",
   "metadata": {},
   "outputs": [
    {
     "name": "stdout",
     "output_type": "stream",
     "text": [
      "this is my 0 \n",
      "this is my 1 \n",
      "this is my 2 \n",
      "this is my 3 \n",
      "this is my 4 \n",
      "this is my 5 \n",
      "this is my 6 \n",
      "this is my 7 \n",
      "this is my 8 \n",
      "this is my 9 \n"
     ]
    }
   ],
   "source": [
    "for t in thread:\n",
    "    t.start()"
   ]
  },
  {
   "cell_type": "code",
   "execution_count": 28,
   "id": "e4d7b33f-9b17-49c3-ad39-18b5dea73ca7",
   "metadata": {},
   "outputs": [
    {
     "data": {
      "text/plain": [
       "[0, 1, 2, 3, 4, 5, 6, 7, 8, 9]"
      ]
     },
     "execution_count": 28,
     "metadata": {},
     "output_type": "execute_result"
    }
   ],
   "source": [
    "list(range(10))"
   ]
  },
  {
   "cell_type": "code",
   "execution_count": 29,
   "id": "c2acd70b-0085-46d2-a4b9-a04d1f9f4928",
   "metadata": {},
   "outputs": [
    {
     "data": {
      "text/plain": [
       "[<Thread(Thread-25 (test), stopped 139998133212736)>,\n",
       " <Thread(Thread-26 (test), stopped 139998133212736)>,\n",
       " <Thread(Thread-27 (test), stopped 139998133212736)>,\n",
       " <Thread(Thread-28 (test), stopped 139998133212736)>,\n",
       " <Thread(Thread-29 (test), stopped 139998133212736)>,\n",
       " <Thread(Thread-30 (test), stopped 139998133212736)>,\n",
       " <Thread(Thread-31 (test), stopped 139998133212736)>,\n",
       " <Thread(Thread-32 (test), stopped 139998133212736)>,\n",
       " <Thread(Thread-33 (test), stopped 139998133212736)>,\n",
       " <Thread(Thread-34 (test), stopped 139998133212736)>]"
      ]
     },
     "execution_count": 29,
     "metadata": {},
     "output_type": "execute_result"
    }
   ],
   "source": [
    "thread"
   ]
  },
  {
   "cell_type": "code",
   "execution_count": 30,
   "id": "ea17952d-d7ef-4e14-bf75-0d1de3671723",
   "metadata": {},
   "outputs": [
    {
     "data": {
      "text/plain": [
       "139998623534784"
      ]
     },
     "execution_count": 30,
     "metadata": {},
     "output_type": "execute_result"
    }
   ],
   "source": [
    "id(thread)"
   ]
  },
  {
   "cell_type": "code",
   "execution_count": null,
   "id": "484a0d5c-7c6f-477a-a27e-03c5cc02ab96",
   "metadata": {},
   "outputs": [],
   "source": [
    "import threading\n",
    "import urllib. "
   ]
  }
 ],
 "metadata": {
  "kernelspec": {
   "display_name": "Python 3 (ipykernel)",
   "language": "python",
   "name": "python3"
  },
  "language_info": {
   "codemirror_mode": {
    "name": "ipython",
    "version": 3
   },
   "file_extension": ".py",
   "mimetype": "text/x-python",
   "name": "python",
   "nbconvert_exporter": "python",
   "pygments_lexer": "ipython3",
   "version": "3.10.8"
  }
 },
 "nbformat": 4,
 "nbformat_minor": 5
}
