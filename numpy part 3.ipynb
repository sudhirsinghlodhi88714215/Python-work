{
 "cells": [
  {
   "cell_type": "code",
   "execution_count": null,
   "id": "5cb74a97-bca0-4174-83c3-db82a85fe22e",
   "metadata": {},
   "outputs": [],
   "source": [
    "#Sort Search & Counting Functions."
   ]
  },
  {
   "cell_type": "code",
   "execution_count": 3,
   "id": "fa2eb10c-dc24-4545-a59a-bb55f7cced91",
   "metadata": {},
   "outputs": [],
   "source": [
    "import numpy as np"
   ]
  },
  {
   "cell_type": "code",
   "execution_count": 4,
   "id": "9c5e3305-05af-4d15-a0c0-4824677d7950",
   "metadata": {},
   "outputs": [
    {
     "data": {
      "text/plain": [
       "array([ 2,  3, 45, 66, 77,  8,  9,  6,  4,  2,  1])"
      ]
     },
     "execution_count": 4,
     "metadata": {},
     "output_type": "execute_result"
    }
   ],
   "source": [
    "np.array([2,3,45,66,77,8,9,6,4,2,1,])"
   ]
  },
  {
   "cell_type": "code",
   "execution_count": 5,
   "id": "f11f5fa6-97d8-4bf1-a0ff-398811e72733",
   "metadata": {},
   "outputs": [],
   "source": [
    "ar = np.array([2,3,45,66,77,8,9,6,4,2,1,])"
   ]
  },
  {
   "cell_type": "code",
   "execution_count": 6,
   "id": "68af9ede-ac8f-40b6-ac67-a5e21af04e47",
   "metadata": {},
   "outputs": [
    {
     "data": {
      "text/plain": [
       "array([ 2,  3, 45, 66, 77,  8,  9,  6,  4,  2,  1])"
      ]
     },
     "execution_count": 6,
     "metadata": {},
     "output_type": "execute_result"
    }
   ],
   "source": [
    "ar"
   ]
  },
  {
   "cell_type": "code",
   "execution_count": 7,
   "id": "8f37e499-de94-46fd-943b-ae29ffc39be3",
   "metadata": {},
   "outputs": [
    {
     "data": {
      "text/plain": [
       "array([ 1,  2,  2,  3,  4,  6,  8,  9, 45, 66, 77])"
      ]
     },
     "execution_count": 7,
     "metadata": {},
     "output_type": "execute_result"
    }
   ],
   "source": [
    "np.sort(ar)"
   ]
  },
  {
   "cell_type": "code",
   "execution_count": 8,
   "id": "d0f4a370-7c83-4e8f-b2d7-6ed32f927e9c",
   "metadata": {},
   "outputs": [
    {
     "data": {
      "text/plain": [
       "11"
      ]
     },
     "execution_count": 8,
     "metadata": {},
     "output_type": "execute_result"
    }
   ],
   "source": [
    "np.searchsorted(ar,99)"
   ]
  },
  {
   "cell_type": "code",
   "execution_count": 9,
   "id": "ec4cee26-f905-4318-b3f7-3a8e2223d930",
   "metadata": {},
   "outputs": [
    {
     "data": {
      "text/plain": [
       "array([0, 0, 0, 0, 0, 0, 0, 2, 3, 1, 3, 1, 5, 6, 7])"
      ]
     },
     "execution_count": 9,
     "metadata": {},
     "output_type": "execute_result"
    }
   ],
   "source": [
    "np.array([0,0,0,0,0,0,0,2,3,1,3,1,5,6,7,])"
   ]
  },
  {
   "cell_type": "code",
   "execution_count": 13,
   "id": "d5242948-d083-4959-9244-452bec606ab6",
   "metadata": {},
   "outputs": [],
   "source": [
    "ar= np.array([0,1,0,3,0,0,2,0,0,0,2,3,1,3,1,5,6,7,])"
   ]
  },
  {
   "cell_type": "code",
   "execution_count": 14,
   "id": "1f9e13c0-da23-4ba7-9789-b749d576f3b4",
   "metadata": {},
   "outputs": [
    {
     "data": {
      "text/plain": [
       "11"
      ]
     },
     "execution_count": 14,
     "metadata": {},
     "output_type": "execute_result"
    }
   ],
   "source": [
    "np.count_nonzero(ar)"
   ]
  },
  {
   "cell_type": "code",
   "execution_count": 17,
   "id": "2e50a30a-6b39-45da-9841-ceedff16fc26",
   "metadata": {},
   "outputs": [
    {
     "data": {
      "text/plain": [
       "(array([15, 16, 17]),)"
      ]
     },
     "execution_count": 17,
     "metadata": {},
     "output_type": "execute_result"
    }
   ],
   "source": [
    "np.where(ar>3)"
   ]
  },
  {
   "cell_type": "code",
   "execution_count": 21,
   "id": "b2600570-bdd7-4bf2-9f0a-7aaa140a18eb",
   "metadata": {},
   "outputs": [
    {
     "data": {
      "text/plain": [
       "array([7])"
      ]
     },
     "execution_count": 21,
     "metadata": {},
     "output_type": "execute_result"
    }
   ],
   "source": [
    "np.extract(ar>6,ar)"
   ]
  },
  {
   "cell_type": "code",
   "execution_count": 22,
   "id": "9dba7bfd-6f9c-4000-9c7b-0f0a3e0796e4",
   "metadata": {},
   "outputs": [
    {
     "data": {
      "text/plain": [
       "array([3, 3, 3, 5, 6, 7])"
      ]
     },
     "execution_count": 22,
     "metadata": {},
     "output_type": "execute_result"
    }
   ],
   "source": [
    "np.extract(ar>2,ar)"
   ]
  },
  {
   "cell_type": "code",
   "execution_count": null,
   "id": "da32222b-7789-4336-a4a6-bc248c97d697",
   "metadata": {},
   "outputs": [],
   "source": [
    "#Numpy - Byte Swapping\n"
   ]
  },
  {
   "cell_type": "code",
   "execution_count": 24,
   "id": "bdcdc96d-f8b2-4e63-9344-648323f9b4a4",
   "metadata": {},
   "outputs": [
    {
     "data": {
      "text/plain": [
       "array([0, 1, 0, 3, 0, 0, 2, 0, 0, 0, 2, 3, 1, 3, 1, 5, 6, 7])"
      ]
     },
     "execution_count": 24,
     "metadata": {},
     "output_type": "execute_result"
    }
   ],
   "source": [
    "ar"
   ]
  },
  {
   "cell_type": "code",
   "execution_count": 34,
   "id": "0a50ccaf-f4b0-4fdb-88d6-c469e0829ad6",
   "metadata": {},
   "outputs": [
    {
     "data": {
      "text/plain": [
       "array([3963167672086036480,   72057594037927936,                   0,\n",
       "        216172782113783808,                   0,                   0,\n",
       "        144115188075855872,                   0,                   0,\n",
       "                         0,  144115188075855872,  216172782113783808,\n",
       "         72057594037927936,  216172782113783808,   72057594037927936,\n",
       "        360287970189639680,  432345564227567616,  504403158265495552])"
      ]
     },
     "execution_count": 34,
     "metadata": {},
     "output_type": "execute_result"
    }
   ],
   "source": [
    "ar.byteswap()"
   ]
  },
  {
   "cell_type": "code",
   "execution_count": 26,
   "id": "b5e5ac97-69c7-4ece-ba43-23410aa28265",
   "metadata": {},
   "outputs": [],
   "source": [
    "a = np.copy(ar)"
   ]
  },
  {
   "cell_type": "code",
   "execution_count": 27,
   "id": "6e13d356-33a6-48ce-b76a-7ee1be7882b0",
   "metadata": {},
   "outputs": [],
   "source": [
    "b = ar.view()"
   ]
  },
  {
   "cell_type": "code",
   "execution_count": 28,
   "id": "4d3f6b4d-33a1-4b10-b181-ef8240e6ab3a",
   "metadata": {},
   "outputs": [
    {
     "data": {
      "text/plain": [
       "array([0, 1, 0, 3, 0, 0, 2, 0, 0, 0, 2, 3, 1, 3, 1, 5, 6, 7])"
      ]
     },
     "execution_count": 28,
     "metadata": {},
     "output_type": "execute_result"
    }
   ],
   "source": [
    "ar"
   ]
  },
  {
   "cell_type": "code",
   "execution_count": 29,
   "id": "f6462b7b-f589-437b-84a6-efedc204d7e8",
   "metadata": {},
   "outputs": [],
   "source": [
    "b[0] = 55"
   ]
  },
  {
   "cell_type": "code",
   "execution_count": 30,
   "id": "144338e8-dde2-4d68-a7a3-c05c1f670ba2",
   "metadata": {},
   "outputs": [
    {
     "data": {
      "text/plain": [
       "array([55,  1,  0,  3,  0,  0,  2,  0,  0,  0,  2,  3,  1,  3,  1,  5,  6,\n",
       "        7])"
      ]
     },
     "execution_count": 30,
     "metadata": {},
     "output_type": "execute_result"
    }
   ],
   "source": [
    "ar"
   ]
  },
  {
   "cell_type": "code",
   "execution_count": 31,
   "id": "229994f9-d8db-4aac-b874-2a4abd6155b3",
   "metadata": {},
   "outputs": [],
   "source": [
    "arr= np.array([5,1,5,6,7,])"
   ]
  },
  {
   "cell_type": "code",
   "execution_count": 33,
   "id": "951a653c-2ba7-4263-8105-5309999fabfe",
   "metadata": {},
   "outputs": [
    {
     "data": {
      "text/plain": [
       "array([360287970189639680,  72057594037927936, 360287970189639680,\n",
       "       432345564227567616, 504403158265495552])"
      ]
     },
     "execution_count": 33,
     "metadata": {},
     "output_type": "execute_result"
    }
   ],
   "source": [
    "arr.byteswap()"
   ]
  },
  {
   "cell_type": "code",
   "execution_count": 35,
   "id": "a256e8f1-e579-480f-8efc-1ef6d9d6a5ae",
   "metadata": {},
   "outputs": [],
   "source": [
    "a = np.copy(arr)"
   ]
  },
  {
   "cell_type": "code",
   "execution_count": 36,
   "id": "b0aafe24-4abd-45ef-844c-7016287ff787",
   "metadata": {},
   "outputs": [],
   "source": [
    "b =ar.view()"
   ]
  },
  {
   "cell_type": "code",
   "execution_count": 37,
   "id": "108ecf3f-aded-4821-bab6-76e8fbede562",
   "metadata": {},
   "outputs": [
    {
     "data": {
      "text/plain": [
       "array([55,  1,  0,  3,  0,  0,  2,  0,  0,  0,  2,  3,  1,  3,  1,  5,  6,\n",
       "        7])"
      ]
     },
     "execution_count": 37,
     "metadata": {},
     "output_type": "execute_result"
    }
   ],
   "source": [
    "b"
   ]
  },
  {
   "cell_type": "code",
   "execution_count": 38,
   "id": "ae535dbe-ff18-4b39-8514-ec9d1e9ea5bb",
   "metadata": {},
   "outputs": [],
   "source": [
    "b [3] = 111"
   ]
  },
  {
   "cell_type": "code",
   "execution_count": 39,
   "id": "ec36da53-8397-4c3e-8354-14f2bc2805c7",
   "metadata": {},
   "outputs": [
    {
     "data": {
      "text/plain": [
       "array([ 55,   1,   0, 111,   0,   0,   2,   0,   0,   0,   2,   3,   1,\n",
       "         3,   1,   5,   6,   7])"
      ]
     },
     "execution_count": 39,
     "metadata": {},
     "output_type": "execute_result"
    }
   ],
   "source": [
    "b"
   ]
  },
  {
   "cell_type": "code",
   "execution_count": null,
   "id": "34571b12-a2fd-458f-a94a-027fe523abfd",
   "metadata": {},
   "outputs": [],
   "source": [
    "#Numpy Matrix Library."
   ]
  },
  {
   "cell_type": "code",
   "execution_count": 40,
   "id": "c0f359e6-399b-484c-9a66-721185c2171f",
   "metadata": {},
   "outputs": [],
   "source": [
    "import numpy.matlib as  nm"
   ]
  },
  {
   "cell_type": "code",
   "execution_count": 44,
   "id": "4d5c542f-ef48-4e48-8524-63bd35625d30",
   "metadata": {},
   "outputs": [
    {
     "data": {
      "text/plain": [
       "matrix([[0., 0., 0.],\n",
       "        [0., 0., 0.],\n",
       "        [0., 0., 0.],\n",
       "        [0., 0., 0.],\n",
       "        [0., 0., 0.]])"
      ]
     },
     "execution_count": 44,
     "metadata": {},
     "output_type": "execute_result"
    }
   ],
   "source": [
    "nm.zeros((5,3))"
   ]
  },
  {
   "cell_type": "code",
   "execution_count": 43,
   "id": "75c0fc1b-0084-48bc-a320-f4f3632bd35b",
   "metadata": {},
   "outputs": [
    {
     "data": {
      "text/plain": [
       "matrix([[1., 1., 1., 1., 1.],\n",
       "        [1., 1., 1., 1., 1.],\n",
       "        [1., 1., 1., 1., 1.]])"
      ]
     },
     "execution_count": 43,
     "metadata": {},
     "output_type": "execute_result"
    }
   ],
   "source": [
    "nm.ones((3,5))"
   ]
  },
  {
   "cell_type": "code",
   "execution_count": 45,
   "id": "39158628-e04c-4689-bb14-8949d7267f29",
   "metadata": {},
   "outputs": [
    {
     "data": {
      "text/plain": [
       "matrix([[1., 0., 0., 0., 0.],\n",
       "        [0., 1., 0., 0., 0.],\n",
       "        [0., 0., 1., 0., 0.],\n",
       "        [0., 0., 0., 1., 0.],\n",
       "        [0., 0., 0., 0., 1.]])"
      ]
     },
     "execution_count": 45,
     "metadata": {},
     "output_type": "execute_result"
    }
   ],
   "source": [
    "nm.eye(5)"
   ]
  },
  {
   "cell_type": "code",
   "execution_count": null,
   "id": "ff791676-5109-4076-8452-5816620a9da0",
   "metadata": {},
   "outputs": [],
   "source": [
    "#Numpy  Linear Algebra"
   ]
  },
  {
   "cell_type": "code",
   "execution_count": 46,
   "id": "0056c061-0c72-4adf-803f-9397c8832965",
   "metadata": {},
   "outputs": [],
   "source": [
    "arr1 = np.random.randint([[2,3],[4,5]])"
   ]
  },
  {
   "cell_type": "code",
   "execution_count": 47,
   "id": "002bfbe4-2854-48b0-955d-c8f945877d4f",
   "metadata": {},
   "outputs": [
    {
     "data": {
      "text/plain": [
       "array([[1, 0],\n",
       "       [1, 1]])"
      ]
     },
     "execution_count": 47,
     "metadata": {},
     "output_type": "execute_result"
    }
   ],
   "source": [
    "arr1"
   ]
  },
  {
   "cell_type": "code",
   "execution_count": 49,
   "id": "54691110-a684-457c-8475-1097d2d5b756",
   "metadata": {},
   "outputs": [],
   "source": [
    "arr2 = np.random.randint([[5,3],[2,5]])"
   ]
  },
  {
   "cell_type": "code",
   "execution_count": 50,
   "id": "75d8f5e4-dd7f-4ef1-b121-b0afa56aa557",
   "metadata": {},
   "outputs": [
    {
     "data": {
      "text/plain": [
       "array([[1, 1],\n",
       "       [1, 1]])"
      ]
     },
     "execution_count": 50,
     "metadata": {},
     "output_type": "execute_result"
    }
   ],
   "source": [
    "arr2"
   ]
  },
  {
   "cell_type": "code",
   "execution_count": 51,
   "id": "2f506df8-7322-4c90-9531-7ca3642ce0f1",
   "metadata": {},
   "outputs": [
    {
     "data": {
      "text/plain": [
       "array([[1, 1],\n",
       "       [2, 2]])"
      ]
     },
     "execution_count": 51,
     "metadata": {},
     "output_type": "execute_result"
    }
   ],
   "source": [
    "np.dot(arr1,arr2)"
   ]
  },
  {
   "cell_type": "code",
   "execution_count": 52,
   "id": "0824ce81-e041-45fe-b827-38a1f7c5f146",
   "metadata": {},
   "outputs": [
    {
     "data": {
      "text/plain": [
       "array([[1, 1],\n",
       "       [2, 2]])"
      ]
     },
     "execution_count": 52,
     "metadata": {},
     "output_type": "execute_result"
    }
   ],
   "source": [
    "arr1@arr2"
   ]
  },
  {
   "cell_type": "code",
   "execution_count": null,
   "id": "71b5ce0b-fb75-462f-996b-75900f153eb4",
   "metadata": {},
   "outputs": [],
   "source": []
  }
 ],
 "metadata": {
  "kernelspec": {
   "display_name": "Python 3 (ipykernel)",
   "language": "python",
   "name": "python3"
  },
  "language_info": {
   "codemirror_mode": {
    "name": "ipython",
    "version": 3
   },
   "file_extension": ".py",
   "mimetype": "text/x-python",
   "name": "python",
   "nbconvert_exporter": "python",
   "pygments_lexer": "ipython3",
   "version": "3.10.8"
  }
 },
 "nbformat": 4,
 "nbformat_minor": 5
}
