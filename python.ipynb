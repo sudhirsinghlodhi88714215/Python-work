{
 "cells": [
  {
   "cell_type": "code",
   "execution_count": 1,
   "id": "7fd75703-351d-4b78-8a28-4ae0a7220336",
   "metadata": {},
   "outputs": [],
   "source": [
    "s1='pwskills'"
   ]
  },
  {
   "cell_type": "code",
   "execution_count": 4,
   "id": "24da0cc1-1136-414f-bc74-19784d570ad9",
   "metadata": {},
   "outputs": [
    {
     "ename": "AttributeError",
     "evalue": "'str' object has no attribute 'found'",
     "output_type": "error",
     "traceback": [
      "\u001b[0;31m---------------------------------------------------------------------------\u001b[0m",
      "\u001b[0;31mAttributeError\u001b[0m                            Traceback (most recent call last)",
      "Cell \u001b[0;32mIn[4], line 1\u001b[0m\n\u001b[0;32m----> 1\u001b[0m \u001b[43ms1\u001b[49m\u001b[38;5;241;43m.\u001b[39;49m\u001b[43mfound\u001b[49m()\n",
      "\u001b[0;31mAttributeError\u001b[0m: 'str' object has no attribute 'found'"
     ]
    }
   ],
   "source": [
    "s1.found()"
   ]
  },
  {
   "cell_type": "code",
   "execution_count": 5,
   "id": "b70705c9-7a8f-47f0-8b75-ba30aa264574",
   "metadata": {},
   "outputs": [
    {
     "data": {
      "text/plain": [
       "'pwskil'"
      ]
     },
     "execution_count": 5,
     "metadata": {},
     "output_type": "execute_result"
    }
   ],
   "source": [
    "s1[0:6:1]"
   ]
  },
  {
   "cell_type": "code",
   "execution_count": 6,
   "id": "79a211b5-a3b3-4bb9-97ef-eccc8921dab6",
   "metadata": {},
   "outputs": [
    {
     "ename": "AttributeError",
     "evalue": "'str' object has no attribute 'str'",
     "output_type": "error",
     "traceback": [
      "\u001b[0;31m---------------------------------------------------------------------------\u001b[0m",
      "\u001b[0;31mAttributeError\u001b[0m                            Traceback (most recent call last)",
      "Cell \u001b[0;32mIn[6], line 1\u001b[0m\n\u001b[0;32m----> 1\u001b[0m \u001b[43ms1\u001b[49m\u001b[38;5;241;43m.\u001b[39;49m\u001b[43mstr\u001b[49m\u001b[38;5;241m+\u001b[39m\u001b[38;5;241m1\u001b[39m\n",
      "\u001b[0;31mAttributeError\u001b[0m: 'str' object has no attribute 'str'"
     ]
    }
   ],
   "source": [
    "s1.str+1"
   ]
  },
  {
   "cell_type": "code",
   "execution_count": 7,
   "id": "0e5fcf22-a991-4c97-9bfd-02c235a52b60",
   "metadata": {},
   "outputs": [],
   "source": [
    "s2='this is my book'"
   ]
  },
  {
   "cell_type": "code",
   "execution_count": 8,
   "id": "f247bcff-bc6b-47af-a633-ff066e3e0b0f",
   "metadata": {},
   "outputs": [
    {
     "data": {
      "text/plain": [
       "15"
      ]
     },
     "execution_count": 8,
     "metadata": {},
     "output_type": "execute_result"
    }
   ],
   "source": [
    "len(s2)"
   ]
  },
  {
   "cell_type": "code",
   "execution_count": 9,
   "id": "7ef78577-83e3-4020-b5cb-84b0a237b9c5",
   "metadata": {},
   "outputs": [
    {
     "data": {
      "text/plain": [
       "3"
      ]
     },
     "execution_count": 9,
     "metadata": {},
     "output_type": "execute_result"
    }
   ],
   "source": [
    "s2.find('s')"
   ]
  },
  {
   "cell_type": "markdown",
   "id": "6c0f45f6-f3c6-4d62-94a1-470db69dc44e",
   "metadata": {},
   "source": [
    "s2,find('i')"
   ]
  },
  {
   "cell_type": "code",
   "execution_count": 10,
   "id": "81c52881-f8d2-47ac-b250-588b4b03f3ea",
   "metadata": {},
   "outputs": [
    {
     "data": {
      "text/plain": [
       "2"
      ]
     },
     "execution_count": 10,
     "metadata": {},
     "output_type": "execute_result"
    }
   ],
   "source": [
    "s2.find('i')"
   ]
  },
  {
   "cell_type": "code",
   "execution_count": 11,
   "id": "8cf4d12d-c11e-48f6-9130-36a7cdb27ab3",
   "metadata": {},
   "outputs": [
    {
     "data": {
      "text/plain": [
       "-1"
      ]
     },
     "execution_count": 11,
     "metadata": {},
     "output_type": "execute_result"
    }
   ],
   "source": [
    "s2.find('iS')"
   ]
  },
  {
   "cell_type": "code",
   "execution_count": 12,
   "id": "52fa66a7-dbec-4413-9985-9f457ff3b83a",
   "metadata": {},
   "outputs": [
    {
     "data": {
      "text/plain": [
       "2"
      ]
     },
     "execution_count": 12,
     "metadata": {},
     "output_type": "execute_result"
    }
   ],
   "source": [
    "s2.count('o')"
   ]
  },
  {
   "cell_type": "code",
   "execution_count": 13,
   "id": "9adec43f-87f8-444c-b242-414bc5ad81dc",
   "metadata": {},
   "outputs": [
    {
     "data": {
      "text/plain": [
       "'this is my book'"
      ]
     },
     "execution_count": 13,
     "metadata": {},
     "output_type": "execute_result"
    }
   ],
   "source": [
    "s2"
   ]
  },
  {
   "cell_type": "code",
   "execution_count": 14,
   "id": "6c723a33-4839-4745-bb73-7376954ce27b",
   "metadata": {},
   "outputs": [
    {
     "data": {
      "text/plain": [
       "'This Is My Book'"
      ]
     },
     "execution_count": 14,
     "metadata": {},
     "output_type": "execute_result"
    }
   ],
   "source": [
    "s2.title()"
   ]
  },
  {
   "cell_type": "code",
   "execution_count": 15,
   "id": "dee2f42a-bbb3-4296-b8bb-edca21942b59",
   "metadata": {},
   "outputs": [
    {
     "data": {
      "text/plain": [
       "'THIS IS MY BOOK'"
      ]
     },
     "execution_count": 15,
     "metadata": {},
     "output_type": "execute_result"
    }
   ],
   "source": [
    "s2.upper()"
   ]
  },
  {
   "cell_type": "code",
   "execution_count": 16,
   "id": "0cac6482-b247-4fc5-bb7a-24b7ee65736b",
   "metadata": {},
   "outputs": [],
   "source": [
    "s2='THIS IS MY BOOK'"
   ]
  },
  {
   "cell_type": "code",
   "execution_count": 17,
   "id": "8926bfb6-10b8-47bd-800c-dc1bcd6caec8",
   "metadata": {},
   "outputs": [
    {
     "data": {
      "text/plain": [
       "'this is my book'"
      ]
     },
     "execution_count": 17,
     "metadata": {},
     "output_type": "execute_result"
    }
   ],
   "source": [
    "s2.lower()"
   ]
  },
  {
   "cell_type": "code",
   "execution_count": 18,
   "id": "2cdc7e93-fb0d-4753-b9cd-828d72ca8d49",
   "metadata": {},
   "outputs": [
    {
     "data": {
      "text/plain": [
       "'This Is My Book'"
      ]
     },
     "execution_count": 18,
     "metadata": {},
     "output_type": "execute_result"
    }
   ],
   "source": [
    "s2.title()"
   ]
  },
  {
   "cell_type": "code",
   "execution_count": 19,
   "id": "12830076-3374-4f7a-aeb7-8a329ec97108",
   "metadata": {},
   "outputs": [
    {
     "data": {
      "text/plain": [
       "'This is my book'"
      ]
     },
     "execution_count": 19,
     "metadata": {},
     "output_type": "execute_result"
    }
   ],
   "source": [
    "s2.capitalize()"
   ]
  },
  {
   "cell_type": "code",
   "execution_count": 20,
   "id": "9a3e14f9-bc9d-46b9-b528-6b6f797eefca",
   "metadata": {},
   "outputs": [
    {
     "data": {
      "text/plain": [
       "'THIS IS MY BOOK'"
      ]
     },
     "execution_count": 20,
     "metadata": {},
     "output_type": "execute_result"
    }
   ],
   "source": [
    "s2"
   ]
  },
  {
   "cell_type": "code",
   "execution_count": 21,
   "id": "9960b194-8fc7-4707-b101-ae6997c0cf69",
   "metadata": {},
   "outputs": [
    {
     "ename": "TypeError",
     "evalue": "can only concatenate str (not \"int\") to str",
     "output_type": "error",
     "traceback": [
      "\u001b[0;31m---------------------------------------------------------------------------\u001b[0m",
      "\u001b[0;31mTypeError\u001b[0m                                 Traceback (most recent call last)",
      "Cell \u001b[0;32mIn[21], line 1\u001b[0m\n\u001b[0;32m----> 1\u001b[0m \u001b[43ms2\u001b[49m\u001b[38;5;241;43m+\u001b[39;49m\u001b[38;5;241;43m1\u001b[39;49m\n",
      "\u001b[0;31mTypeError\u001b[0m: can only concatenate str (not \"int\") to str"
     ]
    }
   ],
   "source": [
    "s2+1"
   ]
  },
  {
   "cell_type": "code",
   "execution_count": 22,
   "id": "cd692b84-54c2-4764-98fb-89853a5e67ed",
   "metadata": {},
   "outputs": [
    {
     "data": {
      "text/plain": [
       "'THIS IS MY BOOKsudhir'"
      ]
     },
     "execution_count": 22,
     "metadata": {},
     "output_type": "execute_result"
    }
   ],
   "source": [
    "s2+'sudhir'"
   ]
  },
  {
   "cell_type": "code",
   "execution_count": 24,
   "id": "d710678a-d7fb-412f-8950-8b64440d1ee9",
   "metadata": {},
   "outputs": [
    {
     "data": {
      "text/plain": [
       "'THIS IS MY BOOK1'"
      ]
     },
     "execution_count": 24,
     "metadata": {},
     "output_type": "execute_result"
    }
   ],
   "source": [
    "s2+'1'"
   ]
  },
  {
   "cell_type": "code",
   "execution_count": 25,
   "id": "1acb291d-51ec-4f48-bfdd-9f0055948729",
   "metadata": {},
   "outputs": [
    {
     "data": {
      "text/plain": [
       "'THIS IS MY BOOKTHIS IS MY BOOKTHIS IS MY BOOK'"
      ]
     },
     "execution_count": 25,
     "metadata": {},
     "output_type": "execute_result"
    }
   ],
   "source": [
    "s2*3"
   ]
  },
  {
   "cell_type": "code",
   "execution_count": 26,
   "id": "e3dcdc8f-84c2-4dc6-9823-9c63d0bb1f09",
   "metadata": {},
   "outputs": [
    {
     "data": {
      "text/plain": [
       "'hello\" bhai kya ho raha he '"
      ]
     },
     "execution_count": 26,
     "metadata": {},
     "output_type": "execute_result"
    }
   ],
   "source": [
    "'hello\" bhai kya ho raha he '"
   ]
  },
  {
   "cell_type": "code",
   "execution_count": 28,
   "id": "d51d2bef-7c16-4a74-8205-ce7c2b458cfe",
   "metadata": {},
   "outputs": [
    {
     "data": {
      "text/plain": [
       "'i have variable declaration data type ,int,boolen, complex number \\ni have seen example srring and indexing \\ni have gone thougt of '"
      ]
     },
     "execution_count": 28,
     "metadata": {},
     "output_type": "execute_result"
    }
   ],
   "source": [
    "##this is my fist class\n",
    "\"\"\"i have variable declaration data type ,int,boolen, complex number \n",
    "i have seen example srring and indexing \n",
    "i have gone thougt of \"\"\""
   ]
  },
  {
   "cell_type": "code",
   "execution_count": 29,
   "id": "6b17eff0-f1b4-41ae-9525-6059f6b9d37a",
   "metadata": {},
   "outputs": [
    {
     "data": {
      "text/plain": [
       "''"
      ]
     },
     "execution_count": 29,
     "metadata": {},
     "output_type": "execute_result"
    }
   ],
   "source": [
    "s2[2:7:-1]"
   ]
  },
  {
   "cell_type": "code",
   "execution_count": 30,
   "id": "feb0d54f-0808-49f8-a576-d6db1221c08f",
   "metadata": {},
   "outputs": [
    {
     "data": {
      "text/plain": [
       "'THIS IS MY BOOK1'"
      ]
     },
     "execution_count": 30,
     "metadata": {},
     "output_type": "execute_result"
    }
   ],
   "source": [
    "s2+('1')"
   ]
  },
  {
   "cell_type": "code",
   "execution_count": 31,
   "id": "c6857e09-bdbb-4efb-9471-2cbbbbf7f4fe",
   "metadata": {},
   "outputs": [
    {
     "data": {
      "text/plain": [
       "'THIS IS MY BOOK'"
      ]
     },
     "execution_count": 31,
     "metadata": {},
     "output_type": "execute_result"
    }
   ],
   "source": [
    "s2"
   ]
  },
  {
   "cell_type": "code",
   "execution_count": 32,
   "id": "dcad6f43-7da6-471f-9dd0-7c87f9de064f",
   "metadata": {},
   "outputs": [
    {
     "data": {
      "text/plain": [
       "'THIS IS M'"
      ]
     },
     "execution_count": 32,
     "metadata": {},
     "output_type": "execute_result"
    }
   ],
   "source": [
    "s2[0:9:1]"
   ]
  },
  {
   "cell_type": "code",
   "execution_count": 33,
   "id": "2b17ec72-62b0-42cb-a554-30c08e1b2e78",
   "metadata": {},
   "outputs": [
    {
     "data": {
      "text/plain": [
       "'TI '"
      ]
     },
     "execution_count": 33,
     "metadata": {},
     "output_type": "execute_result"
    }
   ],
   "source": [
    "s2[0:15:5]"
   ]
  },
  {
   "cell_type": "code",
   "execution_count": 34,
   "id": "f3fe8d54-062c-4d3e-9402-aceeded02126",
   "metadata": {},
   "outputs": [
    {
     "data": {
      "text/plain": [
       "'T MO'"
      ]
     },
     "execution_count": 34,
     "metadata": {},
     "output_type": "execute_result"
    }
   ],
   "source": [
    "s2[0:15:4]"
   ]
  },
  {
   "cell_type": "code",
   "execution_count": 35,
   "id": "069ebc8e-ebc5-4dc2-99b4-36eb9dbb2f9f",
   "metadata": {},
   "outputs": [
    {
     "name": "stdout",
     "output_type": "stream",
     "text": [
      "THIS IS MY BOOK\n"
     ]
    }
   ],
   "source": [
    "print(s2)"
   ]
  },
  {
   "cell_type": "code",
   "execution_count": 36,
   "id": "d1320c51-ce1c-4500-9fe9-94ccde9d92b2",
   "metadata": {},
   "outputs": [],
   "source": [
    "s='pwskills'"
   ]
  },
  {
   "cell_type": "code",
   "execution_count": 38,
   "id": "3cd93680-1bcf-4495-b552-4d77f05ad8e1",
   "metadata": {},
   "outputs": [
    {
     "data": {
      "text/plain": [
       "'sllikswp'"
      ]
     },
     "execution_count": 38,
     "metadata": {},
     "output_type": "execute_result"
    }
   ],
   "source": [
    "s[-1::-1]"
   ]
  },
  {
   "cell_type": "code",
   "execution_count": 39,
   "id": "ef6c2b77-933e-4151-b944-2bd400aea606",
   "metadata": {},
   "outputs": [
    {
     "data": {
      "text/plain": [
       "'slliksw'"
      ]
     },
     "execution_count": 39,
     "metadata": {},
     "output_type": "execute_result"
    }
   ],
   "source": [
    "s[:-8:-1]"
   ]
  },
  {
   "cell_type": "code",
   "execution_count": null,
   "id": "0f67abd8-161d-41a5-8343-b88860c7f50f",
   "metadata": {},
   "outputs": [],
   "source": []
  }
 ],
 "metadata": {
  "kernelspec": {
   "display_name": "Python 3 (ipykernel)",
   "language": "python",
   "name": "python3"
  },
  "language_info": {
   "codemirror_mode": {
    "name": "ipython",
    "version": 3
   },
   "file_extension": ".py",
   "mimetype": "text/x-python",
   "name": "python",
   "nbconvert_exporter": "python",
   "pygments_lexer": "ipython3",
   "version": "3.10.8"
  }
 },
 "nbformat": 4,
 "nbformat_minor": 5
}
