{
 "cells": [
  {
   "cell_type": "code",
   "execution_count": 2,
   "id": "e0579466-62be-419a-9219-2892070a9e84",
   "metadata": {},
   "outputs": [
    {
     "name": "stdout",
     "output_type": "stream",
     "text": [
      " this is my book print\n"
     ]
    }
   ],
   "source": [
    "print(' this is my book print')"
   ]
  },
  {
   "cell_type": "code",
   "execution_count": 3,
   "id": "48a5fbb4-0bdf-474e-a7b7-fe2c3418492c",
   "metadata": {},
   "outputs": [],
   "source": [
    "import logging"
   ]
  },
  {
   "cell_type": "code",
   "execution_count": 6,
   "id": "f10f2c75-425e-4492-a0af-02c4df1beedf",
   "metadata": {},
   "outputs": [],
   "source": [
    "logging.basicConfig(filename = 'sudh.log',level = logging.INFO)"
   ]
  },
  {
   "cell_type": "code",
   "execution_count": 7,
   "id": "231794e0-396c-41df-8aed-63d5e88b84ff",
   "metadata": {},
   "outputs": [],
   "source": [
    "logging.info('this is my book  then writer sss')"
   ]
  },
  {
   "cell_type": "code",
   "execution_count": 8,
   "id": "065fc733-16f2-47f2-86b3-1a8f52e47f17",
   "metadata": {},
   "outputs": [],
   "source": [
    "logging.info('so kindley i must ')"
   ]
  },
  {
   "cell_type": "code",
   "execution_count": 9,
   "id": "82e36aa1-bb02-47ea-ae69-6e8743f1883b",
   "metadata": {},
   "outputs": [],
   "source": [
    "logging.info('so pleas you selep but no exeques')"
   ]
  },
  {
   "cell_type": "code",
   "execution_count": 10,
   "id": "254546be-3add-4c65-9759-f514fa2fd72e",
   "metadata": {},
   "outputs": [],
   "source": [
    "logging.debug('so pleas you selep but no exeques')"
   ]
  },
  {
   "cell_type": "code",
   "execution_count": 11,
   "id": "7e1fa726-f1b9-4647-b55c-165f0bdff875",
   "metadata": {},
   "outputs": [],
   "source": [
    "logging.warning('so pleas you selep but no exeques')"
   ]
  },
  {
   "cell_type": "code",
   "execution_count": 12,
   "id": "2d0c4f1b-2932-49d2-8809-a6a677feb2de",
   "metadata": {},
   "outputs": [],
   "source": [
    "logging.critical('so pleas you selep but no exeques')"
   ]
  },
  {
   "cell_type": "code",
   "execution_count": 28,
   "id": "26f46a12-e271-4f65-bc8e-861ebccfe49d",
   "metadata": {},
   "outputs": [],
   "source": [
    "logging.shutdown()"
   ]
  },
  {
   "cell_type": "code",
   "execution_count": 22,
   "id": "12982990-f2cd-4882-9547-93fe459505d9",
   "metadata": {},
   "outputs": [
    {
     "ename": "SyntaxError",
     "evalue": "invalid syntax (1393534938.py, line 1)",
     "output_type": "error",
     "traceback": [
      "\u001b[0;36m  Cell \u001b[0;32mIn[22], line 1\u001b[0;36m\u001b[0m\n\u001b[0;31m    1. NOTSET\u001b[0m\n\u001b[0m       ^\u001b[0m\n\u001b[0;31mSyntaxError\u001b[0m\u001b[0;31m:\u001b[0m invalid syntax\n"
     ]
    }
   ],
   "source": [
    "1. NOTSET\n",
    "2. DEBUG\n",
    "3. INFO\n",
    "4. WARNING\n",
    "5. ERROR\n",
    "6. CRITICAL"
   ]
  },
  {
   "cell_type": "code",
   "execution_count": 6,
   "id": "8e461d3d-86d6-4269-aca5-94bf5ba5c80d",
   "metadata": {},
   "outputs": [],
   "source": [
    "import logging"
   ]
  },
  {
   "cell_type": "code",
   "execution_count": 7,
   "id": "9b62073a-b12a-4edf-8852-563e5ff1d1b3",
   "metadata": {},
   "outputs": [],
   "source": [
    "logging.basicConfig(filename = 's.log', level = logging.DEBUG , format = '%(asctime)s %(message)s')"
   ]
  },
  {
   "cell_type": "code",
   "execution_count": 8,
   "id": "43367d02-9483-472f-88dc-98d2ee2b5f78",
   "metadata": {},
   "outputs": [],
   "source": [
    "logging.info('this is my  info')"
   ]
  },
  {
   "cell_type": "code",
   "execution_count": 9,
   "id": "5b6011ee-5fd7-484c-bc4a-b45bf30e97ed",
   "metadata": {},
   "outputs": [],
   "source": [
    "logging.debug('this is my error msg')"
   ]
  },
  {
   "cell_type": "code",
   "execution_count": 10,
   "id": "25c65ffe-445d-46aa-b344-b6c1bd44d02b",
   "metadata": {},
   "outputs": [],
   "source": [
    "logging.info('this is my criticalDuring handling of the above exception, another exception occurred:')"
   ]
  },
  {
   "cell_type": "code",
   "execution_count": null,
   "id": "bceddcd7-8acd-49c2-9a7d-b1118d02a66a",
   "metadata": {},
   "outputs": [],
   "source": [
    "logging.shutdown()"
   ]
  },
  {
   "cell_type": "code",
   "execution_count": 1,
   "id": "8f86378d-448d-4848-a32d-d759da3402ee",
   "metadata": {},
   "outputs": [],
   "source": [
    "import logging"
   ]
  },
  {
   "cell_type": "code",
   "execution_count": 2,
   "id": "317b68e1-655d-4037-85ab-8fda590a33f5",
   "metadata": {},
   "outputs": [],
   "source": [
    "logging.basicConfig(filename = 'd.log',level =logging.DEBUG,format = '%(asctime)s %(name)s %(levelname)s %(message)s')"
   ]
  },
  {
   "cell_type": "code",
   "execution_count": 3,
   "id": "56fc1bf6-2df8-48ec-a1c9-25c7adf72b4b",
   "metadata": {},
   "outputs": [],
   "source": [
    "logging.info('this is my book')\n",
    "logging.error('this is fen')\n",
    "logging.critical('this is my critical')"
   ]
  },
  {
   "cell_type": "code",
   "execution_count": 4,
   "id": "1b1c2a03-01bc-4837-bccc-dce91768fac9",
   "metadata": {},
   "outputs": [],
   "source": [
    "l= [1,2,3,4,5,6,7,8,9,[2,3,5],'sudhir','lodhi']"
   ]
  },
  {
   "cell_type": "code",
   "execution_count": 15,
   "id": "0aea226f-35b4-4f47-93e1-f932b685fd7f",
   "metadata": {},
   "outputs": [],
   "source": [
    "l1_int = []\n",
    "l2_str= []\n",
    "for i in l:\n",
    "    if type(i) ==list:\n",
    "        for j in i:\n",
    "              if type(j)==int:\n",
    "                l1_int.append(j)\n",
    "    elif type(i) == int:\n",
    "            l1_int.append(i)\n",
    "    else:\n",
    "         if type(i) == str :\n",
    "            l2_str.append(i)"
   ]
  },
  {
   "cell_type": "code",
   "execution_count": 16,
   "id": "b4efb517-4ebf-4fbd-85cf-63238c6686f4",
   "metadata": {},
   "outputs": [
    {
     "data": {
      "text/plain": [
       "[1, 2, 3, 4, 5, 6, 7, 8, 9, 2, 3, 5]"
      ]
     },
     "execution_count": 16,
     "metadata": {},
     "output_type": "execute_result"
    }
   ],
   "source": [
    "l1_int"
   ]
  },
  {
   "cell_type": "code",
   "execution_count": 17,
   "id": "57b5e0ef-274d-4f25-b660-bd956047f05e",
   "metadata": {},
   "outputs": [
    {
     "data": {
      "text/plain": [
       "['sudhir', 'lodhi']"
      ]
     },
     "execution_count": 17,
     "metadata": {},
     "output_type": "execute_result"
    }
   ],
   "source": [
    "l2_str"
   ]
  },
  {
   "cell_type": "code",
   "execution_count": null,
   "id": "da309bdf-913f-48fc-b56c-54a21d255db8",
   "metadata": {},
   "outputs": [],
   "source": []
  },
  {
   "cell_type": "code",
   "execution_count": null,
   "id": "53f121a5-cf48-4f40-a43f-def83727bacf",
   "metadata": {},
   "outputs": [],
   "source": []
  },
  {
   "cell_type": "code",
   "execution_count": null,
   "id": "31755954-e63e-4d9d-9879-ffd415c0dab3",
   "metadata": {},
   "outputs": [],
   "source": []
  }
 ],
 "metadata": {
  "kernelspec": {
   "display_name": "Python 3 (ipykernel)",
   "language": "python",
   "name": "python3"
  },
  "language_info": {
   "codemirror_mode": {
    "name": "ipython",
    "version": 3
   },
   "file_extension": ".py",
   "mimetype": "text/x-python",
   "name": "python",
   "nbconvert_exporter": "python",
   "pygments_lexer": "ipython3",
   "version": "3.10.8"
  }
 },
 "nbformat": 4,
 "nbformat_minor": 5
}
