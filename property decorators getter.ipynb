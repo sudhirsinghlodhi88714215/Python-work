{
 "cells": [
  {
   "cell_type": "code",
   "execution_count": 1,
   "id": "be2abeba-bdc1-4cbd-927c-6488cfdb8f66",
   "metadata": {},
   "outputs": [],
   "source": [
    "class same:\n",
    "    def __init__(self,cource_price,cource_name):\n",
    "        self.__cource_price = cource_price\n",
    "        self.cource_name =  cource_name\n",
    "        "
   ]
  },
  {
   "cell_type": "code",
   "execution_count": 2,
   "id": "8c81d7a5-db2e-4829-9a77-4a6a0505b925",
   "metadata": {},
   "outputs": [],
   "source": [
    "p =same(2300,'data science')"
   ]
  },
  {
   "cell_type": "code",
   "execution_count": 5,
   "id": "c2ffd9b9-b5a2-42dc-ac05-31bb5786c8a9",
   "metadata": {},
   "outputs": [
    {
     "data": {
      "text/plain": [
       "2300"
      ]
     },
     "execution_count": 5,
     "metadata": {},
     "output_type": "execute_result"
    }
   ],
   "source": [
    "p._same__cource_price"
   ]
  },
  {
   "cell_type": "code",
   "execution_count": 7,
   "id": "d68a3d98-6929-4d87-9869-35b8a004d476",
   "metadata": {},
   "outputs": [
    {
     "data": {
      "text/plain": [
       "'data science'"
      ]
     },
     "execution_count": 7,
     "metadata": {},
     "output_type": "execute_result"
    }
   ],
   "source": [
    "p.cource_name"
   ]
  },
  {
   "cell_type": "code",
   "execution_count": null,
   "id": "740e09cc-a3e5-481f-86bf-a3e2e538f79c",
   "metadata": {},
   "outputs": [],
   "source": []
  }
 ],
 "metadata": {
  "kernelspec": {
   "display_name": "Python 3 (ipykernel)",
   "language": "python",
   "name": "python3"
  },
  "language_info": {
   "codemirror_mode": {
    "name": "ipython",
    "version": 3
   },
   "file_extension": ".py",
   "mimetype": "text/x-python",
   "name": "python",
   "nbconvert_exporter": "python",
   "pygments_lexer": "ipython3",
   "version": "3.10.8"
  }
 },
 "nbformat": 4,
 "nbformat_minor": 5
}
