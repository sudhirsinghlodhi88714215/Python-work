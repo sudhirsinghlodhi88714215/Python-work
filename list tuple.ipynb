{
 "cells": [
  {
   "cell_type": "code",
   "execution_count": 2,
   "id": "05882668-b799-4cba-92ab-10e03fa2d731",
   "metadata": {},
   "outputs": [],
   "source": [
    "l=[1,254,300,555,\"sudhiu\" ,'true',5+5j,30,666]"
   ]
  },
  {
   "cell_type": "code",
   "execution_count": 3,
   "id": "18c64e8a-de73-4e87-89ef-c980d4dbd5b4",
   "metadata": {},
   "outputs": [
    {
     "data": {
      "text/plain": [
       "list"
      ]
     },
     "execution_count": 3,
     "metadata": {},
     "output_type": "execute_result"
    }
   ],
   "source": [
    "type(l)"
   ]
  },
  {
   "cell_type": "code",
   "execution_count": 5,
   "id": "46c68d95-a7e6-40c3-b517-9881bd049e86",
   "metadata": {},
   "outputs": [
    {
     "data": {
      "text/plain": [
       "[555, 'sudhiu', 'true', (5+5j), 30, 666]"
      ]
     },
     "execution_count": 5,
     "metadata": {},
     "output_type": "execute_result"
    }
   ],
   "source": [
    "l[3::1]"
   ]
  },
  {
   "cell_type": "code",
   "execution_count": 6,
   "id": "19262889-749e-4274-b21c-dc838f9a385d",
   "metadata": {},
   "outputs": [
    {
     "data": {
      "text/plain": [
       "1"
      ]
     },
     "execution_count": 6,
     "metadata": {},
     "output_type": "execute_result"
    }
   ],
   "source": [
    "l[0]"
   ]
  },
  {
   "cell_type": "code",
   "execution_count": 7,
   "id": "6b078ae3-b133-4fcd-a3af-fed8463de599",
   "metadata": {},
   "outputs": [
    {
     "data": {
      "text/plain": [
       "'true'"
      ]
     },
     "execution_count": 7,
     "metadata": {},
     "output_type": "execute_result"
    }
   ],
   "source": [
    "l[5]"
   ]
  },
  {
   "cell_type": "code",
   "execution_count": 8,
   "id": "de813d4d-5a71-4cc7-b395-3daddca5accb",
   "metadata": {},
   "outputs": [
    {
     "data": {
      "text/plain": [
       "666"
      ]
     },
     "execution_count": 8,
     "metadata": {},
     "output_type": "execute_result"
    }
   ],
   "source": [
    "l[-1]"
   ]
  },
  {
   "cell_type": "code",
   "execution_count": 9,
   "id": "36183bbd-7f2c-4ec9-b69f-5f5b8bc2bd82",
   "metadata": {},
   "outputs": [
    {
     "data": {
      "text/plain": [
       "[666, 30, (5+5j), 'true', 'sudhiu', 555, 300, 254, 1]"
      ]
     },
     "execution_count": 9,
     "metadata": {},
     "output_type": "execute_result"
    }
   ],
   "source": [
    "l[-1:-10:-1]"
   ]
  },
  {
   "cell_type": "code",
   "execution_count": 10,
   "id": "6d359de3-6635-4813-a5ce-9a05829ca978",
   "metadata": {},
   "outputs": [
    {
     "data": {
      "text/plain": [
       "[1, 254, 300]"
      ]
     },
     "execution_count": 10,
     "metadata": {},
     "output_type": "execute_result"
    }
   ],
   "source": [
    "l[0:3:1]"
   ]
  },
  {
   "cell_type": "code",
   "execution_count": 11,
   "id": "6c37c6c7-79a4-4658-8ed3-749d2eeba7ca",
   "metadata": {},
   "outputs": [
    {
     "data": {
      "text/plain": [
       "[666, 30, (5+5j), 'true', 'sudhiu', 555, 300, 254]"
      ]
     },
     "execution_count": 11,
     "metadata": {},
     "output_type": "execute_result"
    }
   ],
   "source": [
    "l[-1:-9:-1]"
   ]
  },
  {
   "cell_type": "code",
   "execution_count": 12,
   "id": "4bd6a6d2-0864-4820-bb1f-207bbfce90ab",
   "metadata": {},
   "outputs": [],
   "source": [
    "s=\"pwskill\""
   ]
  },
  {
   "cell_type": "code",
   "execution_count": 13,
   "id": "f0d8bdaf-0da3-4d30-9c04-7e8231517f65",
   "metadata": {},
   "outputs": [],
   "source": [
    "l=s"
   ]
  },
  {
   "cell_type": "code",
   "execution_count": 14,
   "id": "1ecc6ab6-cda8-4653-a8f1-4b60fdfc3bbe",
   "metadata": {},
   "outputs": [
    {
     "data": {
      "text/plain": [
       "'pwskillpwskill'"
      ]
     },
     "execution_count": 14,
     "metadata": {},
     "output_type": "execute_result"
    }
   ],
   "source": [
    "l+s"
   ]
  },
  {
   "cell_type": "code",
   "execution_count": 15,
   "id": "770f67ac-2ba2-455e-8b34-e0976d5aabd1",
   "metadata": {},
   "outputs": [
    {
     "data": {
      "text/plain": [
       "'pwskill'"
      ]
     },
     "execution_count": 15,
     "metadata": {},
     "output_type": "execute_result"
    }
   ],
   "source": [
    "s"
   ]
  },
  {
   "cell_type": "code",
   "execution_count": 18,
   "id": "cdc4cd2a-a636-4c3f-8712-22b422356f85",
   "metadata": {},
   "outputs": [
    {
     "ename": "TypeError",
     "evalue": "can only concatenate list (not \"int\") to list",
     "output_type": "error",
     "traceback": [
      "\u001b[0;31m---------------------------------------------------------------------------\u001b[0m",
      "\u001b[0;31mTypeError\u001b[0m                                 Traceback (most recent call last)",
      "Cell \u001b[0;32mIn[18], line 1\u001b[0m\n\u001b[0;32m----> 1\u001b[0m \u001b[38;5;28;43mlist\u001b[39;49m\u001b[43m(\u001b[49m\u001b[43ms\u001b[49m\u001b[43m)\u001b[49m\u001b[38;5;241;43m+\u001b[39;49m\u001b[38;5;241;43m1\u001b[39;49m\n",
      "\u001b[0;31mTypeError\u001b[0m: can only concatenate list (not \"int\") to list"
     ]
    }
   ],
   "source": [
    "list(s)+1"
   ]
  },
  {
   "cell_type": "code",
   "execution_count": 19,
   "id": "ca1143a7-f05a-447f-bf2c-170633fadf58",
   "metadata": {},
   "outputs": [
    {
     "data": {
      "text/plain": [
       "'pwskill'"
      ]
     },
     "execution_count": 19,
     "metadata": {},
     "output_type": "execute_result"
    }
   ],
   "source": [
    "l"
   ]
  },
  {
   "cell_type": "code",
   "execution_count": 20,
   "id": "b21bd51e-3350-45f9-b048-f03cf6e6c2c4",
   "metadata": {},
   "outputs": [
    {
     "data": {
      "text/plain": [
       "'pwskill'"
      ]
     },
     "execution_count": 20,
     "metadata": {},
     "output_type": "execute_result"
    }
   ],
   "source": [
    "l"
   ]
  },
  {
   "cell_type": "code",
   "execution_count": 30,
   "id": "54dbb9df-6ddc-4c3c-becd-746fea458718",
   "metadata": {},
   "outputs": [],
   "source": [
    "l=[1,254,300,555,\"sudhir\" ,'true',5+5j,30,666]"
   ]
  },
  {
   "cell_type": "code",
   "execution_count": 22,
   "id": "39bdbbfe-1eca-48ce-935a-71bff2c7ec30",
   "metadata": {},
   "outputs": [
    {
     "data": {
      "text/plain": [
       "['p',\n",
       " 'w',\n",
       " 's',\n",
       " 'k',\n",
       " 'i',\n",
       " 'l',\n",
       " 'l',\n",
       " 1,\n",
       " 254,\n",
       " 300,\n",
       " 555,\n",
       " 'sudhiu',\n",
       " 'true',\n",
       " (5+5j),\n",
       " 30,\n",
       " 666]"
      ]
     },
     "execution_count": 22,
     "metadata": {},
     "output_type": "execute_result"
    }
   ],
   "source": [
    "list(s)+l"
   ]
  },
  {
   "cell_type": "code",
   "execution_count": 24,
   "id": "c9b6d22b-31d0-4a47-a8c6-e9c509af1d5d",
   "metadata": {},
   "outputs": [
    {
     "data": {
      "text/plain": [
       "'su'"
      ]
     },
     "execution_count": 24,
     "metadata": {},
     "output_type": "execute_result"
    }
   ],
   "source": [
    "l[4][0:2]"
   ]
  },
  {
   "cell_type": "code",
   "execution_count": 25,
   "id": "89541ed1-0b3a-4e3e-ba7c-3eb5318bb1ca",
   "metadata": {},
   "outputs": [
    {
     "data": {
      "text/plain": [
       "'u'"
      ]
     },
     "execution_count": 25,
     "metadata": {},
     "output_type": "execute_result"
    }
   ],
   "source": [
    "l[4][1:2]"
   ]
  },
  {
   "cell_type": "code",
   "execution_count": 26,
   "id": "3ec084c9-4b38-4a2d-89b8-3f739c615d70",
   "metadata": {},
   "outputs": [
    {
     "data": {
      "text/plain": [
       "['p', 'w', 's', 'k', 'i', 'l', 'l']"
      ]
     },
     "execution_count": 26,
     "metadata": {},
     "output_type": "execute_result"
    }
   ],
   "source": [
    "list(s)"
   ]
  },
  {
   "cell_type": "code",
   "execution_count": 27,
   "id": "b9e43af3-3e70-4ee9-bb7b-7e9c786a4f2c",
   "metadata": {},
   "outputs": [
    {
     "data": {
      "text/plain": [
       "[1, 254, 300, 555, 'sudhiu', 'true', (5+5j), 30, 666]"
      ]
     },
     "execution_count": 27,
     "metadata": {},
     "output_type": "execute_result"
    }
   ],
   "source": [
    "l"
   ]
  },
  {
   "cell_type": "code",
   "execution_count": 28,
   "id": "4148d842-6c31-473e-9880-dda31c0a4f3a",
   "metadata": {},
   "outputs": [
    {
     "data": {
      "text/plain": [
       "[1, 254, 300, 555]"
      ]
     },
     "execution_count": 28,
     "metadata": {},
     "output_type": "execute_result"
    }
   ],
   "source": [
    "l[0:4]"
   ]
  },
  {
   "cell_type": "code",
   "execution_count": 29,
   "id": "cb68f1d8-31ab-4152-a219-5d28f96e9147",
   "metadata": {},
   "outputs": [
    {
     "data": {
      "text/plain": [
       "'sudhiu'"
      ]
     },
     "execution_count": 29,
     "metadata": {},
     "output_type": "execute_result"
    }
   ],
   "source": [
    "l[4]"
   ]
  },
  {
   "cell_type": "code",
   "execution_count": 31,
   "id": "3e5d79e5-bfc2-4fd0-9d05-c96bfaa35b24",
   "metadata": {},
   "outputs": [
    {
     "data": {
      "text/plain": [
       "'su'"
      ]
     },
     "execution_count": 31,
     "metadata": {},
     "output_type": "execute_result"
    }
   ],
   "source": [
    "l[4][0:2]"
   ]
  },
  {
   "cell_type": "code",
   "execution_count": 32,
   "id": "7c92c356-bdb4-41c1-bc5e-ab8d2f2df272",
   "metadata": {},
   "outputs": [
    {
     "data": {
      "text/plain": [
       "'true'"
      ]
     },
     "execution_count": 32,
     "metadata": {},
     "output_type": "execute_result"
    }
   ],
   "source": [
    "l[5]"
   ]
  },
  {
   "cell_type": "code",
   "execution_count": 33,
   "id": "feb75f9f-5d59-4cc7-8792-28a7cac92f31",
   "metadata": {},
   "outputs": [
    {
     "data": {
      "text/plain": [
       "[1, 254]"
      ]
     },
     "execution_count": 33,
     "metadata": {},
     "output_type": "execute_result"
    }
   ],
   "source": [
    "l[0:2]"
   ]
  },
  {
   "cell_type": "code",
   "execution_count": 34,
   "id": "bb1772a7-7c56-4a24-addc-cfa973fa965e",
   "metadata": {},
   "outputs": [
    {
     "data": {
      "text/plain": [
       "'true'"
      ]
     },
     "execution_count": 34,
     "metadata": {},
     "output_type": "execute_result"
    }
   ],
   "source": [
    "l[5]"
   ]
  },
  {
   "cell_type": "code",
   "execution_count": 35,
   "id": "e1d03468-b36e-4e29-a01f-002f4ed7034d",
   "metadata": {},
   "outputs": [
    {
     "data": {
      "text/plain": [
       "'tr'"
      ]
     },
     "execution_count": 35,
     "metadata": {},
     "output_type": "execute_result"
    }
   ],
   "source": [
    "l[5][0:2]"
   ]
  },
  {
   "cell_type": "code",
   "execution_count": 36,
   "id": "4dc21ee3-c8fd-488b-8842-1e994675a659",
   "metadata": {},
   "outputs": [
    {
     "data": {
      "text/plain": [
       "[1, 254, 300, 555, 'sudhir', 'true', (5+5j), 30, 666]"
      ]
     },
     "execution_count": 36,
     "metadata": {},
     "output_type": "execute_result"
    }
   ],
   "source": [
    "l"
   ]
  },
  {
   "cell_type": "code",
   "execution_count": 37,
   "id": "1975e265-6de6-47ac-b174-1933bb056355",
   "metadata": {},
   "outputs": [
    {
     "ename": "TypeError",
     "evalue": "can only concatenate list (not \"int\") to list",
     "output_type": "error",
     "traceback": [
      "\u001b[0;31m---------------------------------------------------------------------------\u001b[0m",
      "\u001b[0;31mTypeError\u001b[0m                                 Traceback (most recent call last)",
      "Cell \u001b[0;32mIn[37], line 1\u001b[0m\n\u001b[0;32m----> 1\u001b[0m \u001b[43ml\u001b[49m\u001b[38;5;241;43m+\u001b[39;49m\u001b[38;5;241;43m5\u001b[39;49m\n",
      "\u001b[0;31mTypeError\u001b[0m: can only concatenate list (not \"int\") to list"
     ]
    }
   ],
   "source": [
    "l+5"
   ]
  },
  {
   "cell_type": "code",
   "execution_count": 38,
   "id": "43e6bf22-ee25-49f8-ae5c-cf7eea2b9f27",
   "metadata": {},
   "outputs": [],
   "source": [
    "ll=[3,4,5]"
   ]
  },
  {
   "cell_type": "code",
   "execution_count": 39,
   "id": "54d7cbc1-fb6f-404d-b406-cdbe1b6449c9",
   "metadata": {},
   "outputs": [
    {
     "data": {
      "text/plain": [
       "[1, 254, 300, 555, 'sudhir', 'true', (5+5j), 30, 666, 3, 4, 5]"
      ]
     },
     "execution_count": 39,
     "metadata": {},
     "output_type": "execute_result"
    }
   ],
   "source": [
    "l+ll"
   ]
  },
  {
   "cell_type": "code",
   "execution_count": 40,
   "id": "cfd21f6f-1131-48a3-ac53-77e4ed574485",
   "metadata": {},
   "outputs": [
    {
     "data": {
      "text/plain": [
       "[3, 4, 5]"
      ]
     },
     "execution_count": 40,
     "metadata": {},
     "output_type": "execute_result"
    }
   ],
   "source": [
    "ll"
   ]
  },
  {
   "cell_type": "code",
   "execution_count": 41,
   "id": "320435fb-0473-4d77-9351-d755a36c7d81",
   "metadata": {},
   "outputs": [
    {
     "data": {
      "text/plain": [
       "[3, 4, 5, 3, 4, 5, 3, 4, 5]"
      ]
     },
     "execution_count": 41,
     "metadata": {},
     "output_type": "execute_result"
    }
   ],
   "source": [
    "ll*3"
   ]
  },
  {
   "cell_type": "code",
   "execution_count": 42,
   "id": "9510762c-467d-4246-b924-0207e142a028",
   "metadata": {},
   "outputs": [
    {
     "data": {
      "text/plain": [
       "2"
      ]
     },
     "execution_count": 42,
     "metadata": {},
     "output_type": "execute_result"
    }
   ],
   "source": [
    "len('ll')"
   ]
  },
  {
   "cell_type": "code",
   "execution_count": 45,
   "id": "267856d3-fe2b-46a8-9c85-c0cd92f93f1c",
   "metadata": {},
   "outputs": [
    {
     "data": {
      "text/plain": [
       "1"
      ]
     },
     "execution_count": 45,
     "metadata": {},
     "output_type": "execute_result"
    }
   ],
   "source": [
    "len('1')"
   ]
  },
  {
   "cell_type": "code",
   "execution_count": 46,
   "id": "d294693c-60a9-4132-8c01-89d14a58ecb9",
   "metadata": {},
   "outputs": [
    {
     "data": {
      "text/plain": [
       "[1, 254, 300, 555, 'sudhir', 'true', (5+5j), 30, 666]"
      ]
     },
     "execution_count": 46,
     "metadata": {},
     "output_type": "execute_result"
    }
   ],
   "source": [
    "l"
   ]
  },
  {
   "cell_type": "code",
   "execution_count": 3,
   "id": "6c0eda5d-6f8f-4f49-9bf6-e57969fe1cda",
   "metadata": {},
   "outputs": [
    {
     "ename": "NameError",
     "evalue": "name 'l' is not defined",
     "output_type": "error",
     "traceback": [
      "\u001b[0;31m---------------------------------------------------------------------------\u001b[0m",
      "\u001b[0;31mNameError\u001b[0m                                 Traceback (most recent call last)",
      "Cell \u001b[0;32mIn[3], line 1\u001b[0m\n\u001b[0;32m----> 1\u001b[0m \u001b[38;5;28mlen\u001b[39m(\u001b[43ml\u001b[49m)\n",
      "\u001b[0;31mNameError\u001b[0m: name 'l' is not defined"
     ]
    }
   ],
   "source": [
    "len(l)"
   ]
  },
  {
   "cell_type": "code",
   "execution_count": 4,
   "id": "ec86378b-1467-43c4-90b3-dad0f359aa2f",
   "metadata": {},
   "outputs": [],
   "source": [
    "l=[1,254,300,555,\"sudhiu\" ,'true',5+5j,30,666]"
   ]
  },
  {
   "cell_type": "code",
   "execution_count": 5,
   "id": "3bb67c94-3120-43c2-a6ed-1d8d6a0fa11e",
   "metadata": {},
   "outputs": [
    {
     "data": {
      "text/plain": [
       "9"
      ]
     },
     "execution_count": 5,
     "metadata": {},
     "output_type": "execute_result"
    }
   ],
   "source": [
    "len(l)"
   ]
  },
  {
   "cell_type": "code",
   "execution_count": 6,
   "id": "2f7179be-2b2c-4a92-a245-78876cffac4d",
   "metadata": {},
   "outputs": [
    {
     "data": {
      "text/plain": [
       "'sudhiu'"
      ]
     },
     "execution_count": 6,
     "metadata": {},
     "output_type": "execute_result"
    }
   ],
   "source": [
    "l[4]"
   ]
  },
  {
   "cell_type": "code",
   "execution_count": 7,
   "id": "6d9b34f0-91f1-4a19-87f9-030501988d3c",
   "metadata": {},
   "outputs": [
    {
     "data": {
      "text/plain": [
       "'sud'"
      ]
     },
     "execution_count": 7,
     "metadata": {},
     "output_type": "execute_result"
    }
   ],
   "source": [
    "l[4][0:3]"
   ]
  },
  {
   "cell_type": "code",
   "execution_count": 1,
   "id": "7ded281a-8452-4411-9352-3cf80192ade6",
   "metadata": {},
   "outputs": [
    {
     "ename": "NameError",
     "evalue": "name 'l' is not defined",
     "output_type": "error",
     "traceback": [
      "\u001b[0;31m---------------------------------------------------------------------------\u001b[0m",
      "\u001b[0;31mNameError\u001b[0m                                 Traceback (most recent call last)",
      "Cell \u001b[0;32mIn[1], line 1\u001b[0m\n\u001b[0;32m----> 1\u001b[0m \u001b[43ml\u001b[49m\n",
      "\u001b[0;31mNameError\u001b[0m: name 'l' is not defined"
     ]
    }
   ],
   "source": [
    "l"
   ]
  },
  {
   "cell_type": "code",
   "execution_count": 2,
   "id": "026a82cf-d4a9-4a72-8f33-a4ef6f695f24",
   "metadata": {},
   "outputs": [],
   "source": [
    "l=[1,254,300,555,\"sudhiu\" ,'true',5+5j,30,666]"
   ]
  },
  {
   "cell_type": "code",
   "execution_count": 3,
   "id": "e6943fad-47d7-4761-bf2a-92dd420928c3",
   "metadata": {},
   "outputs": [
    {
     "data": {
      "text/plain": [
       "1"
      ]
     },
     "execution_count": 3,
     "metadata": {},
     "output_type": "execute_result"
    }
   ],
   "source": [
    "l[0]"
   ]
  },
  {
   "cell_type": "code",
   "execution_count": 4,
   "id": "9d26d478-d5e3-4561-a584-e2a9bb180127",
   "metadata": {},
   "outputs": [
    {
     "data": {
      "text/plain": [
       "[1, 254, 300, 555, 'sudhiu', 'true', (5+5j), 30, 666]"
      ]
     },
     "execution_count": 4,
     "metadata": {},
     "output_type": "execute_result"
    }
   ],
   "source": [
    "l[0:10:]"
   ]
  },
  {
   "cell_type": "code",
   "execution_count": 5,
   "id": "aadd6f0e-d83f-4a95-8923-3381d587e959",
   "metadata": {},
   "outputs": [
    {
     "data": {
      "text/plain": [
       "[1, 254, 300, 555, 'sudhiu', 'true', (5+5j), 30, 666]"
      ]
     },
     "execution_count": 5,
     "metadata": {},
     "output_type": "execute_result"
    }
   ],
   "source": [
    "l"
   ]
  },
  {
   "cell_type": "code",
   "execution_count": 1,
   "id": "513549b3-639e-4192-9915-e9e6b5e496e7",
   "metadata": {},
   "outputs": [
    {
     "ename": "NameError",
     "evalue": "name 'l' is not defined",
     "output_type": "error",
     "traceback": [
      "\u001b[0;31m---------------------------------------------------------------------------\u001b[0m",
      "\u001b[0;31mNameError\u001b[0m                                 Traceback (most recent call last)",
      "Cell \u001b[0;32mIn[1], line 1\u001b[0m\n\u001b[0;32m----> 1\u001b[0m \u001b[43ml\u001b[49m\u001b[38;5;241m.\u001b[39mappend(\u001b[38;5;241m5\u001b[39m)\n",
      "\u001b[0;31mNameError\u001b[0m: name 'l' is not defined"
     ]
    }
   ],
   "source": [
    "l.append(5)"
   ]
  },
  {
   "cell_type": "code",
   "execution_count": 2,
   "id": "40ac9081-3780-423f-a914-cc1d7621a32a",
   "metadata": {},
   "outputs": [
    {
     "ename": "NameError",
     "evalue": "name 'l' is not defined",
     "output_type": "error",
     "traceback": [
      "\u001b[0;31m---------------------------------------------------------------------------\u001b[0m",
      "\u001b[0;31mNameError\u001b[0m                                 Traceback (most recent call last)",
      "Cell \u001b[0;32mIn[2], line 1\u001b[0m\n\u001b[0;32m----> 1\u001b[0m \u001b[43ml\u001b[49m\n",
      "\u001b[0;31mNameError\u001b[0m: name 'l' is not defined"
     ]
    }
   ],
   "source": [
    "l"
   ]
  },
  {
   "cell_type": "code",
   "execution_count": 3,
   "id": "91bf107d-7daf-4b23-be18-fdbd90fea05c",
   "metadata": {},
   "outputs": [],
   "source": [
    "l=[1,254,300,555,\"sudhiu\" ,'true',5+5j,30,666]"
   ]
  },
  {
   "cell_type": "code",
   "execution_count": 5,
   "id": "d91918b7-afa8-4e4c-a5c8-93093e7731a2",
   "metadata": {},
   "outputs": [
    {
     "ename": "NameError",
     "evalue": "name 's' is not defined",
     "output_type": "error",
     "traceback": [
      "\u001b[0;31m---------------------------------------------------------------------------\u001b[0m",
      "\u001b[0;31mNameError\u001b[0m                                 Traceback (most recent call last)",
      "Cell \u001b[0;32mIn[5], line 1\u001b[0m\n\u001b[0;32m----> 1\u001b[0m l\u001b[38;5;241m.\u001b[39mappend(\u001b[43ms\u001b[49m)\n",
      "\u001b[0;31mNameError\u001b[0m: name 's' is not defined"
     ]
    }
   ],
   "source": [
    "l.append(s)"
   ]
  },
  {
   "cell_type": "code",
   "execution_count": 6,
   "id": "8d431bdd-19ef-4698-8a7c-1c54f5d599bc",
   "metadata": {},
   "outputs": [],
   "source": [
    "s='pwskill'"
   ]
  },
  {
   "cell_type": "code",
   "execution_count": 7,
   "id": "35ae8693-117c-40d7-a224-87c1097e0a46",
   "metadata": {},
   "outputs": [],
   "source": [
    "l.append(s)"
   ]
  },
  {
   "cell_type": "code",
   "execution_count": 8,
   "id": "bc697de0-cc1c-4354-8ac9-e7239fd9cba1",
   "metadata": {},
   "outputs": [
    {
     "data": {
      "text/plain": [
       "[1, 254, 300, 555, 'sudhiu', 'true', (5+5j), 30, 666, 5, 'pwskill']"
      ]
     },
     "execution_count": 8,
     "metadata": {},
     "output_type": "execute_result"
    }
   ],
   "source": [
    "l"
   ]
  },
  {
   "cell_type": "code",
   "execution_count": 9,
   "id": "7e252f0b-fff1-4a52-a696-82e3366d250a",
   "metadata": {},
   "outputs": [],
   "source": [
    "ll=[2,2,3,4,5,6,]"
   ]
  },
  {
   "cell_type": "code",
   "execution_count": 10,
   "id": "989f39d7-a594-4695-8290-2f0664cb191c",
   "metadata": {},
   "outputs": [],
   "source": [
    "l.append(ll)"
   ]
  },
  {
   "cell_type": "code",
   "execution_count": 11,
   "id": "e756e49a-9490-42b7-aca9-8568f796371f",
   "metadata": {},
   "outputs": [
    {
     "data": {
      "text/plain": [
       "[1,\n",
       " 254,\n",
       " 300,\n",
       " 555,\n",
       " 'sudhiu',\n",
       " 'true',\n",
       " (5+5j),\n",
       " 30,\n",
       " 666,\n",
       " 5,\n",
       " 'pwskill',\n",
       " [2, 2, 3, 4, 5, 6]]"
      ]
     },
     "execution_count": 11,
     "metadata": {},
     "output_type": "execute_result"
    }
   ],
   "source": [
    "l"
   ]
  },
  {
   "cell_type": "code",
   "execution_count": 13,
   "id": "f3c25edd-f6b4-49d5-a4e9-f42594d9661f",
   "metadata": {},
   "outputs": [
    {
     "data": {
      "text/plain": [
       "2"
      ]
     },
     "execution_count": 13,
     "metadata": {},
     "output_type": "execute_result"
    }
   ],
   "source": [
    "l[-1][1]"
   ]
  },
  {
   "cell_type": "code",
   "execution_count": 14,
   "id": "f1830a23-d701-4ca8-a2e2-3c5f7ed699da",
   "metadata": {},
   "outputs": [
    {
     "ename": "TypeError",
     "evalue": "'int' object is not iterable",
     "output_type": "error",
     "traceback": [
      "\u001b[0;31m---------------------------------------------------------------------------\u001b[0m",
      "\u001b[0;31mTypeError\u001b[0m                                 Traceback (most recent call last)",
      "Cell \u001b[0;32mIn[14], line 1\u001b[0m\n\u001b[0;32m----> 1\u001b[0m \u001b[43ml\u001b[49m\u001b[38;5;241;43m.\u001b[39;49m\u001b[43mextend\u001b[49m\u001b[43m(\u001b[49m\u001b[38;5;241;43m5\u001b[39;49m\u001b[43m)\u001b[49m\n",
      "\u001b[0;31mTypeError\u001b[0m: 'int' object is not iterable"
     ]
    }
   ],
   "source": [
    "l.extend(5)"
   ]
  },
  {
   "cell_type": "code",
   "execution_count": 15,
   "id": "869bde50-ec8b-47c3-bede-63c1b902da33",
   "metadata": {},
   "outputs": [
    {
     "ename": "TypeError",
     "evalue": "'int' object is not iterable",
     "output_type": "error",
     "traceback": [
      "\u001b[0;31m---------------------------------------------------------------------------\u001b[0m",
      "\u001b[0;31mTypeError\u001b[0m                                 Traceback (most recent call last)",
      "Cell \u001b[0;32mIn[15], line 1\u001b[0m\n\u001b[0;32m----> 1\u001b[0m \u001b[43ml\u001b[49m\u001b[38;5;241;43m.\u001b[39;49m\u001b[43mextend\u001b[49m\u001b[43m(\u001b[49m\u001b[38;5;241;43m6\u001b[39;49m\u001b[43m)\u001b[49m\n",
      "\u001b[0;31mTypeError\u001b[0m: 'int' object is not iterable"
     ]
    }
   ],
   "source": [
    "l.extend(6)"
   ]
  },
  {
   "cell_type": "code",
   "execution_count": 16,
   "id": "eed633eb-950c-44e1-a445-9d14710507d6",
   "metadata": {},
   "outputs": [
    {
     "data": {
      "text/plain": [
       "[1,\n",
       " 254,\n",
       " 300,\n",
       " 555,\n",
       " 'sudhiu',\n",
       " 'true',\n",
       " (5+5j),\n",
       " 30,\n",
       " 666,\n",
       " 5,\n",
       " 'pwskill',\n",
       " [2, 2, 3, 4, 5, 6]]"
      ]
     },
     "execution_count": 16,
     "metadata": {},
     "output_type": "execute_result"
    }
   ],
   "source": [
    "l"
   ]
  },
  {
   "cell_type": "code",
   "execution_count": 17,
   "id": "fe9985b6-237e-4eda-826f-9937a442d45d",
   "metadata": {},
   "outputs": [],
   "source": [
    "l.extend('sudhiu')"
   ]
  },
  {
   "cell_type": "code",
   "execution_count": 18,
   "id": "ad7b23c2-d0d5-41f9-b74e-926cdd885a85",
   "metadata": {},
   "outputs": [
    {
     "data": {
      "text/plain": [
       "[1,\n",
       " 254,\n",
       " 300,\n",
       " 555,\n",
       " 'sudhiu',\n",
       " 'true',\n",
       " (5+5j),\n",
       " 30,\n",
       " 666,\n",
       " 5,\n",
       " 'pwskill',\n",
       " [2, 2, 3, 4, 5, 6],\n",
       " 's',\n",
       " 'u',\n",
       " 'd',\n",
       " 'h',\n",
       " 'i',\n",
       " 'u']"
      ]
     },
     "execution_count": 18,
     "metadata": {},
     "output_type": "execute_result"
    }
   ],
   "source": [
    "l"
   ]
  },
  {
   "cell_type": "code",
   "execution_count": 19,
   "id": "2ebce769-3a77-4a03-822b-a332a0d2ed3a",
   "metadata": {},
   "outputs": [
    {
     "data": {
      "text/plain": [
       "[1,\n",
       " 254,\n",
       " 300,\n",
       " 555,\n",
       " 'sudhiu',\n",
       " 'true',\n",
       " (5+5j),\n",
       " 30,\n",
       " 666,\n",
       " 5,\n",
       " 'pwskill',\n",
       " [2, 2, 3, 4, 5, 6],\n",
       " 's',\n",
       " 'u',\n",
       " 'd',\n",
       " 'h',\n",
       " 'i',\n",
       " 'u']"
      ]
     },
     "execution_count": 19,
     "metadata": {},
     "output_type": "execute_result"
    }
   ],
   "source": [
    "l"
   ]
  },
  {
   "cell_type": "code",
   "execution_count": 20,
   "id": "0f987fcb-4ca1-49ac-a39d-05ad8307dc3d",
   "metadata": {},
   "outputs": [],
   "source": [
    "l.extend(\"bhai\")"
   ]
  },
  {
   "cell_type": "code",
   "execution_count": 21,
   "id": "d62f1ac7-ff1a-4b36-af0f-b111599e5065",
   "metadata": {},
   "outputs": [
    {
     "data": {
      "text/plain": [
       "[1,\n",
       " 254,\n",
       " 300,\n",
       " 555,\n",
       " 'sudhiu',\n",
       " 'true',\n",
       " (5+5j),\n",
       " 30,\n",
       " 666,\n",
       " 5,\n",
       " 'pwskill',\n",
       " [2, 2, 3, 4, 5, 6],\n",
       " 's',\n",
       " 'u',\n",
       " 'd',\n",
       " 'h',\n",
       " 'i',\n",
       " 'u',\n",
       " 'b',\n",
       " 'h',\n",
       " 'a',\n",
       " 'i']"
      ]
     },
     "execution_count": 21,
     "metadata": {},
     "output_type": "execute_result"
    }
   ],
   "source": [
    "l"
   ]
  },
  {
   "cell_type": "code",
   "execution_count": 22,
   "id": "c6ae2a01-06b2-4651-8805-265e6c05b3d2",
   "metadata": {},
   "outputs": [
    {
     "ename": "AttributeError",
     "evalue": "'list' object has no attribute 'eztend'",
     "output_type": "error",
     "traceback": [
      "\u001b[0;31m---------------------------------------------------------------------------\u001b[0m",
      "\u001b[0;31mAttributeError\u001b[0m                            Traceback (most recent call last)",
      "Cell \u001b[0;32mIn[22], line 1\u001b[0m\n\u001b[0;32m----> 1\u001b[0m \u001b[43ml\u001b[49m\u001b[38;5;241;43m.\u001b[39;49m\u001b[43meztend\u001b[49m(\u001b[38;5;124m'\u001b[39m\u001b[38;5;124m22222\u001b[39m\u001b[38;5;124m'\u001b[39m)\n",
      "\u001b[0;31mAttributeError\u001b[0m: 'list' object has no attribute 'eztend'"
     ]
    }
   ],
   "source": [
    "l.eztend('22222')"
   ]
  },
  {
   "cell_type": "code",
   "execution_count": 23,
   "id": "4a2b1dc6-b6b7-4b68-a5f4-ae54517fae48",
   "metadata": {},
   "outputs": [],
   "source": [
    "l.extend([4,5,6,7,8,9])"
   ]
  },
  {
   "cell_type": "code",
   "execution_count": 24,
   "id": "24bdd69a-2b6c-4ec5-a862-95b0ea6e8806",
   "metadata": {},
   "outputs": [
    {
     "data": {
      "text/plain": [
       "[1,\n",
       " 254,\n",
       " 300,\n",
       " 555,\n",
       " 'sudhiu',\n",
       " 'true',\n",
       " (5+5j),\n",
       " 30,\n",
       " 666,\n",
       " 5,\n",
       " 'pwskill',\n",
       " [2, 2, 3, 4, 5, 6],\n",
       " 's',\n",
       " 'u',\n",
       " 'd',\n",
       " 'h',\n",
       " 'i',\n",
       " 'u',\n",
       " 'b',\n",
       " 'h',\n",
       " 'a',\n",
       " 'i',\n",
       " 4,\n",
       " 5,\n",
       " 6,\n",
       " 7,\n",
       " 8,\n",
       " 9]"
      ]
     },
     "execution_count": 24,
     "metadata": {},
     "output_type": "execute_result"
    }
   ],
   "source": [
    "l"
   ]
  },
  {
   "cell_type": "code",
   "execution_count": 25,
   "id": "ee907259-1fb4-49d4-8f15-841c82d0fe8a",
   "metadata": {},
   "outputs": [],
   "source": [
    "l1=[1,18,12]"
   ]
  },
  {
   "cell_type": "code",
   "execution_count": 26,
   "id": "b1eee243-6fdb-4dd3-9d57-3a4ea7879918",
   "metadata": {},
   "outputs": [],
   "source": [
    "l1.insert(1,'sudhir')"
   ]
  },
  {
   "cell_type": "code",
   "execution_count": 27,
   "id": "cff7679f-88b8-4eba-9f68-a8d3fd3c0b55",
   "metadata": {},
   "outputs": [
    {
     "data": {
      "text/plain": [
       "[1, 'sudhir', 18, 12]"
      ]
     },
     "execution_count": 27,
     "metadata": {},
     "output_type": "execute_result"
    }
   ],
   "source": [
    "l1"
   ]
  },
  {
   "cell_type": "code",
   "execution_count": 28,
   "id": "a563d46d-9b4d-49db-82b7-5511d8cb3566",
   "metadata": {},
   "outputs": [],
   "source": [
    "l1.insert(12,'bhai')"
   ]
  },
  {
   "cell_type": "code",
   "execution_count": 29,
   "id": "657f3db1-34a7-4019-bfa9-fea01b60b0d4",
   "metadata": {},
   "outputs": [
    {
     "data": {
      "text/plain": [
       "[1, 'sudhir', 18, 12, 'bhai']"
      ]
     },
     "execution_count": 29,
     "metadata": {},
     "output_type": "execute_result"
    }
   ],
   "source": [
    "l1"
   ]
  },
  {
   "cell_type": "code",
   "execution_count": 30,
   "id": "66911500-ec2b-4edc-b66f-bc711e2754c0",
   "metadata": {},
   "outputs": [],
   "source": [
    "l1.insert(2,'Rohit')"
   ]
  },
  {
   "cell_type": "code",
   "execution_count": 31,
   "id": "8ba69c30-0099-4119-8bce-c21fc1926810",
   "metadata": {},
   "outputs": [
    {
     "data": {
      "text/plain": [
       "[1, 'sudhir', 'Rohit', 18, 12, 'bhai']"
      ]
     },
     "execution_count": 31,
     "metadata": {},
     "output_type": "execute_result"
    }
   ],
   "source": [
    "l1"
   ]
  },
  {
   "cell_type": "code",
   "execution_count": 32,
   "id": "51a9de86-df11-48d9-aa6c-5586ed706227",
   "metadata": {},
   "outputs": [],
   "source": [
    "l1.insert(2,[1,2,3,4,5,6,])"
   ]
  },
  {
   "cell_type": "code",
   "execution_count": 33,
   "id": "95f25508-1204-40e1-a131-1413519ff9b7",
   "metadata": {},
   "outputs": [
    {
     "data": {
      "text/plain": [
       "[1, 'sudhir', [1, 2, 3, 4, 5, 6], 'Rohit', 18, 12, 'bhai']"
      ]
     },
     "execution_count": 33,
     "metadata": {},
     "output_type": "execute_result"
    }
   ],
   "source": [
    "l1"
   ]
  },
  {
   "cell_type": "code",
   "execution_count": 34,
   "id": "33caa3e3-e458-4507-b62d-253ec9b6753a",
   "metadata": {},
   "outputs": [],
   "source": [
    "l1.insert(4,'sudhir')"
   ]
  },
  {
   "cell_type": "code",
   "execution_count": 35,
   "id": "370c4db9-6149-49fc-b6a5-93f84a65418e",
   "metadata": {},
   "outputs": [
    {
     "data": {
      "text/plain": [
       "[1, 'sudhir', [1, 2, 3, 4, 5, 6], 'Rohit', 'sudhir', 18, 12, 'bhai']"
      ]
     },
     "execution_count": 35,
     "metadata": {},
     "output_type": "execute_result"
    }
   ],
   "source": [
    "l1"
   ]
  },
  {
   "cell_type": "code",
   "execution_count": 36,
   "id": "2273dd2e-6f51-4f4e-9398-f95fa9c3db5a",
   "metadata": {},
   "outputs": [],
   "source": [
    "l1.insert(0,-1)"
   ]
  },
  {
   "cell_type": "code",
   "execution_count": 37,
   "id": "b1e02246-6a11-4788-88f6-fcbfda2f4d85",
   "metadata": {},
   "outputs": [
    {
     "data": {
      "text/plain": [
       "[-1, 1, 'sudhir', [1, 2, 3, 4, 5, 6], 'Rohit', 'sudhir', 18, 12, 'bhai']"
      ]
     },
     "execution_count": 37,
     "metadata": {},
     "output_type": "execute_result"
    }
   ],
   "source": [
    "l1"
   ]
  },
  {
   "cell_type": "code",
   "execution_count": 38,
   "id": "04b867a4-1a66-44e7-9a0c-d5042fc3c080",
   "metadata": {},
   "outputs": [],
   "source": [
    "l1.insert(-1,0)"
   ]
  },
  {
   "cell_type": "code",
   "execution_count": 39,
   "id": "683c337e-2bd2-44d6-b05c-509a6ca1f599",
   "metadata": {},
   "outputs": [
    {
     "data": {
      "text/plain": [
       "[-1, 1, 'sudhir', [1, 2, 3, 4, 5, 6], 'Rohit', 'sudhir', 18, 12, 0, 'bhai']"
      ]
     },
     "execution_count": 39,
     "metadata": {},
     "output_type": "execute_result"
    }
   ],
   "source": [
    "l1"
   ]
  },
  {
   "cell_type": "code",
   "execution_count": 40,
   "id": "d3787881-a424-42e0-bbf4-91e5457e4534",
   "metadata": {},
   "outputs": [],
   "source": [
    "l1.insert(-0,111)"
   ]
  },
  {
   "cell_type": "code",
   "execution_count": 41,
   "id": "37ad2487-399e-481d-a889-6996a05fae7f",
   "metadata": {},
   "outputs": [
    {
     "data": {
      "text/plain": [
       "[111,\n",
       " -1,\n",
       " 1,\n",
       " 'sudhir',\n",
       " [1, 2, 3, 4, 5, 6],\n",
       " 'Rohit',\n",
       " 'sudhir',\n",
       " 18,\n",
       " 12,\n",
       " 0,\n",
       " 'bhai']"
      ]
     },
     "execution_count": 41,
     "metadata": {},
     "output_type": "execute_result"
    }
   ],
   "source": [
    "l1"
   ]
  },
  {
   "cell_type": "code",
   "execution_count": 42,
   "id": "5400a257-f520-49d3-9e12-1b1592eb3aa1",
   "metadata": {},
   "outputs": [
    {
     "data": {
      "text/plain": [
       "'bhai'"
      ]
     },
     "execution_count": 42,
     "metadata": {},
     "output_type": "execute_result"
    }
   ],
   "source": [
    "l1.pop()"
   ]
  },
  {
   "cell_type": "code",
   "execution_count": 43,
   "id": "88fca546-cb8b-4874-8d0c-6800978b3155",
   "metadata": {},
   "outputs": [
    {
     "data": {
      "text/plain": [
       "[111, -1, 1, 'sudhir', [1, 2, 3, 4, 5, 6], 'Rohit', 'sudhir', 18, 12, 0]"
      ]
     },
     "execution_count": 43,
     "metadata": {},
     "output_type": "execute_result"
    }
   ],
   "source": [
    "l1"
   ]
  },
  {
   "cell_type": "code",
   "execution_count": 44,
   "id": "f8b0dad2-c936-464a-83b5-7635c45a9498",
   "metadata": {},
   "outputs": [
    {
     "data": {
      "text/plain": [
       "0"
      ]
     },
     "execution_count": 44,
     "metadata": {},
     "output_type": "execute_result"
    }
   ],
   "source": [
    "l1.pop()"
   ]
  },
  {
   "cell_type": "code",
   "execution_count": 45,
   "id": "4bf4768d-0e5a-4a67-a0e7-7f3b6a40f637",
   "metadata": {},
   "outputs": [
    {
     "data": {
      "text/plain": [
       "[111, -1, 1, 'sudhir', [1, 2, 3, 4, 5, 6], 'Rohit', 'sudhir', 18, 12]"
      ]
     },
     "execution_count": 45,
     "metadata": {},
     "output_type": "execute_result"
    }
   ],
   "source": [
    "l1"
   ]
  },
  {
   "cell_type": "code",
   "execution_count": 46,
   "id": "cc98e443-c396-4be1-b827-1424ee345009",
   "metadata": {},
   "outputs": [
    {
     "data": {
      "text/plain": [
       "'sudhir'"
      ]
     },
     "execution_count": 46,
     "metadata": {},
     "output_type": "execute_result"
    }
   ],
   "source": [
    "l1.pop(3)"
   ]
  },
  {
   "cell_type": "code",
   "execution_count": 47,
   "id": "913e5206-db21-4fc7-8c32-8e511d3fb452",
   "metadata": {},
   "outputs": [
    {
     "data": {
      "text/plain": [
       "18"
      ]
     },
     "execution_count": 47,
     "metadata": {},
     "output_type": "execute_result"
    }
   ],
   "source": [
    "l1.pop(6)"
   ]
  },
  {
   "cell_type": "code",
   "execution_count": 48,
   "id": "79a3d0b2-009a-4bef-953e-cccd1db0870d",
   "metadata": {},
   "outputs": [],
   "source": [
    "l1.remove('sudhir')"
   ]
  },
  {
   "cell_type": "code",
   "execution_count": 49,
   "id": "600a421a-0821-4454-806c-a1a458cd159e",
   "metadata": {},
   "outputs": [
    {
     "data": {
      "text/plain": [
       "[111, -1, 1, [1, 2, 3, 4, 5, 6], 'Rohit', 12]"
      ]
     },
     "execution_count": 49,
     "metadata": {},
     "output_type": "execute_result"
    }
   ],
   "source": [
    "l1"
   ]
  },
  {
   "cell_type": "code",
   "execution_count": 50,
   "id": "e46c2313-50d3-4b50-8af8-9dad1f7ef6e0",
   "metadata": {},
   "outputs": [
    {
     "data": {
      "text/plain": [
       "'Rohit'"
      ]
     },
     "execution_count": 50,
     "metadata": {},
     "output_type": "execute_result"
    }
   ],
   "source": [
    "l1.pop(4)"
   ]
  },
  {
   "cell_type": "code",
   "execution_count": 51,
   "id": "b95c0fdf-28ce-4019-b480-459a7b794fa8",
   "metadata": {},
   "outputs": [
    {
     "data": {
      "text/plain": [
       "[1, 2, 3, 4, 5, 6]"
      ]
     },
     "execution_count": 51,
     "metadata": {},
     "output_type": "execute_result"
    }
   ],
   "source": [
    "l1[3]"
   ]
  },
  {
   "cell_type": "code",
   "execution_count": 54,
   "id": "bec5881d-ff73-4a99-b82e-0d3344db306c",
   "metadata": {},
   "outputs": [
    {
     "ename": "TypeError",
     "evalue": "'builtin_function_or_method' object is not subscriptable",
     "output_type": "error",
     "traceback": [
      "\u001b[0;31m---------------------------------------------------------------------------\u001b[0m",
      "\u001b[0;31mTypeError\u001b[0m                                 Traceback (most recent call last)",
      "Cell \u001b[0;32mIn[54], line 1\u001b[0m\n\u001b[0;32m----> 1\u001b[0m \u001b[43ml1\u001b[49m\u001b[43m[\u001b[49m\u001b[38;5;241;43m3\u001b[39;49m\u001b[43m]\u001b[49m\u001b[38;5;241;43m.\u001b[39;49m\u001b[43mremove\u001b[49m\u001b[43m[\u001b[49m\u001b[38;5;241;43m6\u001b[39;49m\u001b[43m]\u001b[49m\n",
      "\u001b[0;31mTypeError\u001b[0m: 'builtin_function_or_method' object is not subscriptable"
     ]
    }
   ],
   "source": [
    "l1[3].remove[6]"
   ]
  },
  {
   "cell_type": "code",
   "execution_count": 53,
   "id": "fc382f0c-5dc7-4aad-af89-e75b48a8cabf",
   "metadata": {},
   "outputs": [
    {
     "data": {
      "text/plain": [
       "[111, -1, 1, [1, 2, 3, 4, 5, 6], 12]"
      ]
     },
     "execution_count": 53,
     "metadata": {},
     "output_type": "execute_result"
    }
   ],
   "source": [
    "l1"
   ]
  },
  {
   "cell_type": "code",
   "execution_count": 55,
   "id": "973ab03e-3d67-48b9-b6d6-dbdef0d9a9f9",
   "metadata": {},
   "outputs": [
    {
     "data": {
      "text/plain": [
       "[111, -1, 1, [1, 2, 3, 4, 5, 6], 12]"
      ]
     },
     "execution_count": 55,
     "metadata": {},
     "output_type": "execute_result"
    }
   ],
   "source": [
    "l1"
   ]
  },
  {
   "cell_type": "code",
   "execution_count": 56,
   "id": "60e385a7-0113-40f9-8e3c-98eddc9a8099",
   "metadata": {},
   "outputs": [
    {
     "data": {
      "text/plain": [
       "[1, 2, 3, 4, 5, 6]"
      ]
     },
     "execution_count": 56,
     "metadata": {},
     "output_type": "execute_result"
    }
   ],
   "source": [
    "l1[3]"
   ]
  },
  {
   "cell_type": "code",
   "execution_count": 59,
   "id": "dd858a9c-afbe-421a-8745-7a4e4bb3f46c",
   "metadata": {},
   "outputs": [
    {
     "ename": "AttributeError",
     "evalue": "'int' object has no attribute 'remove'",
     "output_type": "error",
     "traceback": [
      "\u001b[0;31m---------------------------------------------------------------------------\u001b[0m",
      "\u001b[0;31mAttributeError\u001b[0m                            Traceback (most recent call last)",
      "Cell \u001b[0;32mIn[59], line 1\u001b[0m\n\u001b[0;32m----> 1\u001b[0m \u001b[43ml1\u001b[49m\u001b[43m[\u001b[49m\u001b[38;5;241;43m2\u001b[39;49m\u001b[43m]\u001b[49m\u001b[38;5;241;43m.\u001b[39;49m\u001b[43mremove\u001b[49m[\u001b[38;5;241m3\u001b[39m]\n",
      "\u001b[0;31mAttributeError\u001b[0m: 'int' object has no attribute 'remove'"
     ]
    }
   ],
   "source": [
    "l1[2].remove[3]"
   ]
  },
  {
   "cell_type": "code",
   "execution_count": 60,
   "id": "907906f0-446a-4639-b49d-89804a8d6134",
   "metadata": {},
   "outputs": [
    {
     "data": {
      "text/plain": [
       "[111, -1, 1, [1, 2, 3, 4, 5, 6], 12]"
      ]
     },
     "execution_count": 60,
     "metadata": {},
     "output_type": "execute_result"
    }
   ],
   "source": [
    "l1"
   ]
  },
  {
   "cell_type": "code",
   "execution_count": 61,
   "id": "9faaf615-c2b8-47e1-9432-7c7efd587caa",
   "metadata": {},
   "outputs": [
    {
     "data": {
      "text/plain": [
       "[1, 2, 3, 4, 5, 6]"
      ]
     },
     "execution_count": 61,
     "metadata": {},
     "output_type": "execute_result"
    }
   ],
   "source": [
    "l1[3]"
   ]
  },
  {
   "cell_type": "code",
   "execution_count": 62,
   "id": "56f7395b-4b1f-4967-9235-c1c739ca1e10",
   "metadata": {},
   "outputs": [
    {
     "data": {
      "text/plain": [
       "[111, -1, 1, [1, 2, 3, 4, 5, 6], 12]"
      ]
     },
     "execution_count": 62,
     "metadata": {},
     "output_type": "execute_result"
    }
   ],
   "source": [
    "l1"
   ]
  },
  {
   "cell_type": "code",
   "execution_count": 63,
   "id": "1130b361-07c2-4cd5-8bdf-b9031642fe99",
   "metadata": {},
   "outputs": [],
   "source": [
    "l1[3].remove(6)"
   ]
  },
  {
   "cell_type": "code",
   "execution_count": 64,
   "id": "b0e200fb-fbbd-45f8-bae2-c5160b50a854",
   "metadata": {},
   "outputs": [
    {
     "data": {
      "text/plain": [
       "[111, -1, 1, [1, 2, 3, 4, 5], 12]"
      ]
     },
     "execution_count": 64,
     "metadata": {},
     "output_type": "execute_result"
    }
   ],
   "source": [
    "l1"
   ]
  },
  {
   "cell_type": "code",
   "execution_count": 65,
   "id": "2fb88328-c0e3-4e90-a51c-f92f95931a2b",
   "metadata": {},
   "outputs": [],
   "source": [
    "l1.append('sudhir')"
   ]
  },
  {
   "cell_type": "code",
   "execution_count": 66,
   "id": "2d8e8fe7-4b25-4be3-9567-4d308c87f231",
   "metadata": {},
   "outputs": [
    {
     "data": {
      "text/plain": [
       "[111, -1, 1, [1, 2, 3, 4, 5], 12, 'sudhir']"
      ]
     },
     "execution_count": 66,
     "metadata": {},
     "output_type": "execute_result"
    }
   ],
   "source": [
    "l1"
   ]
  },
  {
   "cell_type": "code",
   "execution_count": 69,
   "id": "78266d99-7a5d-4e48-9dc4-62a2aa0a9c3f",
   "metadata": {},
   "outputs": [
    {
     "ename": "AttributeError",
     "evalue": "'str' object has no attribute 'remove'",
     "output_type": "error",
     "traceback": [
      "\u001b[0;31m---------------------------------------------------------------------------\u001b[0m",
      "\u001b[0;31mAttributeError\u001b[0m                            Traceback (most recent call last)",
      "Cell \u001b[0;32mIn[69], line 1\u001b[0m\n\u001b[0;32m----> 1\u001b[0m \u001b[43ml1\u001b[49m\u001b[43m[\u001b[49m\u001b[38;5;241;43m5\u001b[39;49m\u001b[43m]\u001b[49m\u001b[38;5;241;43m.\u001b[39;49m\u001b[43mremove\u001b[49m(\u001b[38;5;241m2\u001b[39m)\n",
      "\u001b[0;31mAttributeError\u001b[0m: 'str' object has no attribute 'remove'"
     ]
    }
   ],
   "source": [
    "l1[5].remove(2)"
   ]
  },
  {
   "cell_type": "code",
   "execution_count": 70,
   "id": "8f902428-af8a-46dd-afe9-161e828f9d0e",
   "metadata": {},
   "outputs": [
    {
     "data": {
      "text/plain": [
       "[111, -1, 1, [1, 2, 3, 4, 5], 12, 'sudhir']"
      ]
     },
     "execution_count": 70,
     "metadata": {},
     "output_type": "execute_result"
    }
   ],
   "source": [
    "l1"
   ]
  },
  {
   "cell_type": "code",
   "execution_count": 71,
   "id": "b0e65025-2022-4214-9d7b-56a6ea039eb5",
   "metadata": {},
   "outputs": [
    {
     "data": {
      "text/plain": [
       "['sudhir', 12, [1, 2, 3, 4, 5], 1, -1, 111]"
      ]
     },
     "execution_count": 71,
     "metadata": {},
     "output_type": "execute_result"
    }
   ],
   "source": [
    "l1[::-1]"
   ]
  },
  {
   "cell_type": "code",
   "execution_count": 73,
   "id": "662ba81d-44a1-4926-9b6a-8d766b03eb57",
   "metadata": {},
   "outputs": [],
   "source": [
    "l1.reverse()"
   ]
  },
  {
   "cell_type": "code",
   "execution_count": 74,
   "id": "09871047-ebf8-4f35-af41-82266390e3a6",
   "metadata": {},
   "outputs": [
    {
     "data": {
      "text/plain": [
       "['sudhir', 12, [1, 2, 3, 4, 5], 1, -1, 111]"
      ]
     },
     "execution_count": 74,
     "metadata": {},
     "output_type": "execute_result"
    }
   ],
   "source": [
    "l1\n"
   ]
  },
  {
   "cell_type": "code",
   "execution_count": 75,
   "id": "c07808ee-c89e-4f11-8292-659cca53b75d",
   "metadata": {},
   "outputs": [
    {
     "ename": "TypeError",
     "evalue": "'<' not supported between instances of 'int' and 'str'",
     "output_type": "error",
     "traceback": [
      "\u001b[0;31m---------------------------------------------------------------------------\u001b[0m",
      "\u001b[0;31mTypeError\u001b[0m                                 Traceback (most recent call last)",
      "Cell \u001b[0;32mIn[75], line 1\u001b[0m\n\u001b[0;32m----> 1\u001b[0m \u001b[43ml1\u001b[49m\u001b[38;5;241;43m.\u001b[39;49m\u001b[43msort\u001b[49m\u001b[43m(\u001b[49m\u001b[43m)\u001b[49m\n",
      "\u001b[0;31mTypeError\u001b[0m: '<' not supported between instances of 'int' and 'str'"
     ]
    }
   ],
   "source": [
    "l1.sort()"
   ]
  },
  {
   "cell_type": "code",
   "execution_count": 76,
   "id": "5c8df930-8f0d-4e0a-a26e-2eb6af282b3c",
   "metadata": {},
   "outputs": [],
   "source": [
    "l2=[3,4,56,26,99,100,564,789]"
   ]
  },
  {
   "cell_type": "code",
   "execution_count": 77,
   "id": "291a485e-02e9-4ff9-a742-b7f06ce8a5ec",
   "metadata": {},
   "outputs": [],
   "source": [
    "l2.sort()"
   ]
  },
  {
   "cell_type": "code",
   "execution_count": 78,
   "id": "a8e76a3f-eab5-4dd1-bf59-9ea184ec2ae1",
   "metadata": {},
   "outputs": [
    {
     "data": {
      "text/plain": [
       "[3, 4, 26, 56, 99, 100, 564, 789]"
      ]
     },
     "execution_count": 78,
     "metadata": {},
     "output_type": "execute_result"
    }
   ],
   "source": [
    "l2"
   ]
  },
  {
   "cell_type": "code",
   "execution_count": 79,
   "id": "516ec3f5-62d0-4d2b-bb80-451f3c8832a3",
   "metadata": {},
   "outputs": [],
   "source": [
    "l3=[23,'sudhir',56,]"
   ]
  },
  {
   "cell_type": "code",
   "execution_count": 80,
   "id": "0b9949e9-ec91-4b7d-8f57-e8d817fa5d20",
   "metadata": {},
   "outputs": [
    {
     "ename": "TypeError",
     "evalue": "'<' not supported between instances of 'str' and 'int'",
     "output_type": "error",
     "traceback": [
      "\u001b[0;31m---------------------------------------------------------------------------\u001b[0m",
      "\u001b[0;31mTypeError\u001b[0m                                 Traceback (most recent call last)",
      "Cell \u001b[0;32mIn[80], line 1\u001b[0m\n\u001b[0;32m----> 1\u001b[0m \u001b[43ml3\u001b[49m\u001b[38;5;241;43m.\u001b[39;49m\u001b[43msort\u001b[49m\u001b[43m(\u001b[49m\u001b[43m)\u001b[49m\n",
      "\u001b[0;31mTypeError\u001b[0m: '<' not supported between instances of 'str' and 'int'"
     ]
    }
   ],
   "source": [
    "l3.sort()"
   ]
  },
  {
   "cell_type": "code",
   "execution_count": 81,
   "id": "7841c2a2-b9d0-463e-8b7b-a4d969ccaf7f",
   "metadata": {},
   "outputs": [],
   "source": [
    "l4=['sudhir','rohit','bhai']"
   ]
  },
  {
   "cell_type": "code",
   "execution_count": 83,
   "id": "37a17270-8310-4432-a586-09a457bc24bc",
   "metadata": {},
   "outputs": [
    {
     "data": {
      "text/plain": [
       "['bhai', 'rohit', 'sudhir']"
      ]
     },
     "execution_count": 83,
     "metadata": {},
     "output_type": "execute_result"
    }
   ],
   "source": [
    "l4\n"
   ]
  },
  {
   "cell_type": "code",
   "execution_count": 85,
   "id": "9eab72a6-8f33-4dfe-9081-7dce88ad582a",
   "metadata": {},
   "outputs": [
    {
     "data": {
      "text/plain": [
       "['bhai', 'rohit', 'sudhir']"
      ]
     },
     "execution_count": 85,
     "metadata": {},
     "output_type": "execute_result"
    }
   ],
   "source": [
    "l4"
   ]
  },
  {
   "cell_type": "code",
   "execution_count": 86,
   "id": "573fed3d-2c09-474a-a213-c40302686ab3",
   "metadata": {},
   "outputs": [],
   "source": [
    "l4.sort(reverse=True)"
   ]
  },
  {
   "cell_type": "code",
   "execution_count": 87,
   "id": "cacd321a-3523-4835-869c-953cc3a0c345",
   "metadata": {},
   "outputs": [
    {
     "data": {
      "text/plain": [
       "['sudhir', 'rohit', 'bhai']"
      ]
     },
     "execution_count": 87,
     "metadata": {},
     "output_type": "execute_result"
    }
   ],
   "source": [
    "l4"
   ]
  },
  {
   "cell_type": "code",
   "execution_count": 88,
   "id": "1dd8c578-bb6d-45a4-830e-795e6668cb9c",
   "metadata": {},
   "outputs": [
    {
     "data": {
      "text/plain": [
       "0"
      ]
     },
     "execution_count": 88,
     "metadata": {},
     "output_type": "execute_result"
    }
   ],
   "source": [
    "l4.count('bhsi')"
   ]
  },
  {
   "cell_type": "code",
   "execution_count": 89,
   "id": "f2547345-5a32-43a0-8c15-76d8eb8017c3",
   "metadata": {},
   "outputs": [
    {
     "data": {
      "text/plain": [
       "['sudhir', 'rohit', 'bhai']"
      ]
     },
     "execution_count": 89,
     "metadata": {},
     "output_type": "execute_result"
    }
   ],
   "source": [
    "l4"
   ]
  },
  {
   "cell_type": "code",
   "execution_count": 90,
   "id": "51634b86-cc78-44ad-a768-44eaaa1e01eb",
   "metadata": {},
   "outputs": [
    {
     "data": {
      "text/plain": [
       "1"
      ]
     },
     "execution_count": 90,
     "metadata": {},
     "output_type": "execute_result"
    }
   ],
   "source": [
    "l4.count('bhai')"
   ]
  },
  {
   "cell_type": "code",
   "execution_count": 91,
   "id": "7edb8074-5460-4712-a615-66820c12477c",
   "metadata": {},
   "outputs": [],
   "source": [
    "d='sudhir'"
   ]
  },
  {
   "cell_type": "code",
   "execution_count": 92,
   "id": "4a494275-4f9b-4d8f-a741-0bcbbbdd6512",
   "metadata": {},
   "outputs": [],
   "source": [
    "l5=[1,2,7,8,9]"
   ]
  },
  {
   "cell_type": "code",
   "execution_count": 96,
   "id": "a6ca953e-a922-46ba-87bc-34677af9de73",
   "metadata": {},
   "outputs": [],
   "source": [
    "l5[3]=56"
   ]
  },
  {
   "cell_type": "code",
   "execution_count": 97,
   "id": "3a2e1656-95dc-4fb1-a5b1-a436699e49e8",
   "metadata": {},
   "outputs": [
    {
     "data": {
      "text/plain": [
       "[1, 2, 7, 56, 9]"
      ]
     },
     "execution_count": 97,
     "metadata": {},
     "output_type": "execute_result"
    }
   ],
   "source": [
    "l5"
   ]
  },
  {
   "cell_type": "code",
   "execution_count": 98,
   "id": "dbae8e68-ac12-4c25-ba61-16c87a18b150",
   "metadata": {},
   "outputs": [
    {
     "data": {
      "text/plain": [
       "'sudhir'"
      ]
     },
     "execution_count": 98,
     "metadata": {},
     "output_type": "execute_result"
    }
   ],
   "source": [
    "d"
   ]
  },
  {
   "cell_type": "code",
   "execution_count": 99,
   "id": "6a11bfd3-21a1-499d-8934-46fe7f595eac",
   "metadata": {},
   "outputs": [
    {
     "data": {
      "text/plain": [
       "'mudhir'"
      ]
     },
     "execution_count": 99,
     "metadata": {},
     "output_type": "execute_result"
    }
   ],
   "source": [
    "d.replace('s','m')"
   ]
  },
  {
   "cell_type": "code",
   "execution_count": 100,
   "id": "0f1142a7-b5e4-4f10-8290-f9751e01d310",
   "metadata": {},
   "outputs": [
    {
     "data": {
      "text/plain": [
       "'sudhir'"
      ]
     },
     "execution_count": 100,
     "metadata": {},
     "output_type": "execute_result"
    }
   ],
   "source": [
    "d"
   ]
  },
  {
   "cell_type": "code",
   "execution_count": 101,
   "id": "80ba186b-5582-4d4c-81e7-bdf09cde628a",
   "metadata": {},
   "outputs": [],
   "source": [
    "t=(2,3,4,5,6,\"sudhir\",(5+5j),[7,8,9,])"
   ]
  },
  {
   "cell_type": "code",
   "execution_count": 102,
   "id": "ae2a666c-0034-4ee1-b41c-b9aa209b033f",
   "metadata": {},
   "outputs": [
    {
     "data": {
      "text/plain": [
       "(2, 3, 4, 5, 6, 'sudhir', (5+5j), [7, 8, 9])"
      ]
     },
     "execution_count": 102,
     "metadata": {},
     "output_type": "execute_result"
    }
   ],
   "source": [
    "t"
   ]
  },
  {
   "cell_type": "code",
   "execution_count": 104,
   "id": "09d97010-51b8-45e9-9755-7200d105c085",
   "metadata": {},
   "outputs": [
    {
     "data": {
      "text/plain": [
       "tuple"
      ]
     },
     "execution_count": 104,
     "metadata": {},
     "output_type": "execute_result"
    }
   ],
   "source": [
    "type(t)"
   ]
  },
  {
   "cell_type": "code",
   "execution_count": 105,
   "id": "a02b425c-9b51-43b9-b37d-de26b7ed7cf9",
   "metadata": {},
   "outputs": [
    {
     "data": {
      "text/plain": [
       "8"
      ]
     },
     "execution_count": 105,
     "metadata": {},
     "output_type": "execute_result"
    }
   ],
   "source": [
    "len(t)"
   ]
  },
  {
   "cell_type": "code",
   "execution_count": 106,
   "id": "fee89775-b2cf-44c6-8b01-d0cde48dcf7b",
   "metadata": {},
   "outputs": [
    {
     "data": {
      "text/plain": [
       "2"
      ]
     },
     "execution_count": 106,
     "metadata": {},
     "output_type": "execute_result"
    }
   ],
   "source": [
    "t[0\n",
    " ]"
   ]
  },
  {
   "cell_type": "code",
   "execution_count": 107,
   "id": "a6ee0e0f-e33a-43e7-9c6e-4aec328df360",
   "metadata": {},
   "outputs": [
    {
     "data": {
      "text/plain": [
       "[7, 8, 9]"
      ]
     },
     "execution_count": 107,
     "metadata": {},
     "output_type": "execute_result"
    }
   ],
   "source": [
    "t[-1]"
   ]
  },
  {
   "cell_type": "code",
   "execution_count": 108,
   "id": "e53e7dd6-581b-4e7c-a4e2-9896073c1318",
   "metadata": {},
   "outputs": [
    {
     "data": {
      "text/plain": [
       "([7, 8, 9], (5+5j), 'sudhir', 6, 5, 4, 3, 2)"
      ]
     },
     "execution_count": 108,
     "metadata": {},
     "output_type": "execute_result"
    }
   ],
   "source": [
    "t[::-1]"
   ]
  },
  {
   "cell_type": "code",
   "execution_count": 109,
   "id": "4d0b2174-79dd-4f24-ac6f-d20d23594f07",
   "metadata": {},
   "outputs": [
    {
     "data": {
      "text/plain": [
       "['sudhir', 'rohit', 'bhai']"
      ]
     },
     "execution_count": 109,
     "metadata": {},
     "output_type": "execute_result"
    }
   ],
   "source": [
    "l4"
   ]
  },
  {
   "cell_type": "code",
   "execution_count": 110,
   "id": "a99f7288-a782-48fa-b938-42c4903f4b47",
   "metadata": {},
   "outputs": [],
   "source": [
    "l4[0]=2222"
   ]
  },
  {
   "cell_type": "code",
   "execution_count": 111,
   "id": "61a634d7-bab2-4a0b-bf71-0c6b0f67b604",
   "metadata": {},
   "outputs": [
    {
     "data": {
      "text/plain": [
       "[2222, 'rohit', 'bhai']"
      ]
     },
     "execution_count": 111,
     "metadata": {},
     "output_type": "execute_result"
    }
   ],
   "source": [
    "l4"
   ]
  },
  {
   "cell_type": "code",
   "execution_count": 112,
   "id": "981d01e4-86c4-46ab-a7bd-cf0741016b05",
   "metadata": {},
   "outputs": [
    {
     "ename": "TypeError",
     "evalue": "'tuple' object does not support item assignment",
     "output_type": "error",
     "traceback": [
      "\u001b[0;31m---------------------------------------------------------------------------\u001b[0m",
      "\u001b[0;31mTypeError\u001b[0m                                 Traceback (most recent call last)",
      "Cell \u001b[0;32mIn[112], line 1\u001b[0m\n\u001b[0;32m----> 1\u001b[0m \u001b[43mt\u001b[49m\u001b[43m[\u001b[49m\u001b[38;5;241;43m0\u001b[39;49m\u001b[43m]\u001b[49m\u001b[38;5;241m=\u001b[39m\u001b[38;5;124m'\u001b[39m\u001b[38;5;124msudh\u001b[39m\u001b[38;5;124m'\u001b[39m\n",
      "\u001b[0;31mTypeError\u001b[0m: 'tuple' object does not support item assignment"
     ]
    }
   ],
   "source": [
    "t[0]='sudh'"
   ]
  },
  {
   "cell_type": "code",
   "execution_count": 113,
   "id": "5909c1e9-fc0e-4676-96b7-7d6516f1f2d6",
   "metadata": {},
   "outputs": [
    {
     "data": {
      "text/plain": [
       "(2, 3, 4, 5, 6, 'sudhir', (5+5j), [7, 8, 9])"
      ]
     },
     "execution_count": 113,
     "metadata": {},
     "output_type": "execute_result"
    }
   ],
   "source": [
    "t"
   ]
  },
  {
   "cell_type": "code",
   "execution_count": 114,
   "id": "a6c11022-f738-4441-abe7-7366d91dc385",
   "metadata": {},
   "outputs": [
    {
     "data": {
      "text/plain": [
       "1"
      ]
     },
     "execution_count": 114,
     "metadata": {},
     "output_type": "execute_result"
    }
   ],
   "source": [
    "t.count(5)"
   ]
  },
  {
   "cell_type": "code",
   "execution_count": 115,
   "id": "4b149f28-9776-4631-9c38-9cb96f1a06f2",
   "metadata": {},
   "outputs": [
    {
     "data": {
      "text/plain": [
       "5"
      ]
     },
     "execution_count": 115,
     "metadata": {},
     "output_type": "execute_result"
    }
   ],
   "source": [
    "t.index('sudhir')"
   ]
  },
  {
   "cell_type": "code",
   "execution_count": 116,
   "id": "fd89668f-f570-4ea1-ad30-4fd213b13b23",
   "metadata": {},
   "outputs": [],
   "source": [
    "s1={}"
   ]
  },
  {
   "cell_type": "code",
   "execution_count": 117,
   "id": "5444d51a-163e-4c3a-96c6-4a7f4624d48b",
   "metadata": {},
   "outputs": [
    {
     "data": {
      "text/plain": [
       "dict"
      ]
     },
     "execution_count": 117,
     "metadata": {},
     "output_type": "execute_result"
    }
   ],
   "source": [
    "type(s1\n",
    "    )"
   ]
  },
  {
   "cell_type": "code",
   "execution_count": 118,
   "id": "e9c52d90-492b-49c4-9155-d8f94ce1bb10",
   "metadata": {},
   "outputs": [],
   "source": [
    "s2={2,3,4,5,6}"
   ]
  },
  {
   "cell_type": "code",
   "execution_count": 119,
   "id": "a447ccb1-523c-4df5-905f-a5bef20f87c5",
   "metadata": {},
   "outputs": [
    {
     "data": {
      "text/plain": [
       "set"
      ]
     },
     "execution_count": 119,
     "metadata": {},
     "output_type": "execute_result"
    }
   ],
   "source": [
    "type(s2)"
   ]
  },
  {
   "cell_type": "markdown",
   "id": "42cb0f00-4102-45dc-9c69-3a8e3f642afe",
   "metadata": {},
   "source": []
  },
  {
   "cell_type": "code",
   "execution_count": 15,
   "id": "9747fc06-52e4-425a-865d-616239e880d4",
   "metadata": {},
   "outputs": [],
   "source": [
    "s6=[2,3,4,5,6,7,8,9,1,2,3,1,3,2,3,1,3,2,3,4,5,6,7,8,9,8,7,'sudhir','Sudhir']"
   ]
  },
  {
   "cell_type": "code",
   "execution_count": 13,
   "id": "768a9504-f648-47b1-a208-fd034bd5c92b",
   "metadata": {},
   "outputs": [
    {
     "data": {
      "text/plain": [
       "{1, 2, 3, 4, 5, 6, 7, 8, 9, 'Sudhir', 'sudhir'}"
      ]
     },
     "execution_count": 13,
     "metadata": {},
     "output_type": "execute_result"
    }
   ],
   "source": [
    "s6"
   ]
  },
  {
   "cell_type": "code",
   "execution_count": 16,
   "id": "b6b230a7-8f06-4d98-bfe9-e9e21c454fb2",
   "metadata": {},
   "outputs": [
    {
     "data": {
      "text/plain": [
       "{1, 2, 3, 4, 5, 6, 7, 8, 9, 'Sudhir', 'sudhir'}"
      ]
     },
     "execution_count": 16,
     "metadata": {},
     "output_type": "execute_result"
    }
   ],
   "source": [
    "set(s6)"
   ]
  },
  {
   "cell_type": "code",
   "execution_count": 17,
   "id": "c9411f43-ad9c-46f4-84b5-2c1a47645c29",
   "metadata": {},
   "outputs": [
    {
     "data": {
      "text/plain": [
       "[2,\n",
       " 3,\n",
       " 4,\n",
       " 5,\n",
       " 6,\n",
       " 7,\n",
       " 8,\n",
       " 9,\n",
       " 1,\n",
       " 2,\n",
       " 3,\n",
       " 1,\n",
       " 3,\n",
       " 2,\n",
       " 3,\n",
       " 1,\n",
       " 3,\n",
       " 2,\n",
       " 3,\n",
       " 4,\n",
       " 5,\n",
       " 6,\n",
       " 7,\n",
       " 8,\n",
       " 9,\n",
       " 8,\n",
       " 7,\n",
       " 'sudhir',\n",
       " 'Sudhir']"
      ]
     },
     "execution_count": 17,
     "metadata": {},
     "output_type": "execute_result"
    }
   ],
   "source": [
    "s6"
   ]
  },
  {
   "cell_type": "code",
   "execution_count": 19,
   "id": "3fbadacb-2bc2-4bc5-90d7-b3c91ca2fa06",
   "metadata": {},
   "outputs": [],
   "source": [
    "s6=list(set(s6))"
   ]
  },
  {
   "cell_type": "code",
   "execution_count": 20,
   "id": "351cdd77-0a1d-4a2d-97f4-8145c6b17abb",
   "metadata": {},
   "outputs": [
    {
     "data": {
      "text/plain": [
       "['sudhir', 1, 2, 3, 4, 5, 6, 7, 8, 9, 'Sudhir']"
      ]
     },
     "execution_count": 20,
     "metadata": {},
     "output_type": "execute_result"
    }
   ],
   "source": [
    "s6"
   ]
  },
  {
   "cell_type": "code",
   "execution_count": 22,
   "id": "affbd741-7be8-47e5-b884-fa9d5713fb62",
   "metadata": {},
   "outputs": [],
   "source": [
    "s5={254,256,369,258,'d','c','w',123}"
   ]
  },
  {
   "cell_type": "code",
   "execution_count": 23,
   "id": "5cfc27db-1ea5-4a5f-a666-542708b56485",
   "metadata": {},
   "outputs": [
    {
     "data": {
      "text/plain": [
       "{123, 254, 256, 258, 369, 'c', 'd', 'w'}"
      ]
     },
     "execution_count": 23,
     "metadata": {},
     "output_type": "execute_result"
    }
   ],
   "source": [
    "s5"
   ]
  },
  {
   "cell_type": "code",
   "execution_count": 25,
   "id": "d362093c-0173-4086-a64d-58603ddb4605",
   "metadata": {},
   "outputs": [],
   "source": [
    "s5.add(2)"
   ]
  },
  {
   "cell_type": "markdown",
   "id": "5d10151e-7e36-4def-b5bf-ffd42e96b7f9",
   "metadata": {},
   "source": [
    "s5"
   ]
  },
  {
   "cell_type": "code",
   "execution_count": 26,
   "id": "eb510cf1-89dc-4700-a91f-38df0e5442c3",
   "metadata": {},
   "outputs": [
    {
     "data": {
      "text/plain": [
       "{123, 2, 254, 256, 258, 369, 'c', 'd', 'w'}"
      ]
     },
     "execution_count": 26,
     "metadata": {},
     "output_type": "execute_result"
    }
   ],
   "source": [
    "s5"
   ]
  },
  {
   "cell_type": "code",
   "execution_count": 27,
   "id": "54299381-c854-4b59-aa82-a05737ab1dd5",
   "metadata": {},
   "outputs": [],
   "source": [
    "s5.remove(2)"
   ]
  },
  {
   "cell_type": "code",
   "execution_count": 28,
   "id": "73cd029a-2fee-46ae-8ac9-b74f34af23bd",
   "metadata": {},
   "outputs": [
    {
     "data": {
      "text/plain": [
       "{123, 254, 256, 258, 369, 'c', 'd', 'w'}"
      ]
     },
     "execution_count": 28,
     "metadata": {},
     "output_type": "execute_result"
    }
   ],
   "source": [
    "s5"
   ]
  },
  {
   "cell_type": "code",
   "execution_count": null,
   "id": "133625c8-7695-44ed-a134-14cf4842d63e",
   "metadata": {},
   "outputs": [],
   "source": []
  }
 ],
 "metadata": {
  "kernelspec": {
   "display_name": "Python 3 (ipykernel)",
   "language": "python",
   "name": "python3"
  },
  "language_info": {
   "codemirror_mode": {
    "name": "ipython",
    "version": 3
   },
   "file_extension": ".py",
   "mimetype": "text/x-python",
   "name": "python",
   "nbconvert_exporter": "python",
   "pygments_lexer": "ipython3",
   "version": "3.10.8"
  }
 },
 "nbformat": 4,
 "nbformat_minor": 5
}
